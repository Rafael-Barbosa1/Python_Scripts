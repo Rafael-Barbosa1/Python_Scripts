{
 "cells": [
  {
   "cell_type": "markdown",
   "metadata": {},
   "source": [
    "# Introdução\n",
    "---\n",
    "\n",
    "\n",
    "O presente notebook apresenta algumas funcionalidades do python. Ele está baseado no livro [Python Data Science Handbook](https://jakevdp.github.io/PythonDataScienceHandbook/) do Jake VanderPlas. \n",
    "\n",
    "Os arquivos serão divididos conforme os capítulos do livro, tentarei não deixar muito grande os arquivos pra deixar o scroll e a leitura mais de boas. Alguns materiais serão avulsos, irei deixar o link para eu (e você leitor) nos lembrarmos e também deixar os créditos para os autores.\n",
    "\n",
    "**Nota:** Essa é uma forma de aprendizado minha, isto é, como eu venho de um nível intermediário em R, algumas partes não irei mostrar e também não é exatamente um tutorial de python."
   ]
  },
  {
   "cell_type": "markdown",
   "metadata": {},
   "source": [
    "## Capítulo 1: IPython: Beyond Normal Python (IPython: Além do Python Normal)"
   ]
  },
  {
   "cell_type": "markdown",
   "metadata": {},
   "source": [
    "1.1 Shell or Notebook? (Literalmente Shell ou em Notebook)\n",
    "\n",
    "---\n",
    "\n",
    "O autor utiliza o IPython como interpretador do Python. Também menciona que existem duas formas de acessar o IPython, podendo ser via shell ou notebook.\n",
    "\n",
    "**O que é um/uma Shell:** Em uma [pergunta do StackOverflow](https://pt.stackoverflow.com/questions/121448/qual-%C3%A9-a-diferen%C3%A7a-entre-o-idle-python-3-5-shell-e-python-3-5-cmd), o guerreiro responde que uma das funcionalidades da Shell é ter que rodar uma linha por vez, onde ele também que nesse ambiente é relativamente ruim de se debuggar um código.\n",
    "\n",
    "**O que é um notebook:** É uma interação (fácil ?) entre texto e código. O que ocasiona na flexibilidade na criação de tutoriais e aprendizados individuais (como um caderno), por exemplo.\n",
    "\n",
    "[Aqui](https://stackoverflow.com/questions/12370457/what-is-the-difference-between-python-and-ipython) uma explicação da diferença entre shell e notebook (em inglês). \n",
    "\n",
    "---\n",
    "\n",
    "1.2 Help and Documentation in IPython (Como pedir ajuda)\n",
    "\n",
    "![ChessUrl](https://media.giphy.com/media/JWiPeGrr8Ms92/giphy.gif)\n",
    "\n"
   ]
  },
  {
   "cell_type": "code",
   "execution_count": null,
   "metadata": {},
   "outputs": [],
   "source": []
  }
 ],
 "metadata": {
  "kernelspec": {
   "display_name": "Python 3",
   "language": "python",
   "name": "python3"
  },
  "language_info": {
   "codemirror_mode": {
    "name": "ipython",
    "version": 3
   },
   "file_extension": ".py",
   "mimetype": "text/x-python",
   "name": "python",
   "nbconvert_exporter": "python",
   "pygments_lexer": "ipython3",
   "version": "3.8.1"
  }
 },
 "nbformat": 4,
 "nbformat_minor": 4
}
