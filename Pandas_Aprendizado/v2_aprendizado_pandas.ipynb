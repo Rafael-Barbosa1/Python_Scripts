{
 "cells": [
  {
   "cell_type": "markdown",
   "metadata": {},
   "source": [
    "# Aprendizado da biblioteca Pandas no Python\n",
    "\n",
    "---\n",
    "\n",
    "Este é um tutorial que estou fazendo para tentar aprimorar a versão anterior e melhorar as skills em análise de dados.\n",
    "\n",
    "\n",
    "<p align=\"center\">\n",
    "  <img alt=\"decision_tree\" src=\"https://mapanamao.com.br/wp-content/uploads/2020/01/pandas-na-china.jpeg\" alt=\"drawing\" width=\"600\" height=\"400\"/>\n",
    "  <br>\n",
    "    <em> <b>Retirado de:</b> https://mapanamao.com.br/pandas-na-china/ </em>\n",
    "</p>\n"
   ]
  },
  {
   "cell_type": "markdown",
   "metadata": {},
   "source": [
    "## 1. Importando a biblioteca"
   ]
  },
  {
   "cell_type": "code",
   "execution_count": 1,
   "metadata": {},
   "outputs": [],
   "source": [
    "import pandas as pd"
   ]
  }
 ],
 "metadata": {
  "kernelspec": {
   "display_name": "Python 3",
   "language": "python",
   "name": "python3"
  },
  "language_info": {
   "codemirror_mode": {
    "name": "ipython",
    "version": 3
   },
   "file_extension": ".py",
   "mimetype": "text/x-python",
   "name": "python",
   "nbconvert_exporter": "python",
   "pygments_lexer": "ipython3",
   "version": "3.8.2"
  }
 },
 "nbformat": 4,
 "nbformat_minor": 4
}
