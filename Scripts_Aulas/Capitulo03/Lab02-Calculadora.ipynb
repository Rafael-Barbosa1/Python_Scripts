{
 "cells": [
  {
   "cell_type": "markdown",
   "metadata": {},
   "source": [
    "## Lab02 - Criando uma calculoradora\n",
    "\n",
    "> 1: Soma\n",
    "\n",
    "> 2: Subtração\n",
    "\n",
    "> 3: Multiplicação\n",
    "\n",
    "> 4: Divisão"
   ]
  },
  {
   "cell_type": "code",
   "execution_count": 1,
   "metadata": {},
   "outputs": [
    {
     "name": "stdout",
     "output_type": "stream",
     "text": [
      "Qual a operação você deseja ? (1: Soma, 2: Subtração, 3: Multiplicação, 4: Divisão) 1\n",
      "Qual o primeiro número: 2\n",
      "Qual o segundo número: 3\n"
     ]
    }
   ],
   "source": [
    "operacao = int(input('Qual a operação você deseja ? (1: Soma, 2: Subtração, 3: Multiplicação, 4: Divisão) '))\n",
    "num1 = float(input('Qual o primeiro número: '))\n",
    "num2 = float(input('Qual o segundo número: '))"
   ]
  },
  {
   "cell_type": "code",
   "execution_count": 3,
   "metadata": {},
   "outputs": [
    {
     "name": "stdout",
     "output_type": "stream",
     "text": [
      "O resultado é: 5.0\n"
     ]
    }
   ],
   "source": [
    "if (operacao == 1):\n",
    "    \n",
    "    print('O resultado é:', num1 + num2)\n",
    "\n",
    "elif (operacao == 2):\n",
    "        \n",
    "    print('O resultado é:', num1 - num2)\n",
    "        \n",
    "elif (operacao == 3):\n",
    "            \n",
    "    print('O resultado é:', num1 * num2)\n",
    "            \n",
    "elif (operacao == 4):\n",
    "                \n",
    "    print('O resultado é:', num1/num2)\n",
    "                \n",
    "else: \n",
    "    \n",
    "    print('Nenhuma das operações registradas !')"
   ]
  },
  {
   "cell_type": "code",
   "execution_count": null,
   "metadata": {},
   "outputs": [],
   "source": []
  },
  {
   "cell_type": "code",
   "execution_count": null,
   "metadata": {},
   "outputs": [],
   "source": []
  }
 ],
 "metadata": {
  "kernelspec": {
   "display_name": "Python 3",
   "language": "python",
   "name": "python3"
  },
  "language_info": {
   "codemirror_mode": {
    "name": "ipython",
    "version": 3
   },
   "file_extension": ".py",
   "mimetype": "text/x-python",
   "name": "python",
   "nbconvert_exporter": "python",
   "pygments_lexer": "ipython3",
   "version": "3.8.2"
  }
 },
 "nbformat": 4,
 "nbformat_minor": 4
}
