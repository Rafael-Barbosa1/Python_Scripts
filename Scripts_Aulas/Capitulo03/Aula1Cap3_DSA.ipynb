{
 "cells": [
  {
   "cell_type": "markdown",
   "metadata": {},
   "source": [
    "## Condicional If"
   ]
  },
  {
   "cell_type": "code",
   "execution_count": 1,
   "metadata": {},
   "outputs": [
    {
     "name": "stdout",
     "output_type": "stream",
     "text": [
      "Maior\n"
     ]
    }
   ],
   "source": [
    "if 5 > 3:\n",
    "    print('Maior')"
   ]
  },
  {
   "cell_type": "markdown",
   "metadata": {},
   "source": [
    "### If else"
   ]
  },
  {
   "cell_type": "code",
   "execution_count": 2,
   "metadata": {},
   "outputs": [
    {
     "name": "stdout",
     "output_type": "stream",
     "text": [
      "Maior\n"
     ]
    }
   ],
   "source": [
    "if 5 > 3:\n",
    "    print('Maior')\n",
    "else: \n",
    "    print('Menor')"
   ]
  },
  {
   "cell_type": "code",
   "execution_count": 3,
   "metadata": {},
   "outputs": [
    {
     "name": "stdout",
     "output_type": "stream",
     "text": [
      "Verdadeiro\n"
     ]
    }
   ],
   "source": [
    "if 5 == 5:\n",
    "    print(\"Verdadeiro\")"
   ]
  },
  {
   "cell_type": "markdown",
   "metadata": {},
   "source": [
    "### Condicionais aninhados"
   ]
  },
  {
   "cell_type": "code",
   "execution_count": 4,
   "metadata": {},
   "outputs": [
    {
     "name": "stdout",
     "output_type": "stream",
     "text": [
      "Vai para o exército\n"
     ]
    }
   ],
   "source": [
    "idade = 18\n",
    "\n",
    "if idade >= 18:\n",
    "    print(\"Vai para o exército\")"
   ]
  },
  {
   "cell_type": "markdown",
   "metadata": {},
   "source": [
    "### Operador and"
   ]
  },
  {
   "cell_type": "code",
   "execution_count": 5,
   "metadata": {},
   "outputs": [
    {
     "name": "stdout",
     "output_type": "stream",
     "text": [
      "Rafael vai para o exército\n"
     ]
    }
   ],
   "source": [
    "idade = 18\n",
    "nome = 'Rafael'\n",
    "\n",
    "if (idade >= 18) and (nome == 'Rafael'):\n",
    "    print('Rafael vai para o exército')"
   ]
  },
  {
   "cell_type": "markdown",
   "metadata": {},
   "source": [
    "### Operador or"
   ]
  },
  {
   "cell_type": "code",
   "execution_count": 6,
   "metadata": {},
   "outputs": [
    {
     "name": "stdout",
     "output_type": "stream",
     "text": [
      "Rafael vai para o exército\n"
     ]
    }
   ],
   "source": [
    "if (idade >= 18) or (nome == 'Rafael'):\n",
    "    print('Rafael vai para o exército')"
   ]
  },
  {
   "cell_type": "markdown",
   "metadata": {},
   "source": [
    "### Elif"
   ]
  },
  {
   "cell_type": "code",
   "execution_count": 7,
   "metadata": {},
   "outputs": [
    {
     "name": "stdout",
     "output_type": "stream",
     "text": [
      "Hoje não fará sol\n"
     ]
    }
   ],
   "source": [
    "dia = 'Terça'\n",
    "\n",
    "if dia == 'Segunda':\n",
    "    print('Hoje fará sol')\n",
    "elif dia == 'Terça':\n",
    "    print('Hoje não fará sol')\n",
    "else: \n",
    "    print('Sem previsão de chuva')"
   ]
  },
  {
   "cell_type": "code",
   "execution_count": 10,
   "metadata": {},
   "outputs": [
    {
     "name": "stdout",
     "output_type": "stream",
     "text": [
      "Qual a disciplina ? Geografia\n",
      "Qual a nota final ? 5\n",
      "Qual o semestre do aluno ? 2\n"
     ]
    }
   ],
   "source": [
    "disciplina = input('Qual a disciplina ? ')\n",
    "nota_final = float(input('Qual a nota final ? '))\n",
    "semestre = input('Qual o semestre do aluno ? ')"
   ]
  },
  {
   "cell_type": "code",
   "execution_count": 11,
   "metadata": {},
   "outputs": [
    {
     "name": "stdout",
     "output_type": "stream",
     "text": [
      "Você foi aprovado em Geografia com nota final 5.0\n"
     ]
    }
   ],
   "source": [
    "if disciplina == 'Geografia' and float(nota_final) >= 5 and int(semestre) != 1:\n",
    "    print('Você foi aprovado em %s com nota final %r' %(disciplina, nota_final))\n",
    "else: \n",
    "    print('Você foi reprovado')"
   ]
  },
  {
   "cell_type": "code",
   "execution_count": null,
   "metadata": {},
   "outputs": [],
   "source": []
  }
 ],
 "metadata": {
  "kernelspec": {
   "display_name": "Python 3",
   "language": "python",
   "name": "python3"
  },
  "language_info": {
   "codemirror_mode": {
    "name": "ipython",
    "version": 3
   },
   "file_extension": ".py",
   "mimetype": "text/x-python",
   "name": "python",
   "nbconvert_exporter": "python",
   "pygments_lexer": "ipython3",
   "version": "3.8.2"
  }
 },
 "nbformat": 4,
 "nbformat_minor": 4
}
