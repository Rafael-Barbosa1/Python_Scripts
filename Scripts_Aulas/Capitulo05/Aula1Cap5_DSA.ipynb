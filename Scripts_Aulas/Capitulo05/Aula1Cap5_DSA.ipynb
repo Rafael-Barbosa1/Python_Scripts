{
 "cells": [
  {
   "cell_type": "markdown",
   "metadata": {},
   "source": [
    "## Classes"
   ]
  },
  {
   "cell_type": "code",
   "execution_count": 1,
   "metadata": {},
   "outputs": [],
   "source": [
    "#--- Criando uma classe Livro:\n",
    "\n",
    "class Livro:\n",
    "    \n",
    "    #--- O método __init__ vai inicializar cada objeto criado a partir desta classe\n",
    "    #--- (self) é uma referência a cada atributo de um objeto criado a partir desta classe\n",
    "    \n",
    "    def __init__(self):\n",
    "        \n",
    "        self.titulo = 'O monge e o Executivo'\n",
    "        self.isbn = 999849\n",
    "        \n",
    "        print('Construtor chamado para criar um objeto desta classe')\n",
    "        \n",
    "        \n",
    "    def imprime(self)     :\n",
    "        \n",
    "        print('Foi criado o livro %q com ISBN %w' %(self.titulo, self.isbn))\n",
    "        "
   ]
  },
  {
   "cell_type": "code",
   "execution_count": 2,
   "metadata": {},
   "outputs": [
    {
     "name": "stdout",
     "output_type": "stream",
     "text": [
      "Construtor chamado para criar um objeto desta classe\n"
     ]
    }
   ],
   "source": [
    "#--- Criando uma instância da classe Livro:\n",
    "\n",
    "Livro1 = Livro()"
   ]
  },
  {
   "cell_type": "code",
   "execution_count": 3,
   "metadata": {},
   "outputs": [
    {
     "data": {
      "text/plain": [
       "__main__.Livro"
      ]
     },
     "execution_count": 3,
     "metadata": {},
     "output_type": "execute_result"
    }
   ],
   "source": [
    "type(Livro1)"
   ]
  },
  {
   "cell_type": "code",
   "execution_count": 9,
   "metadata": {},
   "outputs": [
    {
     "data": {
      "text/plain": [
       "'O monge e o Executivo'"
      ]
     },
     "execution_count": 9,
     "metadata": {},
     "output_type": "execute_result"
    }
   ],
   "source": [
    "Livro1.titulo"
   ]
  },
  {
   "cell_type": "code",
   "execution_count": 10,
   "metadata": {},
   "outputs": [
    {
     "data": {
      "text/plain": [
       "<bound method Livro.imprime of <__main__.Livro object at 0x05DD1F88>>"
      ]
     },
     "execution_count": 10,
     "metadata": {},
     "output_type": "execute_result"
    }
   ],
   "source": [
    "Livro1.imprime"
   ]
  },
  {
   "cell_type": "code",
   "execution_count": 14,
   "metadata": {},
   "outputs": [],
   "source": [
    "class Livro:\n",
    "    \n",
    "    #--- O método __init__ vai inicializar cada objeto criado a partir desta classe\n",
    "    #--- (self) é uma referência a cada atributo de um objeto criado a partir desta classe\n",
    "    \n",
    "    def __init__(self,  titulo, isbn):\n",
    "        \n",
    "        self.titulo = titulo\n",
    "        self.isbn = isbn\n",
    "        \n",
    "        print('Construtor chamado para criar um objeto desta classe')\n",
    "        \n",
    "        \n",
    "    def imprime(self, titulo, isbn)     :\n",
    "        \n",
    "        print('Este é o livro %q e ISBN %w' %(titulo, isbn))\n",
    "        "
   ]
  },
  {
   "cell_type": "code",
   "execution_count": 15,
   "metadata": {},
   "outputs": [
    {
     "name": "stdout",
     "output_type": "stream",
     "text": [
      "Construtor chamado para criar um objeto desta classe\n"
     ]
    }
   ],
   "source": [
    "Livro2 = Livro('A menina que Roubava Livros', 7772726)"
   ]
  },
  {
   "cell_type": "code",
   "execution_count": 16,
   "metadata": {},
   "outputs": [
    {
     "data": {
      "text/plain": [
       "'A menina que Roubava Livros'"
      ]
     },
     "execution_count": 16,
     "metadata": {},
     "output_type": "execute_result"
    }
   ],
   "source": [
    "Livro2.titulo"
   ]
  },
  {
   "cell_type": "code",
   "execution_count": 17,
   "metadata": {},
   "outputs": [],
   "source": [
    "#-- Criando a classe Cachorro\n",
    "\n",
    "class Cachorro():\n",
    "    \n",
    "    def __init__(self, raça):\n",
    "        \n",
    "        self.raça = raça\n",
    "        \n",
    "        print('Construtor chamado para criar um objeto desta classe')"
   ]
  },
  {
   "cell_type": "code",
   "execution_count": 18,
   "metadata": {},
   "outputs": [
    {
     "name": "stdout",
     "output_type": "stream",
     "text": [
      "Construtor chamado para criar um objeto desta classe\n"
     ]
    }
   ],
   "source": [
    "Rex = Cachorro(raça = 'Labrador')"
   ]
  },
  {
   "cell_type": "code",
   "execution_count": 19,
   "metadata": {},
   "outputs": [
    {
     "name": "stdout",
     "output_type": "stream",
     "text": [
      "Construtor chamado para criar um objeto desta classe\n"
     ]
    }
   ],
   "source": [
    "Golias = Cachorro(raça = 'Huskie')"
   ]
  },
  {
   "cell_type": "code",
   "execution_count": 20,
   "metadata": {},
   "outputs": [
    {
     "data": {
      "text/plain": [
       "'Labrador'"
      ]
     },
     "execution_count": 20,
     "metadata": {},
     "output_type": "execute_result"
    }
   ],
   "source": [
    "Rex.raça"
   ]
  },
  {
   "cell_type": "code",
   "execution_count": 21,
   "metadata": {},
   "outputs": [
    {
     "data": {
      "text/plain": [
       "'Huskie'"
      ]
     },
     "execution_count": 21,
     "metadata": {},
     "output_type": "execute_result"
    }
   ],
   "source": [
    "Golias.raça"
   ]
  }
 ],
 "metadata": {
  "kernelspec": {
   "display_name": "Python 3",
   "language": "python",
   "name": "python3"
  },
  "language_info": {
   "codemirror_mode": {
    "name": "ipython",
    "version": 3
   },
   "file_extension": ".py",
   "mimetype": "text/x-python",
   "name": "python",
   "nbconvert_exporter": "python",
   "pygments_lexer": "ipython3",
   "version": "3.8.2"
  }
 },
 "nbformat": 4,
 "nbformat_minor": 4
}
