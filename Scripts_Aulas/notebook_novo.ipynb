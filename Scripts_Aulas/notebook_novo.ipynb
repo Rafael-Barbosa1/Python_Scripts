{
 "cells": [
  {
   "cell_type": "markdown",
   "metadata": {},
   "source": [
    "# Carregando as bibliotecas"
   ]
  },
  {
   "cell_type": "code",
   "execution_count": 1,
   "metadata": {
    "execution": {
     "iopub.execute_input": "2020-06-04T15:16:33.660254Z",
     "iopub.status.busy": "2020-06-04T15:16:33.660254Z",
     "iopub.status.idle": "2020-06-04T15:16:36.588532Z",
     "shell.execute_reply": "2020-06-04T15:16:36.587567Z",
     "shell.execute_reply.started": "2020-06-04T15:16:33.660254Z"
    }
   },
   "outputs": [],
   "source": [
    "import pandas as pd\n",
    "import numpy as np\n",
    "import matplotlib.pyplot as plt\n",
    "import seaborn as sns"
   ]
  },
  {
   "cell_type": "markdown",
   "metadata": {},
   "source": [
    "# Configurações adicionais"
   ]
  },
  {
   "cell_type": "code",
   "execution_count": 2,
   "metadata": {
    "execution": {
     "iopub.execute_input": "2020-06-04T15:16:36.589532Z",
     "iopub.status.busy": "2020-06-04T15:16:36.589532Z",
     "iopub.status.idle": "2020-06-04T15:16:36.603531Z",
     "shell.execute_reply": "2020-06-04T15:16:36.602529Z",
     "shell.execute_reply.started": "2020-06-04T15:16:36.589532Z"
    }
   },
   "outputs": [],
   "source": [
    "plt.style.use(\"seaborn-muted\")\n",
    "%matplotlib inline\n",
    "pd.set_option('display.max_columns', None)"
   ]
  },
  {
   "cell_type": "markdown",
   "metadata": {},
   "source": [
    "# Carregando o banco de dados"
   ]
  },
  {
   "cell_type": "code",
   "execution_count": 3,
   "metadata": {
    "execution": {
     "iopub.execute_input": "2020-06-04T15:16:36.607528Z",
     "iopub.status.busy": "2020-06-04T15:16:36.606528Z",
     "iopub.status.idle": "2020-06-04T15:16:36.891458Z",
     "shell.execute_reply": "2020-06-04T15:16:36.890460Z",
     "shell.execute_reply.started": "2020-06-04T15:16:36.607528Z"
    }
   },
   "outputs": [],
   "source": [
    "banco = pd.read_excel(\"dataset.xlsx\")"
   ]
  },
  {
   "cell_type": "code",
   "execution_count": 4,
   "metadata": {
    "execution": {
     "iopub.execute_input": "2020-06-04T15:16:36.894458Z",
     "iopub.status.busy": "2020-06-04T15:16:36.893457Z",
     "iopub.status.idle": "2020-06-04T15:16:36.916452Z",
     "shell.execute_reply": "2020-06-04T15:16:36.915452Z",
     "shell.execute_reply.started": "2020-06-04T15:16:36.894458Z"
    }
   },
   "outputs": [
    {
     "name": "stdout",
     "output_type": "stream",
     "text": [
      "<class 'pandas.core.frame.DataFrame'>\n",
      "RangeIndex: 570 entries, 0 to 569\n",
      "Data columns (total 17 columns):\n",
      " #   Column         Non-Null Count  Dtype  \n",
      "---  ------         --------------  -----  \n",
      " 0   ID             570 non-null    int64  \n",
      " 1   Place          570 non-null    object \n",
      " 2   Cod_cycle      570 non-null    int64  \n",
      " 3   Zone           570 non-null    int64  \n",
      " 4   cota           570 non-null    float64\n",
      " 5   prof_local(m)  570 non-null    float64\n",
      " 6   Mes            570 non-null    int64  \n",
      " 7   Year           570 non-null    int64  \n",
      " 8   Temp           564 non-null    float64\n",
      " 9   TotalP         570 non-null    float64\n",
      " 10  Chl            570 non-null    float64\n",
      " 11  Secchi         570 non-null    float64\n",
      " 12  Turbidity      570 non-null    float64\n",
      " 13  STS            570 non-null    float64\n",
      " 14  DO             570 non-null    float64\n",
      " 15  OrthoP (mg/L)  550 non-null    float64\n",
      " 16  Ammonium       570 non-null    float64\n",
      "dtypes: float64(11), int64(5), object(1)\n",
      "memory usage: 75.8+ KB\n"
     ]
    }
   ],
   "source": [
    "banco.info()"
   ]
  },
  {
   "cell_type": "code",
   "execution_count": 5,
   "metadata": {
    "execution": {
     "iopub.execute_input": "2020-06-04T15:16:36.918451Z",
     "iopub.status.busy": "2020-06-04T15:16:36.917452Z",
     "iopub.status.idle": "2020-06-04T15:16:36.932448Z",
     "shell.execute_reply": "2020-06-04T15:16:36.930448Z",
     "shell.execute_reply.started": "2020-06-04T15:16:36.918451Z"
    }
   },
   "outputs": [
    {
     "data": {
      "text/plain": [
       "0    202\n",
       "1    195\n",
       "2    173\n",
       "Name: Zone, dtype: int64"
      ]
     },
     "execution_count": 5,
     "metadata": {},
     "output_type": "execute_result"
    }
   ],
   "source": [
    "banco[\"Zone\"].value_counts()"
   ]
  },
  {
   "cell_type": "markdown",
   "metadata": {},
   "source": [
    "## Valores nulos"
   ]
  },
  {
   "cell_type": "code",
   "execution_count": 6,
   "metadata": {
    "execution": {
     "iopub.execute_input": "2020-06-04T15:16:36.934448Z",
     "iopub.status.busy": "2020-06-04T15:16:36.933448Z",
     "iopub.status.idle": "2020-06-04T15:16:36.946445Z",
     "shell.execute_reply": "2020-06-04T15:16:36.945445Z",
     "shell.execute_reply.started": "2020-06-04T15:16:36.934448Z"
    }
   },
   "outputs": [
    {
     "data": {
      "text/plain": [
       "ID                0\n",
       "Place             0\n",
       "Cod_cycle         0\n",
       "Zone              0\n",
       "cota              0\n",
       "prof_local(m)     0\n",
       "Mes               0\n",
       "Year              0\n",
       "Temp              6\n",
       "TotalP            0\n",
       "Chl               0\n",
       "Secchi            0\n",
       "Turbidity         0\n",
       "STS               0\n",
       "DO                0\n",
       "OrthoP (mg/L)    20\n",
       "Ammonium          0\n",
       "dtype: int64"
      ]
     },
     "execution_count": 6,
     "metadata": {},
     "output_type": "execute_result"
    }
   ],
   "source": [
    "banco.isnull().sum()"
   ]
  },
  {
   "cell_type": "code",
   "execution_count": 7,
   "metadata": {
    "execution": {
     "iopub.execute_input": "2020-06-04T15:16:36.948444Z",
     "iopub.status.busy": "2020-06-04T15:16:36.947444Z",
     "iopub.status.idle": "2020-06-04T15:16:36.958441Z",
     "shell.execute_reply": "2020-06-04T15:16:36.957442Z",
     "shell.execute_reply.started": "2020-06-04T15:16:36.948444Z"
    }
   },
   "outputs": [],
   "source": [
    "banco = banco.dropna()"
   ]
  },
  {
   "cell_type": "markdown",
   "metadata": {},
   "source": [
    "# Exploratória"
   ]
  },
  {
   "cell_type": "code",
   "execution_count": 8,
   "metadata": {
    "execution": {
     "iopub.execute_input": "2020-06-04T15:16:36.960441Z",
     "iopub.status.busy": "2020-06-04T15:16:36.959441Z",
     "iopub.status.idle": "2020-06-04T15:16:37.045420Z",
     "shell.execute_reply": "2020-06-04T15:16:37.044422Z",
     "shell.execute_reply.started": "2020-06-04T15:16:36.960441Z"
    }
   },
   "outputs": [
    {
     "data": {
      "text/html": [
       "<div>\n",
       "<style scoped>\n",
       "    .dataframe tbody tr th:only-of-type {\n",
       "        vertical-align: middle;\n",
       "    }\n",
       "\n",
       "    .dataframe tbody tr th {\n",
       "        vertical-align: top;\n",
       "    }\n",
       "\n",
       "    .dataframe thead th {\n",
       "        text-align: right;\n",
       "    }\n",
       "</style>\n",
       "<table border=\"1\" class=\"dataframe\">\n",
       "  <thead>\n",
       "    <tr style=\"text-align: right;\">\n",
       "      <th></th>\n",
       "      <th>count</th>\n",
       "      <th>mean</th>\n",
       "      <th>std</th>\n",
       "      <th>min</th>\n",
       "      <th>25%</th>\n",
       "      <th>50%</th>\n",
       "      <th>75%</th>\n",
       "      <th>max</th>\n",
       "    </tr>\n",
       "  </thead>\n",
       "  <tbody>\n",
       "    <tr>\n",
       "      <th>ID</th>\n",
       "      <td>547.0</td>\n",
       "      <td>311.702011</td>\n",
       "      <td>179.804678</td>\n",
       "      <td>1.00</td>\n",
       "      <td>158.000</td>\n",
       "      <td>308.00</td>\n",
       "      <td>467.500</td>\n",
       "      <td>630.00</td>\n",
       "    </tr>\n",
       "    <tr>\n",
       "      <th>Cod_cycle</th>\n",
       "      <td>547.0</td>\n",
       "      <td>1.488117</td>\n",
       "      <td>1.109956</td>\n",
       "      <td>0.00</td>\n",
       "      <td>1.000</td>\n",
       "      <td>1.00</td>\n",
       "      <td>2.000</td>\n",
       "      <td>3.00</td>\n",
       "    </tr>\n",
       "    <tr>\n",
       "      <th>Zone</th>\n",
       "      <td>547.0</td>\n",
       "      <td>0.959781</td>\n",
       "      <td>0.817746</td>\n",
       "      <td>0.00</td>\n",
       "      <td>0.000</td>\n",
       "      <td>1.00</td>\n",
       "      <td>2.000</td>\n",
       "      <td>2.00</td>\n",
       "    </tr>\n",
       "    <tr>\n",
       "      <th>cota</th>\n",
       "      <td>547.0</td>\n",
       "      <td>68.173236</td>\n",
       "      <td>5.276614</td>\n",
       "      <td>57.68</td>\n",
       "      <td>62.770</td>\n",
       "      <td>70.10</td>\n",
       "      <td>73.410</td>\n",
       "      <td>74.00</td>\n",
       "    </tr>\n",
       "    <tr>\n",
       "      <th>prof_local(m)</th>\n",
       "      <td>547.0</td>\n",
       "      <td>28.818410</td>\n",
       "      <td>16.906395</td>\n",
       "      <td>2.60</td>\n",
       "      <td>16.200</td>\n",
       "      <td>24.80</td>\n",
       "      <td>37.000</td>\n",
       "      <td>73.00</td>\n",
       "    </tr>\n",
       "    <tr>\n",
       "      <th>Mes</th>\n",
       "      <td>547.0</td>\n",
       "      <td>6.700183</td>\n",
       "      <td>3.501656</td>\n",
       "      <td>1.00</td>\n",
       "      <td>4.000</td>\n",
       "      <td>7.00</td>\n",
       "      <td>10.000</td>\n",
       "      <td>12.00</td>\n",
       "    </tr>\n",
       "    <tr>\n",
       "      <th>Year</th>\n",
       "      <td>547.0</td>\n",
       "      <td>2010.851920</td>\n",
       "      <td>3.065525</td>\n",
       "      <td>2006.00</td>\n",
       "      <td>2008.000</td>\n",
       "      <td>2011.00</td>\n",
       "      <td>2013.500</td>\n",
       "      <td>2016.00</td>\n",
       "    </tr>\n",
       "    <tr>\n",
       "      <th>Temp</th>\n",
       "      <td>547.0</td>\n",
       "      <td>30.061426</td>\n",
       "      <td>0.908039</td>\n",
       "      <td>26.30</td>\n",
       "      <td>29.500</td>\n",
       "      <td>30.00</td>\n",
       "      <td>30.600</td>\n",
       "      <td>33.40</td>\n",
       "    </tr>\n",
       "    <tr>\n",
       "      <th>TotalP</th>\n",
       "      <td>547.0</td>\n",
       "      <td>24.137715</td>\n",
       "      <td>17.873046</td>\n",
       "      <td>3.11</td>\n",
       "      <td>13.550</td>\n",
       "      <td>19.63</td>\n",
       "      <td>29.320</td>\n",
       "      <td>195.59</td>\n",
       "    </tr>\n",
       "    <tr>\n",
       "      <th>Chl</th>\n",
       "      <td>547.0</td>\n",
       "      <td>6.549049</td>\n",
       "      <td>4.658414</td>\n",
       "      <td>0.71</td>\n",
       "      <td>3.570</td>\n",
       "      <td>5.35</td>\n",
       "      <td>8.090</td>\n",
       "      <td>36.90</td>\n",
       "    </tr>\n",
       "    <tr>\n",
       "      <th>Secchi</th>\n",
       "      <td>547.0</td>\n",
       "      <td>2.191883</td>\n",
       "      <td>1.042694</td>\n",
       "      <td>0.30</td>\n",
       "      <td>1.400</td>\n",
       "      <td>2.20</td>\n",
       "      <td>2.800</td>\n",
       "      <td>5.20</td>\n",
       "    </tr>\n",
       "    <tr>\n",
       "      <th>Turbidity</th>\n",
       "      <td>547.0</td>\n",
       "      <td>8.844113</td>\n",
       "      <td>14.291963</td>\n",
       "      <td>0.11</td>\n",
       "      <td>2.050</td>\n",
       "      <td>4.20</td>\n",
       "      <td>10.045</td>\n",
       "      <td>125.00</td>\n",
       "    </tr>\n",
       "    <tr>\n",
       "      <th>STS</th>\n",
       "      <td>547.0</td>\n",
       "      <td>4.374607</td>\n",
       "      <td>7.059683</td>\n",
       "      <td>0.10</td>\n",
       "      <td>1.000</td>\n",
       "      <td>2.20</td>\n",
       "      <td>4.600</td>\n",
       "      <td>58.29</td>\n",
       "    </tr>\n",
       "    <tr>\n",
       "      <th>DO</th>\n",
       "      <td>547.0</td>\n",
       "      <td>6.107587</td>\n",
       "      <td>0.848048</td>\n",
       "      <td>2.30</td>\n",
       "      <td>5.585</td>\n",
       "      <td>6.13</td>\n",
       "      <td>6.675</td>\n",
       "      <td>8.90</td>\n",
       "    </tr>\n",
       "    <tr>\n",
       "      <th>OrthoP (mg/L)</th>\n",
       "      <td>547.0</td>\n",
       "      <td>9.241060</td>\n",
       "      <td>8.021968</td>\n",
       "      <td>0.07</td>\n",
       "      <td>2.555</td>\n",
       "      <td>7.51</td>\n",
       "      <td>13.270</td>\n",
       "      <td>51.01</td>\n",
       "    </tr>\n",
       "    <tr>\n",
       "      <th>Ammonium</th>\n",
       "      <td>547.0</td>\n",
       "      <td>40.633199</td>\n",
       "      <td>46.416065</td>\n",
       "      <td>0.93</td>\n",
       "      <td>18.550</td>\n",
       "      <td>28.55</td>\n",
       "      <td>46.100</td>\n",
       "      <td>567.99</td>\n",
       "    </tr>\n",
       "  </tbody>\n",
       "</table>\n",
       "</div>"
      ],
      "text/plain": [
       "               count         mean         std      min       25%      50%  \\\n",
       "ID             547.0   311.702011  179.804678     1.00   158.000   308.00   \n",
       "Cod_cycle      547.0     1.488117    1.109956     0.00     1.000     1.00   \n",
       "Zone           547.0     0.959781    0.817746     0.00     0.000     1.00   \n",
       "cota           547.0    68.173236    5.276614    57.68    62.770    70.10   \n",
       "prof_local(m)  547.0    28.818410   16.906395     2.60    16.200    24.80   \n",
       "Mes            547.0     6.700183    3.501656     1.00     4.000     7.00   \n",
       "Year           547.0  2010.851920    3.065525  2006.00  2008.000  2011.00   \n",
       "Temp           547.0    30.061426    0.908039    26.30    29.500    30.00   \n",
       "TotalP         547.0    24.137715   17.873046     3.11    13.550    19.63   \n",
       "Chl            547.0     6.549049    4.658414     0.71     3.570     5.35   \n",
       "Secchi         547.0     2.191883    1.042694     0.30     1.400     2.20   \n",
       "Turbidity      547.0     8.844113   14.291963     0.11     2.050     4.20   \n",
       "STS            547.0     4.374607    7.059683     0.10     1.000     2.20   \n",
       "DO             547.0     6.107587    0.848048     2.30     5.585     6.13   \n",
       "OrthoP (mg/L)  547.0     9.241060    8.021968     0.07     2.555     7.51   \n",
       "Ammonium       547.0    40.633199   46.416065     0.93    18.550    28.55   \n",
       "\n",
       "                    75%      max  \n",
       "ID              467.500   630.00  \n",
       "Cod_cycle         2.000     3.00  \n",
       "Zone              2.000     2.00  \n",
       "cota             73.410    74.00  \n",
       "prof_local(m)    37.000    73.00  \n",
       "Mes              10.000    12.00  \n",
       "Year           2013.500  2016.00  \n",
       "Temp             30.600    33.40  \n",
       "TotalP           29.320   195.59  \n",
       "Chl               8.090    36.90  \n",
       "Secchi            2.800     5.20  \n",
       "Turbidity        10.045   125.00  \n",
       "STS               4.600    58.29  \n",
       "DO                6.675     8.90  \n",
       "OrthoP (mg/L)    13.270    51.01  \n",
       "Ammonium         46.100   567.99  "
      ]
     },
     "execution_count": 8,
     "metadata": {},
     "output_type": "execute_result"
    }
   ],
   "source": [
    "banco.describe().T"
   ]
  },
  {
   "cell_type": "code",
   "execution_count": 9,
   "metadata": {
    "execution": {
     "iopub.execute_input": "2020-06-04T15:16:37.050420Z",
     "iopub.status.busy": "2020-06-04T15:16:37.049420Z",
     "iopub.status.idle": "2020-06-04T15:16:37.425328Z",
     "shell.execute_reply": "2020-06-04T15:16:37.424326Z",
     "shell.execute_reply.started": "2020-06-04T15:16:37.050420Z"
    }
   },
   "outputs": [
    {
     "data": {
      "text/plain": [
       "<Figure size 720x432 with 0 Axes>"
      ]
     },
     "metadata": {},
     "output_type": "display_data"
    },
    {
     "data": {
      "image/png": "[encoded data removed]",
      "text/plain": [
       "<Figure size 432x288 with 1 Axes>"
      ]
     },
     "metadata": {
      "needs_background": "light"
     },
     "output_type": "display_data"
    }
   ],
   "source": [
    "# banco.groupby(\"Year\")[[\"Year\", \"Zone\"]].head(6)\n",
    "\n",
    "plt.figure(figsize = [10, 6])\n",
    "\n",
    "banco[[\"Year\", \"Zone\"]].reset_index().groupby([\"Year\", \"Zone\"], as_index = False).size().unstack().plot.bar()\n",
    "\n",
    "plt.show()"
   ]
  },
  {
   "cell_type": "code",
   "execution_count": 10,
   "metadata": {
    "execution": {
     "iopub.execute_input": "2020-06-04T15:16:37.428326Z",
     "iopub.status.busy": "2020-06-04T15:16:37.427327Z",
     "iopub.status.idle": "2020-06-04T15:16:37.653270Z",
     "shell.execute_reply": "2020-06-04T15:16:37.652270Z",
     "shell.execute_reply.started": "2020-06-04T15:16:37.428326Z"
    }
   },
   "outputs": [
    {
     "data": {
      "text/plain": [
       "<matplotlib.axes._subplots.AxesSubplot at 0x2bf7eadd508>"
      ]
     },
     "execution_count": 10,
     "metadata": {},
     "output_type": "execute_result"
    },
    {
     "data": {
      "image/png": "[encoded data removed]",
      "text/plain": [
       "<Figure size 432x288 with 1 Axes>"
      ]
     },
     "metadata": {
      "needs_background": "light"
     },
     "output_type": "display_data"
    }
   ],
   "source": [
    "sns.distplot(banco[\"prof_local(m)\"])"
   ]
  },
  {
   "cell_type": "code",
   "execution_count": 11,
   "metadata": {
    "execution": {
     "iopub.execute_input": "2020-06-04T15:16:37.654270Z",
     "iopub.status.busy": "2020-06-04T15:16:37.654270Z",
     "iopub.status.idle": "2020-06-04T15:16:37.661268Z",
     "shell.execute_reply": "2020-06-04T15:16:37.660268Z",
     "shell.execute_reply.started": "2020-06-04T15:16:37.654270Z"
    }
   },
   "outputs": [],
   "source": [
    "# banco[\"Year1\"] = banco[\"Year\"].map(lambda x: 0 if x <= 2011 else 1)\n",
    "\n",
    "\n",
    "# cota\tprof_local(m)\tMes\tYear\tTemp\tTotalP\tChl\tSecchi\tTurbidity\tSTS\tDO\tOrthoP (mg/L)\tAmmonium\t\n",
    "\n",
    "# prof_local, secchi\n",
    "\n",
    "# sns.boxplot(x = \"Year1\", y = \"prof_local(m)\", hue = \"Zone\", data = banco)"
   ]
  },
  {
   "cell_type": "markdown",
   "metadata": {},
   "source": [
    "## Criando novas variáveis"
   ]
  },
  {
   "cell_type": "code",
   "execution_count": 12,
   "metadata": {
    "execution": {
     "iopub.execute_input": "2020-06-04T15:16:37.665269Z",
     "iopub.status.busy": "2020-06-04T15:16:37.665269Z",
     "iopub.status.idle": "2020-06-04T15:16:37.709257Z",
     "shell.execute_reply": "2020-06-04T15:16:37.708257Z",
     "shell.execute_reply.started": "2020-06-04T15:16:37.665269Z"
    }
   },
   "outputs": [
    {
     "data": {
      "text/html": [
       "<div>\n",
       "<style scoped>\n",
       "    .dataframe tbody tr th:only-of-type {\n",
       "        vertical-align: middle;\n",
       "    }\n",
       "\n",
       "    .dataframe tbody tr th {\n",
       "        vertical-align: top;\n",
       "    }\n",
       "\n",
       "    .dataframe thead th {\n",
       "        text-align: right;\n",
       "    }\n",
       "</style>\n",
       "<table border=\"1\" class=\"dataframe\">\n",
       "  <thead>\n",
       "    <tr style=\"text-align: right;\">\n",
       "      <th></th>\n",
       "      <th>ID</th>\n",
       "      <th>Place</th>\n",
       "      <th>Cod_cycle</th>\n",
       "      <th>Zone</th>\n",
       "      <th>cota</th>\n",
       "      <th>prof_local(m)</th>\n",
       "      <th>Mes</th>\n",
       "      <th>Year</th>\n",
       "      <th>Temp</th>\n",
       "      <th>TotalP</th>\n",
       "      <th>Chl</th>\n",
       "      <th>Secchi</th>\n",
       "      <th>Turbidity</th>\n",
       "      <th>STS</th>\n",
       "      <th>DO</th>\n",
       "      <th>OrthoP (mg/L)</th>\n",
       "      <th>Ammonium</th>\n",
       "      <th>relation_DO_profund</th>\n",
       "      <th>Year1</th>\n",
       "      <th>Mes1</th>\n",
       "    </tr>\n",
       "  </thead>\n",
       "  <tbody>\n",
       "    <tr>\n",
       "      <th>0</th>\n",
       "      <td>1</td>\n",
       "      <td>C1</td>\n",
       "      <td>2</td>\n",
       "      <td>0</td>\n",
       "      <td>73.86</td>\n",
       "      <td>30.00</td>\n",
       "      <td>4</td>\n",
       "      <td>2012</td>\n",
       "      <td>30.4</td>\n",
       "      <td>15.34</td>\n",
       "      <td>4.76</td>\n",
       "      <td>3.0</td>\n",
       "      <td>2.18</td>\n",
       "      <td>1.0</td>\n",
       "      <td>7.30</td>\n",
       "      <td>16.18</td>\n",
       "      <td>35.39</td>\n",
       "      <td>0.243333</td>\n",
       "      <td>0</td>\n",
       "      <td>0</td>\n",
       "    </tr>\n",
       "    <tr>\n",
       "      <th>1</th>\n",
       "      <td>2</td>\n",
       "      <td>C1</td>\n",
       "      <td>2</td>\n",
       "      <td>0</td>\n",
       "      <td>73.86</td>\n",
       "      <td>30.00</td>\n",
       "      <td>4</td>\n",
       "      <td>2013</td>\n",
       "      <td>30.2</td>\n",
       "      <td>18.91</td>\n",
       "      <td>4.05</td>\n",
       "      <td>2.1</td>\n",
       "      <td>2.96</td>\n",
       "      <td>0.6</td>\n",
       "      <td>5.86</td>\n",
       "      <td>15.81</td>\n",
       "      <td>23.50</td>\n",
       "      <td>0.195333</td>\n",
       "      <td>0</td>\n",
       "      <td>0</td>\n",
       "    </tr>\n",
       "    <tr>\n",
       "      <th>2</th>\n",
       "      <td>3</td>\n",
       "      <td>C1</td>\n",
       "      <td>2</td>\n",
       "      <td>0</td>\n",
       "      <td>73.69</td>\n",
       "      <td>30.00</td>\n",
       "      <td>4</td>\n",
       "      <td>2014</td>\n",
       "      <td>29.5</td>\n",
       "      <td>20.70</td>\n",
       "      <td>5.95</td>\n",
       "      <td>2.5</td>\n",
       "      <td>2.90</td>\n",
       "      <td>2.8</td>\n",
       "      <td>6.56</td>\n",
       "      <td>5.44</td>\n",
       "      <td>75.84</td>\n",
       "      <td>0.218667</td>\n",
       "      <td>0</td>\n",
       "      <td>0</td>\n",
       "    </tr>\n",
       "    <tr>\n",
       "      <th>3</th>\n",
       "      <td>4</td>\n",
       "      <td>C1</td>\n",
       "      <td>2</td>\n",
       "      <td>0</td>\n",
       "      <td>73.67</td>\n",
       "      <td>30.40</td>\n",
       "      <td>4</td>\n",
       "      <td>2015</td>\n",
       "      <td>31.6</td>\n",
       "      <td>19.94</td>\n",
       "      <td>5.95</td>\n",
       "      <td>1.2</td>\n",
       "      <td>10.10</td>\n",
       "      <td>0.6</td>\n",
       "      <td>7.82</td>\n",
       "      <td>9.51</td>\n",
       "      <td>23.50</td>\n",
       "      <td>0.257237</td>\n",
       "      <td>0</td>\n",
       "      <td>0</td>\n",
       "    </tr>\n",
       "    <tr>\n",
       "      <th>4</th>\n",
       "      <td>7</td>\n",
       "      <td>C1</td>\n",
       "      <td>1</td>\n",
       "      <td>0</td>\n",
       "      <td>62.58</td>\n",
       "      <td>19.17</td>\n",
       "      <td>12</td>\n",
       "      <td>2006</td>\n",
       "      <td>29.8</td>\n",
       "      <td>5.79</td>\n",
       "      <td>3.45</td>\n",
       "      <td>2.6</td>\n",
       "      <td>1.52</td>\n",
       "      <td>2.0</td>\n",
       "      <td>6.05</td>\n",
       "      <td>0.24</td>\n",
       "      <td>12.91</td>\n",
       "      <td>0.315597</td>\n",
       "      <td>1</td>\n",
       "      <td>0</td>\n",
       "    </tr>\n",
       "  </tbody>\n",
       "</table>\n",
       "</div>"
      ],
      "text/plain": [
       "   ID Place  Cod_cycle  Zone   cota  prof_local(m)  Mes  Year  Temp  TotalP  \\\n",
       "0   1    C1          2     0  73.86          30.00    4  2012  30.4   15.34   \n",
       "1   2    C1          2     0  73.86          30.00    4  2013  30.2   18.91   \n",
       "2   3    C1          2     0  73.69          30.00    4  2014  29.5   20.70   \n",
       "3   4    C1          2     0  73.67          30.40    4  2015  31.6   19.94   \n",
       "4   7    C1          1     0  62.58          19.17   12  2006  29.8    5.79   \n",
       "\n",
       "    Chl  Secchi   Turbidity  STS    DO  OrthoP (mg/L)  Ammonium  \\\n",
       "0  4.76      3.0       2.18  1.0  7.30          16.18     35.39   \n",
       "1  4.05      2.1       2.96  0.6  5.86          15.81     23.50   \n",
       "2  5.95      2.5       2.90  2.8  6.56           5.44     75.84   \n",
       "3  5.95      1.2      10.10  0.6  7.82           9.51     23.50   \n",
       "4  3.45      2.6       1.52  2.0  6.05           0.24     12.91   \n",
       "\n",
       "   relation_DO_profund  Year1  Mes1  \n",
       "0             0.243333      0     0  \n",
       "1             0.195333      0     0  \n",
       "2             0.218667      0     0  \n",
       "3             0.257237      0     0  \n",
       "4             0.315597      1     0  "
      ]
     },
     "execution_count": 12,
     "metadata": {},
     "output_type": "execute_result"
    }
   ],
   "source": [
    "#--- Turbidez pela profundidade (divisão)\n",
    "\n",
    "# banco[\"relation_turbidity_profund\"] = banco[\"Turbidity\"]/banco[\"prof_local(m)\"]\n",
    "\n",
    "\n",
    "#--- TotalP/amanium\n",
    "\n",
    "# banco[\"relation_fosforoT_amonia\"] = banco[\"TotalP\"]/banco[\"Ammonium\"]\n",
    "\n",
    "\n",
    "# #--- DO/profundidade (Boa variável)\n",
    "\n",
    "banco[\"relation_DO_profund\"] = banco[\"DO\"]/banco[\"prof_local(m)\"]\n",
    "\n",
    "\n",
    "# #--- STS/profundidade\n",
    "\n",
    "# banco[\"relation_STS_profund\"] = banco[\"STS\"]/banco[\"prof_local(m)\"]\n",
    "\n",
    "\n",
    "#--- STS/Turbidez\n",
    "\n",
    "# banco[\"relation_STS_turbidity\"] = banco[\"STS\"]/banco[\"Turbidity\"]\n",
    "\n",
    "\n",
    "#--- Fósforo total/Clorofila\n",
    "\n",
    "\n",
    "# banco[\"relation_TotalP_Chl\"] = banco[\"TotalP\"]/banco[\"Chl\"]\n",
    "\n",
    "\n",
    "#--- log(Transparência) / log(Turbidez)\n",
    "\n",
    "# #banco[\"relation_Secchi_Turbidity\"] = banco[\"Secchi \"]/banco[\"Turbidity\"]\n",
    "\n",
    "# Resultado: Boa mas não bate a de cima o suficiente\n",
    "\n",
    "\n",
    "#--- log(Transparência) / log(STS)\n",
    "\n",
    "# banco[\"relation_Secchi_Turbidity\"] = banco[\"Secchi \"]/banco[\"STS\"]\n",
    "\n",
    "# Resultado: Não foi util\n",
    "\n",
    "\n",
    "#--- Meses divididos em semestres\n",
    "\n",
    "# banco[\"Mes\"] = banco[\"Mes\"].map(lambda x: 0 if x <= 6 else 1)\n",
    "\n",
    "# Resultados: Nenhuma transformação em meses ou anos são úteis\n",
    "\n",
    "\n",
    "#--- Meses divididos em períodos de verão/inverno\n",
    "\n",
    "# banco[\"Mes1\"] = banco[\"Mes\"].map(lambda x: 0 if x >= 6 and x <=10 else 1)\n",
    "\n",
    "# 0: verão\n",
    "# 1: inverno\n",
    "\n",
    "# Resultados: Nenhuma transformação em meses ou anos são úteis\n",
    "\n",
    "\n",
    "#--- Dividir a profundidade em 4 quartis\n",
    "\n",
    "# banco[\"prof_local_quant\"] = pd.cut(banco[\"prof_local(m)\"], 4, labels = [1, 2, 3, 4])\n",
    "\n",
    "# Resultado: Não foi útil\n",
    "\n",
    "\n",
    "#--- Log na OD\n",
    "\n",
    "# banco[\"DO\"] = np.log(banco[\"DO\"])\n",
    "\n",
    "# Resultado: Não foi útil\n",
    "\n",
    "\n",
    "#--- Polynomial features\n",
    "\n",
    "\n",
    "# var_poly = [\"cota\", \"prof_local(m)\", \"Temp\", \"TotalP\", \"Chl\", \"Secchi \", \"Turbidity\", \"STS\", \"DO\", \"OrthoP (mg/L)\", \"Ammonium\",\n",
    "#       \"relation_DO_profund\"]\n",
    "\n",
    "# novas_colunas = [i + \"_2poly\" for i in var_poly]\n",
    "\n",
    "\n",
    "# banco[novas_colunas] = banco[var_poly] ** 2\n",
    "\n",
    "\n",
    "# Resultado: Não houve melhora\n",
    "\n",
    "\n",
    "#--- Ainda tentando criar variáveis com anos\n",
    "\n",
    "banco[\"Year1\"] = banco[\"Year\"].map(lambda x: 1 if x <= 2011 else 0)\n",
    "\n",
    "# 1: Anos <= 2011\n",
    "# 0: else \n",
    "\n",
    "\n",
    "banco[\"Mes1\"] = banco[\"Mes\"].map(lambda x: 1 if x >= 6 and x <= 10 else 0)\n",
    "\n",
    "# 1: Período chuvoso\n",
    "# 0: Período não chuvoso\n",
    "\n",
    "\n",
    "#--- Turismo\n",
    "\n",
    "# banco[\"Mes2\"] = banco[\"Mes\"].map(lambda x: 1 if x >= 5 and x <= 10 else 0)\n",
    "\n",
    "\n",
    "# --- Ferias\n",
    "\n",
    "# banco[\"Mes3\"] = banco[\"Mes\"].map(lambda x: 1 if x in (1, 6, 7, 8, 12) else 0)\n",
    "\n",
    "\n",
    "# sns.boxplot(x = \"Mes1\", y = \"prof_local(m)\", hue = \"Zone\", data = banco)\n",
    "\n",
    "# cota\tprof_local(m)\tTemp\tTotalP\tChl\tSecchi\tTurbidity\tSTS\tDO\tOrthoP (mg/L)\tAmmonium\trelation_DO_profund\n",
    "\n",
    "# plt.show()\n",
    "\n",
    "\n",
    "\n",
    "#--- Fazendo uma relação entre Year1 e prof_local\n",
    "\n",
    "# prof_local, secchi\n",
    "\n",
    "# 0: Lacustre\n",
    "# 1: Transição\n",
    "# 2: Fluvial\n",
    "\n",
    "# banco[\"Teste\"] = banco[\"Year1\"].astype(str) + pd.qcut(banco[\"cota\"], 4, labels = [\"Q1\", \"Q2\", \"Q3\", \"Q4\"]).astype(str)\n",
    "# banco[\"Teste1\"] = banco[\"Year1\"].astype(str) + pd.qcut(banco[\"cota\"], 4, labels = [\"Q1\", \"Q2\", \"Q3\", \"Q4\"]).astype(str)\n",
    "\n",
    "\n",
    "banco.head()"
   ]
  },
  {
   "cell_type": "markdown",
   "metadata": {},
   "source": [
    "## OneHotEncoding para as variável categóricas"
   ]
  },
  {
   "cell_type": "code",
   "execution_count": 13,
   "metadata": {
    "execution": {
     "iopub.execute_input": "2020-06-04T15:16:37.710257Z",
     "iopub.status.busy": "2020-06-04T15:16:37.710257Z",
     "iopub.status.idle": "2020-06-04T15:16:37.726252Z",
     "shell.execute_reply": "2020-06-04T15:16:37.725254Z",
     "shell.execute_reply.started": "2020-06-04T15:16:37.710257Z"
    }
   },
   "outputs": [],
   "source": [
    "banco = pd.get_dummies(data = banco, columns = [\"Mes\", \"Year\"])"
   ]
  },
  {
   "cell_type": "markdown",
   "metadata": {},
   "source": [
    "## Selecionando variáveis"
   ]
  },
  {
   "cell_type": "code",
   "execution_count": 14,
   "metadata": {
    "execution": {
     "iopub.execute_input": "2020-06-04T15:16:37.727252Z",
     "iopub.status.busy": "2020-06-04T15:16:37.727252Z",
     "iopub.status.idle": "2020-06-04T15:16:37.737250Z",
     "shell.execute_reply": "2020-06-04T15:16:37.736250Z",
     "shell.execute_reply.started": "2020-06-04T15:16:37.727252Z"
    }
   },
   "outputs": [],
   "source": [
    "# var = [\"Zone\", \"prof_local(m)\", \"Temp\", \"TotalP\", \"Chl\", \"Secchi \", \"Turbidity\", \"STS\", \"DO\", \"OrthoP (mg/L)\", \"Ammonium\"]\n",
    "\n",
    "# banco[var]\n",
    "\n",
    "\n",
    "banco = banco.drop([\"ID\", \"Place\", \"Cod_cycle\"], axis = 1)"
   ]
  },
  {
   "cell_type": "code",
   "execution_count": 15,
   "metadata": {
    "execution": {
     "iopub.execute_input": "2020-06-04T15:16:37.739249Z",
     "iopub.status.busy": "2020-06-04T15:16:37.739249Z",
     "iopub.status.idle": "2020-06-04T15:16:37.839227Z",
     "shell.execute_reply": "2020-06-04T15:16:37.838225Z",
     "shell.execute_reply.started": "2020-06-04T15:16:37.739249Z"
    }
   },
   "outputs": [
    {
     "data": {
      "text/html": [
       "<div>\n",
       "<style scoped>\n",
       "    .dataframe tbody tr th:only-of-type {\n",
       "        vertical-align: middle;\n",
       "    }\n",
       "\n",
       "    .dataframe tbody tr th {\n",
       "        vertical-align: top;\n",
       "    }\n",
       "\n",
       "    .dataframe thead th {\n",
       "        text-align: right;\n",
       "    }\n",
       "</style>\n",
       "<table border=\"1\" class=\"dataframe\">\n",
       "  <thead>\n",
       "    <tr style=\"text-align: right;\">\n",
       "      <th></th>\n",
       "      <th>Zone</th>\n",
       "      <th>cota</th>\n",
       "      <th>prof_local(m)</th>\n",
       "      <th>Temp</th>\n",
       "      <th>TotalP</th>\n",
       "      <th>Chl</th>\n",
       "      <th>Secchi</th>\n",
       "      <th>Turbidity</th>\n",
       "      <th>STS</th>\n",
       "      <th>DO</th>\n",
       "      <th>OrthoP (mg/L)</th>\n",
       "      <th>Ammonium</th>\n",
       "      <th>relation_DO_profund</th>\n",
       "      <th>Year1</th>\n",
       "      <th>Mes1</th>\n",
       "      <th>Mes_1</th>\n",
       "      <th>Mes_2</th>\n",
       "      <th>Mes_3</th>\n",
       "      <th>Mes_4</th>\n",
       "      <th>Mes_5</th>\n",
       "      <th>Mes_6</th>\n",
       "      <th>Mes_7</th>\n",
       "      <th>Mes_8</th>\n",
       "      <th>Mes_9</th>\n",
       "      <th>Mes_10</th>\n",
       "      <th>Mes_11</th>\n",
       "      <th>Mes_12</th>\n",
       "      <th>Year_2006</th>\n",
       "      <th>Year_2007</th>\n",
       "      <th>Year_2008</th>\n",
       "      <th>Year_2009</th>\n",
       "      <th>Year_2010</th>\n",
       "      <th>Year_2011</th>\n",
       "      <th>Year_2012</th>\n",
       "      <th>Year_2013</th>\n",
       "      <th>Year_2014</th>\n",
       "      <th>Year_2015</th>\n",
       "      <th>Year_2016</th>\n",
       "    </tr>\n",
       "  </thead>\n",
       "  <tbody>\n",
       "    <tr>\n",
       "      <th>0</th>\n",
       "      <td>0</td>\n",
       "      <td>73.86</td>\n",
       "      <td>30.00</td>\n",
       "      <td>30.4</td>\n",
       "      <td>15.34</td>\n",
       "      <td>4.76</td>\n",
       "      <td>3.0</td>\n",
       "      <td>2.18</td>\n",
       "      <td>1.0</td>\n",
       "      <td>7.30</td>\n",
       "      <td>16.18</td>\n",
       "      <td>35.39</td>\n",
       "      <td>0.243333</td>\n",
       "      <td>0</td>\n",
       "      <td>0</td>\n",
       "      <td>0</td>\n",
       "      <td>0</td>\n",
       "      <td>0</td>\n",
       "      <td>1</td>\n",
       "      <td>0</td>\n",
       "      <td>0</td>\n",
       "      <td>0</td>\n",
       "      <td>0</td>\n",
       "      <td>0</td>\n",
       "      <td>0</td>\n",
       "      <td>0</td>\n",
       "      <td>0</td>\n",
       "      <td>0</td>\n",
       "      <td>0</td>\n",
       "      <td>0</td>\n",
       "      <td>0</td>\n",
       "      <td>0</td>\n",
       "      <td>0</td>\n",
       "      <td>1</td>\n",
       "      <td>0</td>\n",
       "      <td>0</td>\n",
       "      <td>0</td>\n",
       "      <td>0</td>\n",
       "    </tr>\n",
       "    <tr>\n",
       "      <th>1</th>\n",
       "      <td>0</td>\n",
       "      <td>73.86</td>\n",
       "      <td>30.00</td>\n",
       "      <td>30.2</td>\n",
       "      <td>18.91</td>\n",
       "      <td>4.05</td>\n",
       "      <td>2.1</td>\n",
       "      <td>2.96</td>\n",
       "      <td>0.6</td>\n",
       "      <td>5.86</td>\n",
       "      <td>15.81</td>\n",
       "      <td>23.50</td>\n",
       "      <td>0.195333</td>\n",
       "      <td>0</td>\n",
       "      <td>0</td>\n",
       "      <td>0</td>\n",
       "      <td>0</td>\n",
       "      <td>0</td>\n",
       "      <td>1</td>\n",
       "      <td>0</td>\n",
       "      <td>0</td>\n",
       "      <td>0</td>\n",
       "      <td>0</td>\n",
       "      <td>0</td>\n",
       "      <td>0</td>\n",
       "      <td>0</td>\n",
       "      <td>0</td>\n",
       "      <td>0</td>\n",
       "      <td>0</td>\n",
       "      <td>0</td>\n",
       "      <td>0</td>\n",
       "      <td>0</td>\n",
       "      <td>0</td>\n",
       "      <td>0</td>\n",
       "      <td>1</td>\n",
       "      <td>0</td>\n",
       "      <td>0</td>\n",
       "      <td>0</td>\n",
       "    </tr>\n",
       "    <tr>\n",
       "      <th>2</th>\n",
       "      <td>0</td>\n",
       "      <td>73.69</td>\n",
       "      <td>30.00</td>\n",
       "      <td>29.5</td>\n",
       "      <td>20.70</td>\n",
       "      <td>5.95</td>\n",
       "      <td>2.5</td>\n",
       "      <td>2.90</td>\n",
       "      <td>2.8</td>\n",
       "      <td>6.56</td>\n",
       "      <td>5.44</td>\n",
       "      <td>75.84</td>\n",
       "      <td>0.218667</td>\n",
       "      <td>0</td>\n",
       "      <td>0</td>\n",
       "      <td>0</td>\n",
       "      <td>0</td>\n",
       "      <td>0</td>\n",
       "      <td>1</td>\n",
       "      <td>0</td>\n",
       "      <td>0</td>\n",
       "      <td>0</td>\n",
       "      <td>0</td>\n",
       "      <td>0</td>\n",
       "      <td>0</td>\n",
       "      <td>0</td>\n",
       "      <td>0</td>\n",
       "      <td>0</td>\n",
       "      <td>0</td>\n",
       "      <td>0</td>\n",
       "      <td>0</td>\n",
       "      <td>0</td>\n",
       "      <td>0</td>\n",
       "      <td>0</td>\n",
       "      <td>0</td>\n",
       "      <td>1</td>\n",
       "      <td>0</td>\n",
       "      <td>0</td>\n",
       "    </tr>\n",
       "    <tr>\n",
       "      <th>3</th>\n",
       "      <td>0</td>\n",
       "      <td>73.67</td>\n",
       "      <td>30.40</td>\n",
       "      <td>31.6</td>\n",
       "      <td>19.94</td>\n",
       "      <td>5.95</td>\n",
       "      <td>1.2</td>\n",
       "      <td>10.10</td>\n",
       "      <td>0.6</td>\n",
       "      <td>7.82</td>\n",
       "      <td>9.51</td>\n",
       "      <td>23.50</td>\n",
       "      <td>0.257237</td>\n",
       "      <td>0</td>\n",
       "      <td>0</td>\n",
       "      <td>0</td>\n",
       "      <td>0</td>\n",
       "      <td>0</td>\n",
       "      <td>1</td>\n",
       "      <td>0</td>\n",
       "      <td>0</td>\n",
       "      <td>0</td>\n",
       "      <td>0</td>\n",
       "      <td>0</td>\n",
       "      <td>0</td>\n",
       "      <td>0</td>\n",
       "      <td>0</td>\n",
       "      <td>0</td>\n",
       "      <td>0</td>\n",
       "      <td>0</td>\n",
       "      <td>0</td>\n",
       "      <td>0</td>\n",
       "      <td>0</td>\n",
       "      <td>0</td>\n",
       "      <td>0</td>\n",
       "      <td>0</td>\n",
       "      <td>1</td>\n",
       "      <td>0</td>\n",
       "    </tr>\n",
       "    <tr>\n",
       "      <th>4</th>\n",
       "      <td>0</td>\n",
       "      <td>62.58</td>\n",
       "      <td>19.17</td>\n",
       "      <td>29.8</td>\n",
       "      <td>5.79</td>\n",
       "      <td>3.45</td>\n",
       "      <td>2.6</td>\n",
       "      <td>1.52</td>\n",
       "      <td>2.0</td>\n",
       "      <td>6.05</td>\n",
       "      <td>0.24</td>\n",
       "      <td>12.91</td>\n",
       "      <td>0.315597</td>\n",
       "      <td>1</td>\n",
       "      <td>0</td>\n",
       "      <td>0</td>\n",
       "      <td>0</td>\n",
       "      <td>0</td>\n",
       "      <td>0</td>\n",
       "      <td>0</td>\n",
       "      <td>0</td>\n",
       "      <td>0</td>\n",
       "      <td>0</td>\n",
       "      <td>0</td>\n",
       "      <td>0</td>\n",
       "      <td>0</td>\n",
       "      <td>1</td>\n",
       "      <td>1</td>\n",
       "      <td>0</td>\n",
       "      <td>0</td>\n",
       "      <td>0</td>\n",
       "      <td>0</td>\n",
       "      <td>0</td>\n",
       "      <td>0</td>\n",
       "      <td>0</td>\n",
       "      <td>0</td>\n",
       "      <td>0</td>\n",
       "      <td>0</td>\n",
       "    </tr>\n",
       "  </tbody>\n",
       "</table>\n",
       "</div>"
      ],
      "text/plain": [
       "   Zone   cota  prof_local(m)  Temp  TotalP   Chl  Secchi   Turbidity  STS  \\\n",
       "0     0  73.86          30.00  30.4   15.34  4.76      3.0       2.18  1.0   \n",
       "1     0  73.86          30.00  30.2   18.91  4.05      2.1       2.96  0.6   \n",
       "2     0  73.69          30.00  29.5   20.70  5.95      2.5       2.90  2.8   \n",
       "3     0  73.67          30.40  31.6   19.94  5.95      1.2      10.10  0.6   \n",
       "4     0  62.58          19.17  29.8    5.79  3.45      2.6       1.52  2.0   \n",
       "\n",
       "     DO  OrthoP (mg/L)  Ammonium  relation_DO_profund  Year1  Mes1  Mes_1  \\\n",
       "0  7.30          16.18     35.39             0.243333      0     0      0   \n",
       "1  5.86          15.81     23.50             0.195333      0     0      0   \n",
       "2  6.56           5.44     75.84             0.218667      0     0      0   \n",
       "3  7.82           9.51     23.50             0.257237      0     0      0   \n",
       "4  6.05           0.24     12.91             0.315597      1     0      0   \n",
       "\n",
       "   Mes_2  Mes_3  Mes_4  Mes_5  Mes_6  Mes_7  Mes_8  Mes_9  Mes_10  Mes_11  \\\n",
       "0      0      0      1      0      0      0      0      0       0       0   \n",
       "1      0      0      1      0      0      0      0      0       0       0   \n",
       "2      0      0      1      0      0      0      0      0       0       0   \n",
       "3      0      0      1      0      0      0      0      0       0       0   \n",
       "4      0      0      0      0      0      0      0      0       0       0   \n",
       "\n",
       "   Mes_12  Year_2006  Year_2007  Year_2008  Year_2009  Year_2010  Year_2011  \\\n",
       "0       0          0          0          0          0          0          0   \n",
       "1       0          0          0          0          0          0          0   \n",
       "2       0          0          0          0          0          0          0   \n",
       "3       0          0          0          0          0          0          0   \n",
       "4       1          1          0          0          0          0          0   \n",
       "\n",
       "   Year_2012  Year_2013  Year_2014  Year_2015  Year_2016  \n",
       "0          1          0          0          0          0  \n",
       "1          0          1          0          0          0  \n",
       "2          0          0          1          0          0  \n",
       "3          0          0          0          1          0  \n",
       "4          0          0          0          0          0  "
      ]
     },
     "execution_count": 15,
     "metadata": {},
     "output_type": "execute_result"
    }
   ],
   "source": [
    "x = banco.drop(\"Zone\", axis = 1)\n",
    "y = banco[\"Zone\"]\n",
    "\n",
    "banco.head()"
   ]
  },
  {
   "cell_type": "code",
   "execution_count": 16,
   "metadata": {
    "execution": {
     "iopub.execute_input": "2020-06-04T15:16:37.843225Z",
     "iopub.status.busy": "2020-06-04T15:16:37.842225Z",
     "iopub.status.idle": "2020-06-04T15:16:37.855222Z",
     "shell.execute_reply": "2020-06-04T15:16:37.852222Z",
     "shell.execute_reply.started": "2020-06-04T15:16:37.843225Z"
    }
   },
   "outputs": [],
   "source": [
    "# from sklearn.compose import ColumnTransformer\n",
    "# from sklearn.preprocessing import StandardScaler\n",
    "\n",
    "# var = [\"cota\", \"prof_local(m)\", \"Temp\", \"TotalP\", \"Chl\", \"Secchi \", \"Turbidity\", \"STS\", \"DO\", \"OrthoP (mg/L)\", \"Ammonium\"]\n",
    "\n",
    "# features = banco[var]\n",
    "\n",
    "# ct = ColumnTransformer([\n",
    "#         ('somename', StandardScaler(), var)\n",
    "#     ], remainder='passthrough')\n",
    "\n",
    "# banco[var] = ct.fit_transform(features)\n",
    "\n",
    "# banco = pd.concat([banco[var], banco[\"Zone\"]], axis = 1)\n",
    "\n",
    "# banco.head()"
   ]
  },
  {
   "cell_type": "markdown",
   "metadata": {},
   "source": [
    "## Separando em treino e teste"
   ]
  },
  {
   "cell_type": "code",
   "execution_count": 17,
   "metadata": {
    "execution": {
     "iopub.execute_input": "2020-06-04T15:16:37.859221Z",
     "iopub.status.busy": "2020-06-04T15:16:37.857221Z",
     "iopub.status.idle": "2020-06-04T15:16:38.061169Z",
     "shell.execute_reply": "2020-06-04T15:16:38.060170Z",
     "shell.execute_reply.started": "2020-06-04T15:16:37.859221Z"
    }
   },
   "outputs": [],
   "source": [
    "from sklearn.model_selection import train_test_split\n",
    "\n",
    "x_treino, x_teste, y_treino, y_teste = train_test_split(x, y, train_size = 0.7, random_state = 1234)"
   ]
  },
  {
   "cell_type": "code",
   "execution_count": 18,
   "metadata": {
    "execution": {
     "iopub.execute_input": "2020-06-04T15:16:38.063170Z",
     "iopub.status.busy": "2020-06-04T15:16:38.062169Z",
     "iopub.status.idle": "2020-06-04T15:16:38.076167Z",
     "shell.execute_reply": "2020-06-04T15:16:38.074167Z",
     "shell.execute_reply.started": "2020-06-04T15:16:38.063170Z"
    }
   },
   "outputs": [
    {
     "data": {
      "text/plain": [
       "((382, 37), (382,), (165, 37), (165,))"
      ]
     },
     "execution_count": 18,
     "metadata": {},
     "output_type": "execute_result"
    }
   ],
   "source": [
    "x_treino.shape, y_treino.shape, x_teste.shape, y_teste.shape"
   ]
  },
  {
   "cell_type": "code",
   "execution_count": 19,
   "metadata": {
    "execution": {
     "iopub.execute_input": "2020-06-04T15:16:38.078165Z",
     "iopub.status.busy": "2020-06-04T15:16:38.077167Z",
     "iopub.status.idle": "2020-06-04T15:16:38.097161Z",
     "shell.execute_reply": "2020-06-04T15:16:38.096161Z",
     "shell.execute_reply.started": "2020-06-04T15:16:38.078165Z"
    }
   },
   "outputs": [
    {
     "name": "stdout",
     "output_type": "stream",
     "text": [
      "---------------------------------------------\n",
      "Proporção da variável target nos dados de treino:\n",
      " 0    0.353403\n",
      "1    0.337696\n",
      "2    0.308901\n",
      "Name: Zone, dtype: float64\n",
      "---------------------------------------------\n",
      "Proporção da variável target nos dados de treino:\n",
      " 0    0.357576\n",
      "2    0.327273\n",
      "1    0.315152\n",
      "Name: Zone, dtype: float64\n"
     ]
    }
   ],
   "source": [
    "print(15*\"---\")\n",
    "\n",
    "print(\"Proporção da variável target nos dados de treino:\\n\", y_treino.value_counts(normalize = True))\n",
    "\n",
    "print(15*\"---\")\n",
    "\n",
    "print(\"Proporção da variável target nos dados de treino:\\n\", y_teste.value_counts(normalize = True))"
   ]
  },
  {
   "cell_type": "markdown",
   "metadata": {},
   "source": [
    "## Modelos"
   ]
  },
  {
   "cell_type": "code",
   "execution_count": 20,
   "metadata": {
    "execution": {
     "iopub.execute_input": "2020-06-04T15:16:38.100160Z",
     "iopub.status.busy": "2020-06-04T15:16:38.099161Z",
     "iopub.status.idle": "2020-06-04T15:16:38.513059Z",
     "shell.execute_reply": "2020-06-04T15:16:38.513059Z",
     "shell.execute_reply.started": "2020-06-04T15:16:38.100160Z"
    }
   },
   "outputs": [
    {
     "data": {
      "text/plain": [
       "RandomForestClassifier(bootstrap=True, ccp_alpha=0.0, class_weight=None,\n",
       "                       criterion='gini', max_depth=None, max_features='auto',\n",
       "                       max_leaf_nodes=None, max_samples=None,\n",
       "                       min_impurity_decrease=0.0, min_impurity_split=None,\n",
       "                       min_samples_leaf=1, min_samples_split=2,\n",
       "                       min_weight_fraction_leaf=0.0, n_estimators=100,\n",
       "                       n_jobs=-1, oob_score=False, random_state=1234, verbose=0,\n",
       "                       warm_start=False)"
      ]
     },
     "execution_count": 20,
     "metadata": {},
     "output_type": "execute_result"
    }
   ],
   "source": [
    "from sklearn.ensemble import RandomForestClassifier\n",
    "from sklearn.linear_model import LogisticRegression\n",
    "from sklearn.svm import SVC, LinearSVC\n",
    "from sklearn.ensemble import RandomForestClassifier\n",
    "from sklearn.neighbors import KNeighborsClassifier\n",
    "from sklearn.naive_bayes import GaussianNB\n",
    "from sklearn.linear_model import Perceptron\n",
    "from sklearn.linear_model import SGDClassifier\n",
    "from sklearn.tree import DecisionTreeClassifier\n",
    "\n",
    "\n",
    "#--- Random Forest\n",
    "\n",
    "rfc = RandomForestClassifier(n_estimators = 100, \n",
    "                             random_state = 1234, \n",
    "                             n_jobs = -1)\n",
    "\n",
    "# 'test_accuracy': array([1.        , 1.        , 1.        , 0.94117647, 1.        ,\n",
    "#         1.        , 0.9375    , 1.        , 1.        , 0.9375    ])}\n",
    "\n",
    "\n",
    "#--- Regressão logística \n",
    "\n",
    "# rfc = LogisticRegression(random_state = 1234, n_jobs = -1)\n",
    "\n",
    "# 'test_accuracy': array([0.88235294, 0.94117647, 0.82352941, 0.88235294, 0.94117647,\n",
    "#         0.8125    , 0.8125    , 0.8125    , 0.8125    , 0.8125    ])}\n",
    "\n",
    "\n",
    "#--- SVC\n",
    "\n",
    "\n",
    "# rfc = SVC()\n",
    "\n",
    "# 'test_accuracy': array([0.64705882, 0.52941176, 0.64705882, 0.58823529, 0.58823529,\n",
    "#         0.3125    , 0.5625    , 0.5625    , 0.375     , 0.5625    ])}\n",
    "\n",
    "\n",
    "#--- KNN\n",
    "\n",
    "# rfc = KNeighborsClassifier(n_neighbors = 15)\n",
    "\n",
    "# 'test_accuracy': array([0.42857143, 0.64285714, 0.5       , 0.42857143, 0.2962963 ,\n",
    "#         0.40740741, 0.66666667, 0.37037037, 0.55555556, 0.51851852])}\n",
    "\n",
    "# # Gaussian Naive Bayes\n",
    "\n",
    "# rfc = GaussianNB()\n",
    "\n",
    "# 'test_accuracy': array([0.71428571, 0.64285714, 0.75      , 0.64285714, 0.66666667,\n",
    "#         0.48148148, 0.7037037 , 0.81481481, 0.7037037 , 0.7037037 ])}\n",
    "\n",
    "\n",
    "# Perceptron\n",
    "\n",
    "# rfc = Perceptron()\n",
    "\n",
    "# 'test_accuracy': array([0.46428571, 0.32142857, 0.32142857, 0.32142857, 0.33333333,\n",
    "#         0.2962963 , 0.33333333, 0.2962963 , 0.37037037, 0.2962963 ])}\n",
    "\n",
    "\n",
    "# Linear SVC\n",
    "\n",
    "# rfc = LinearSVC(max_iter = 500)\n",
    "\n",
    "# test_accuracy': array([0.42857143, 0.57142857, 0.5       , 0.42857143, 0.51851852,\n",
    "#         0.37037037, 0.44444444, 0.59259259, 0.48148148, 0.48148148])}\n",
    "\n",
    "\n",
    "# Stochastic Gradient Descent\n",
    "\n",
    "# rfc = SGDClassifier()\n",
    "\n",
    "# 'test_accuracy': array([0.39285714, 0.39285714, 0.39285714, 0.35714286, 0.33333333,\n",
    "#         0.40740741, 0.33333333, 0.59259259, 0.44444444, 0.37037037])}\n",
    "\n",
    "\n",
    "# Decision Tree\n",
    "\n",
    "# rfc = DecisionTreeClassifier(random_state = 1234)\n",
    "\n",
    "# 'test_accuracy': array([0.75      , 0.64285714, 0.53571429, 0.64285714, 0.59259259,\n",
    "#         0.40740741, 0.59259259, 0.66666667, 0.55555556, 0.74074074])}\n",
    "\n",
    "\n",
    "rfc"
   ]
  },
  {
   "cell_type": "markdown",
   "metadata": {},
   "source": [
    "## Cross Validation\n"
   ]
  },
  {
   "cell_type": "code",
   "execution_count": 21,
   "metadata": {
    "execution": {
     "iopub.execute_input": "2020-06-04T15:16:38.517059Z",
     "iopub.status.busy": "2020-06-04T15:16:38.515058Z",
     "iopub.status.idle": "2020-06-04T15:16:42.895980Z",
     "shell.execute_reply": "2020-06-04T15:16:42.893982Z",
     "shell.execute_reply.started": "2020-06-04T15:16:38.517059Z"
    }
   },
   "outputs": [
    {
     "name": "stdout",
     "output_type": "stream",
     "text": [
      "Wall time: 4.37 s\n"
     ]
    }
   ],
   "source": [
    "%%time\n",
    "\n",
    "from sklearn.model_selection import cross_validate \n",
    "\n",
    "scoring1 = [\n",
    "     \"accuracy\"]\n",
    "\n",
    "scores = cross_validate(rfc, x_teste, y_teste, cv = 3, scoring = scoring1, n_jobs = -1)\n",
    "\n",
    "# print(\"Os scores são:\", scores)\n",
    "\n",
    "# print(\"Média dos scores:\", scores.mean())"
   ]
  },
  {
   "cell_type": "code",
   "execution_count": 22,
   "metadata": {
    "execution": {
     "iopub.execute_input": "2020-06-04T15:16:42.900980Z",
     "iopub.status.busy": "2020-06-04T15:16:42.899980Z",
     "iopub.status.idle": "2020-06-04T15:16:42.916976Z",
     "shell.execute_reply": "2020-06-04T15:16:42.913975Z",
     "shell.execute_reply.started": "2020-06-04T15:16:42.900980Z"
    }
   },
   "outputs": [
    {
     "data": {
      "text/plain": [
       "{'fit_time': array([0.53086901, 0.45988965, 0.44488907]),\n",
       " 'score_time': array([0.15396404, 0.15795851, 0.12596869]),\n",
       " 'test_accuracy': array([0.61818182, 0.63636364, 0.61818182])}"
      ]
     },
     "execution_count": 22,
     "metadata": {},
     "output_type": "execute_result"
    }
   ],
   "source": [
    "scores"
   ]
  },
  {
   "cell_type": "markdown",
   "metadata": {},
   "source": [
    "## RandomSearch + CV"
   ]
  },
  {
   "cell_type": "code",
   "execution_count": 23,
   "metadata": {
    "execution": {
     "iopub.execute_input": "2020-06-04T15:16:42.921973Z",
     "iopub.status.busy": "2020-06-04T15:16:42.920975Z",
     "iopub.status.idle": "2020-06-04T15:16:42.941968Z",
     "shell.execute_reply": "2020-06-04T15:16:42.940969Z",
     "shell.execute_reply.started": "2020-06-04T15:16:42.921973Z"
    }
   },
   "outputs": [],
   "source": [
    "#--- Parametros a serem utilizados\n",
    "\n",
    "parametros = {\"max_depth\" : [10, 30, 50, 70, 90, None], \n",
    "\"max_features\" : [10, 30, 50, 70, 90, None], \n",
    "\"max_leaf_nodes\" : [10, 30, 50, 70, 90, None], \n",
    "\"max_samples\" : [10, 30, 50, 70, 90, None], \n",
    "\"min_samples_leaf\" : [10, 30, 50, 70, 90, None], \n",
    "\"min_samples_split\" : [10, 30, 50, 70, 90, None]}\n",
    "\n",
    "#--- Criando o objeto\n",
    "\n",
    "from sklearn.model_selection import RandomizedSearchCV\n",
    "\n",
    "\n",
    "clf = RandomizedSearchCV(rfc, parametros, random_state = 1234, n_iter = 100, cv = 3, verbose = 0, n_jobs = -1,\n",
    "                         scoring = \"accuracy\")"
   ]
  },
  {
   "cell_type": "code",
   "execution_count": 24,
   "metadata": {
    "execution": {
     "iopub.execute_input": "2020-06-04T15:16:42.945969Z",
     "iopub.status.busy": "2020-06-04T15:16:42.944968Z",
     "iopub.status.idle": "2020-06-04T15:17:06.153251Z",
     "shell.execute_reply": "2020-06-04T15:17:06.152252Z",
     "shell.execute_reply.started": "2020-06-04T15:16:42.945969Z"
    }
   },
   "outputs": [
    {
     "name": "stdout",
     "output_type": "stream",
     "text": [
      "Wall time: 23.2 s\n"
     ]
    }
   ],
   "source": [
    "%%time\n",
    "\n",
    "best_model = clf.fit(x_treino, y_treino)"
   ]
  },
  {
   "cell_type": "code",
   "execution_count": 25,
   "metadata": {
    "execution": {
     "iopub.execute_input": "2020-06-04T15:17:06.155252Z",
     "iopub.status.busy": "2020-06-04T15:17:06.155252Z",
     "iopub.status.idle": "2020-06-04T15:17:06.164249Z",
     "shell.execute_reply": "2020-06-04T15:17:06.163249Z",
     "shell.execute_reply.started": "2020-06-04T15:17:06.155252Z"
    }
   },
   "outputs": [
    {
     "data": {
      "text/plain": [
       "{'min_samples_split': 50,\n",
       " 'min_samples_leaf': 10,\n",
       " 'max_samples': None,\n",
       " 'max_leaf_nodes': None,\n",
       " 'max_features': 30,\n",
       " 'max_depth': 10}"
      ]
     },
     "execution_count": 25,
     "metadata": {},
     "output_type": "execute_result"
    }
   ],
   "source": [
    "best_model.best_params_"
   ]
  },
  {
   "cell_type": "code",
   "execution_count": 26,
   "metadata": {
    "execution": {
     "iopub.execute_input": "2020-06-04T15:17:06.167249Z",
     "iopub.status.busy": "2020-06-04T15:17:06.166249Z",
     "iopub.status.idle": "2020-06-04T15:17:06.280221Z",
     "shell.execute_reply": "2020-06-04T15:17:06.278220Z",
     "shell.execute_reply.started": "2020-06-04T15:17:06.167249Z"
    }
   },
   "outputs": [],
   "source": [
    "y_pred = clf.predict(x_teste)"
   ]
  },
  {
   "cell_type": "markdown",
   "metadata": {},
   "source": [
    "## Random Forest aplicado aos dados de teste"
   ]
  },
  {
   "cell_type": "code",
   "execution_count": 27,
   "metadata": {
    "execution": {
     "iopub.execute_input": "2020-06-04T15:17:06.290217Z",
     "iopub.status.busy": "2020-06-04T15:17:06.289219Z",
     "iopub.status.idle": "2020-06-04T15:17:06.719114Z",
     "shell.execute_reply": "2020-06-04T15:17:06.719114Z",
     "shell.execute_reply.started": "2020-06-04T15:17:06.290217Z"
    }
   },
   "outputs": [],
   "source": [
    "rfc.fit(x_treino, y_treino)\n",
    "\n",
    "y_pred = rfc.predict(x_teste)"
   ]
  },
  {
   "cell_type": "markdown",
   "metadata": {},
   "source": [
    "# Métricas a serem avaliadas\n"
   ]
  },
  {
   "cell_type": "code",
   "execution_count": 28,
   "metadata": {
    "execution": {
     "iopub.execute_input": "2020-06-04T15:17:06.721112Z",
     "iopub.status.busy": "2020-06-04T15:17:06.721112Z",
     "iopub.status.idle": "2020-06-04T15:17:06.741108Z",
     "shell.execute_reply": "2020-06-04T15:17:06.740107Z",
     "shell.execute_reply.started": "2020-06-04T15:17:06.721112Z"
    }
   },
   "outputs": [
    {
     "name": "stdout",
     "output_type": "stream",
     "text": [
      "Accuracy: 0.7393939393939394\n"
     ]
    }
   ],
   "source": [
    "from sklearn.metrics import accuracy_score\n",
    "\n",
    "acc = accuracy_score(y_teste, y_pred)\n",
    "\n",
    "print(\"Accuracy:\", acc)"
   ]
  },
  {
   "cell_type": "code",
   "execution_count": 29,
   "metadata": {
    "execution": {
     "iopub.execute_input": "2020-06-04T15:17:06.747107Z",
     "iopub.status.busy": "2020-06-04T15:17:06.743107Z",
     "iopub.status.idle": "2020-06-04T15:17:06.768102Z",
     "shell.execute_reply": "2020-06-04T15:17:06.764102Z",
     "shell.execute_reply.started": "2020-06-04T15:17:06.747107Z"
    }
   },
   "outputs": [
    {
     "name": "stdout",
     "output_type": "stream",
     "text": [
      "[[38 18  3]\n",
      " [10 37  5]\n",
      " [ 0  7 47]]\n"
     ]
    }
   ],
   "source": [
    "from sklearn.metrics import confusion_matrix\n",
    "\n",
    "print(confusion_matrix(y_teste, y_pred))"
   ]
  },
  {
   "cell_type": "code",
   "execution_count": 30,
   "metadata": {
    "execution": {
     "iopub.execute_input": "2020-06-04T15:17:06.779100Z",
     "iopub.status.busy": "2020-06-04T15:17:06.775099Z",
     "iopub.status.idle": "2020-06-04T15:17:06.930061Z",
     "shell.execute_reply": "2020-06-04T15:17:06.928062Z",
     "shell.execute_reply.started": "2020-06-04T15:17:06.778099Z"
    }
   },
   "outputs": [
    {
     "data": {
      "text/html": [
       "<div>\n",
       "<style scoped>\n",
       "    .dataframe tbody tr th:only-of-type {\n",
       "        vertical-align: middle;\n",
       "    }\n",
       "\n",
       "    .dataframe tbody tr th {\n",
       "        vertical-align: top;\n",
       "    }\n",
       "\n",
       "    .dataframe thead th {\n",
       "        text-align: right;\n",
       "    }\n",
       "</style>\n",
       "<table border=\"1\" class=\"dataframe\">\n",
       "  <thead>\n",
       "    <tr style=\"text-align: right;\">\n",
       "      <th>Predicted</th>\n",
       "      <th>0</th>\n",
       "      <th>1</th>\n",
       "      <th>2</th>\n",
       "      <th>All</th>\n",
       "    </tr>\n",
       "    <tr>\n",
       "      <th>True</th>\n",
       "      <th></th>\n",
       "      <th></th>\n",
       "      <th></th>\n",
       "      <th></th>\n",
       "    </tr>\n",
       "  </thead>\n",
       "  <tbody>\n",
       "    <tr>\n",
       "      <th>0</th>\n",
       "      <td>38</td>\n",
       "      <td>18</td>\n",
       "      <td>3</td>\n",
       "      <td>59</td>\n",
       "    </tr>\n",
       "    <tr>\n",
       "      <th>1</th>\n",
       "      <td>10</td>\n",
       "      <td>37</td>\n",
       "      <td>5</td>\n",
       "      <td>52</td>\n",
       "    </tr>\n",
       "    <tr>\n",
       "      <th>2</th>\n",
       "      <td>0</td>\n",
       "      <td>7</td>\n",
       "      <td>47</td>\n",
       "      <td>54</td>\n",
       "    </tr>\n",
       "    <tr>\n",
       "      <th>All</th>\n",
       "      <td>48</td>\n",
       "      <td>62</td>\n",
       "      <td>55</td>\n",
       "      <td>165</td>\n",
       "    </tr>\n",
       "  </tbody>\n",
       "</table>\n",
       "</div>"
      ],
      "text/plain": [
       "Predicted   0   1   2  All\n",
       "True                      \n",
       "0          38  18   3   59\n",
       "1          10  37   5   52\n",
       "2           0   7  47   54\n",
       "All        48  62  55  165"
      ]
     },
     "execution_count": 30,
     "metadata": {},
     "output_type": "execute_result"
    }
   ],
   "source": [
    "pd.crosstab(y_teste, y_pred, rownames = [\"True\"], colnames = [\"Predicted\"], margins = True)"
   ]
  },
  {
   "cell_type": "code",
   "execution_count": 31,
   "metadata": {
    "execution": {
     "iopub.execute_input": "2020-06-04T15:17:06.937059Z",
     "iopub.status.busy": "2020-06-04T15:17:06.936060Z",
     "iopub.status.idle": "2020-06-04T15:17:06.957055Z",
     "shell.execute_reply": "2020-06-04T15:17:06.956055Z",
     "shell.execute_reply.started": "2020-06-04T15:17:06.937059Z"
    }
   },
   "outputs": [
    {
     "name": "stdout",
     "output_type": "stream",
     "text": [
      "              precision    recall  f1-score   support\n",
      "\n",
      "           0       0.79      0.64      0.71        59\n",
      "           1       0.60      0.71      0.65        52\n",
      "           2       0.85      0.87      0.86        54\n",
      "\n",
      "    accuracy                           0.74       165\n",
      "   macro avg       0.75      0.74      0.74       165\n",
      "weighted avg       0.75      0.74      0.74       165\n",
      "\n"
     ]
    }
   ],
   "source": [
    "from sklearn.metrics import classification_report\n",
    "\n",
    "print(classification_report(y_teste, y_pred))\n",
    "\n",
    "\n",
    "# 0: Fluvial, 1: Lacustre e 2: Transição"
   ]
  },
  {
   "cell_type": "code",
   "execution_count": 32,
   "metadata": {
    "execution": {
     "iopub.execute_input": "2020-06-04T15:17:06.962053Z",
     "iopub.status.busy": "2020-06-04T15:17:06.961053Z",
     "iopub.status.idle": "2020-06-04T15:17:07.102018Z",
     "shell.execute_reply": "2020-06-04T15:17:07.100020Z",
     "shell.execute_reply.started": "2020-06-04T15:17:06.962053Z"
    }
   },
   "outputs": [
    {
     "data": {
      "text/html": [
       "<div>\n",
       "<style scoped>\n",
       "    .dataframe tbody tr th:only-of-type {\n",
       "        vertical-align: middle;\n",
       "    }\n",
       "\n",
       "    .dataframe tbody tr th {\n",
       "        vertical-align: top;\n",
       "    }\n",
       "\n",
       "    .dataframe thead th {\n",
       "        text-align: right;\n",
       "    }\n",
       "</style>\n",
       "<table border=\"1\" class=\"dataframe\">\n",
       "  <thead>\n",
       "    <tr style=\"text-align: right;\">\n",
       "      <th></th>\n",
       "      <th>Variável</th>\n",
       "      <th>Valor</th>\n",
       "    </tr>\n",
       "  </thead>\n",
       "  <tbody>\n",
       "    <tr>\n",
       "      <th>1</th>\n",
       "      <td>prof_local(m)</td>\n",
       "      <td>0.10979</td>\n",
       "    </tr>\n",
       "    <tr>\n",
       "      <th>5</th>\n",
       "      <td>Secchi</td>\n",
       "      <td>0.10103</td>\n",
       "    </tr>\n",
       "    <tr>\n",
       "      <th>11</th>\n",
       "      <td>relation_DO_profund</td>\n",
       "      <td>0.09620</td>\n",
       "    </tr>\n",
       "    <tr>\n",
       "      <th>7</th>\n",
       "      <td>STS</td>\n",
       "      <td>0.09261</td>\n",
       "    </tr>\n",
       "    <tr>\n",
       "      <th>3</th>\n",
       "      <td>TotalP</td>\n",
       "      <td>0.06744</td>\n",
       "    </tr>\n",
       "    <tr>\n",
       "      <th>4</th>\n",
       "      <td>Chl</td>\n",
       "      <td>0.06276</td>\n",
       "    </tr>\n",
       "    <tr>\n",
       "      <th>2</th>\n",
       "      <td>Temp</td>\n",
       "      <td>0.06057</td>\n",
       "    </tr>\n",
       "    <tr>\n",
       "      <th>8</th>\n",
       "      <td>DO</td>\n",
       "      <td>0.05761</td>\n",
       "    </tr>\n",
       "    <tr>\n",
       "      <th>6</th>\n",
       "      <td>Turbidity</td>\n",
       "      <td>0.05740</td>\n",
       "    </tr>\n",
       "    <tr>\n",
       "      <th>0</th>\n",
       "      <td>cota</td>\n",
       "      <td>0.05008</td>\n",
       "    </tr>\n",
       "    <tr>\n",
       "      <th>9</th>\n",
       "      <td>OrthoP (mg/L)</td>\n",
       "      <td>0.04977</td>\n",
       "    </tr>\n",
       "    <tr>\n",
       "      <th>10</th>\n",
       "      <td>Ammonium</td>\n",
       "      <td>0.04730</td>\n",
       "    </tr>\n",
       "    <tr>\n",
       "      <th>23</th>\n",
       "      <td>Mes_10</td>\n",
       "      <td>0.01238</td>\n",
       "    </tr>\n",
       "    <tr>\n",
       "      <th>22</th>\n",
       "      <td>Mes_9</td>\n",
       "      <td>0.01152</td>\n",
       "    </tr>\n",
       "    <tr>\n",
       "      <th>15</th>\n",
       "      <td>Mes_2</td>\n",
       "      <td>0.01077</td>\n",
       "    </tr>\n",
       "    <tr>\n",
       "      <th>17</th>\n",
       "      <td>Mes_4</td>\n",
       "      <td>0.01020</td>\n",
       "    </tr>\n",
       "    <tr>\n",
       "      <th>13</th>\n",
       "      <td>Mes1</td>\n",
       "      <td>0.00990</td>\n",
       "    </tr>\n",
       "    <tr>\n",
       "      <th>16</th>\n",
       "      <td>Mes_3</td>\n",
       "      <td>0.00792</td>\n",
       "    </tr>\n",
       "    <tr>\n",
       "      <th>29</th>\n",
       "      <td>Year_2009</td>\n",
       "      <td>0.00661</td>\n",
       "    </tr>\n",
       "    <tr>\n",
       "      <th>12</th>\n",
       "      <td>Year1</td>\n",
       "      <td>0.00657</td>\n",
       "    </tr>\n",
       "    <tr>\n",
       "      <th>20</th>\n",
       "      <td>Mes_7</td>\n",
       "      <td>0.00653</td>\n",
       "    </tr>\n",
       "    <tr>\n",
       "      <th>19</th>\n",
       "      <td>Mes_6</td>\n",
       "      <td>0.00641</td>\n",
       "    </tr>\n",
       "    <tr>\n",
       "      <th>25</th>\n",
       "      <td>Mes_12</td>\n",
       "      <td>0.00627</td>\n",
       "    </tr>\n",
       "    <tr>\n",
       "      <th>32</th>\n",
       "      <td>Year_2012</td>\n",
       "      <td>0.00570</td>\n",
       "    </tr>\n",
       "    <tr>\n",
       "      <th>14</th>\n",
       "      <td>Mes_1</td>\n",
       "      <td>0.00488</td>\n",
       "    </tr>\n",
       "    <tr>\n",
       "      <th>31</th>\n",
       "      <td>Year_2011</td>\n",
       "      <td>0.00447</td>\n",
       "    </tr>\n",
       "    <tr>\n",
       "      <th>33</th>\n",
       "      <td>Year_2013</td>\n",
       "      <td>0.00414</td>\n",
       "    </tr>\n",
       "    <tr>\n",
       "      <th>28</th>\n",
       "      <td>Year_2008</td>\n",
       "      <td>0.00411</td>\n",
       "    </tr>\n",
       "    <tr>\n",
       "      <th>30</th>\n",
       "      <td>Year_2010</td>\n",
       "      <td>0.00385</td>\n",
       "    </tr>\n",
       "    <tr>\n",
       "      <th>36</th>\n",
       "      <td>Year_2016</td>\n",
       "      <td>0.00369</td>\n",
       "    </tr>\n",
       "    <tr>\n",
       "      <th>27</th>\n",
       "      <td>Year_2007</td>\n",
       "      <td>0.00352</td>\n",
       "    </tr>\n",
       "    <tr>\n",
       "      <th>26</th>\n",
       "      <td>Year_2006</td>\n",
       "      <td>0.00340</td>\n",
       "    </tr>\n",
       "    <tr>\n",
       "      <th>24</th>\n",
       "      <td>Mes_11</td>\n",
       "      <td>0.00326</td>\n",
       "    </tr>\n",
       "    <tr>\n",
       "      <th>35</th>\n",
       "      <td>Year_2015</td>\n",
       "      <td>0.00315</td>\n",
       "    </tr>\n",
       "    <tr>\n",
       "      <th>21</th>\n",
       "      <td>Mes_8</td>\n",
       "      <td>0.00290</td>\n",
       "    </tr>\n",
       "    <tr>\n",
       "      <th>34</th>\n",
       "      <td>Year_2014</td>\n",
       "      <td>0.00280</td>\n",
       "    </tr>\n",
       "    <tr>\n",
       "      <th>18</th>\n",
       "      <td>Mes_5</td>\n",
       "      <td>0.00250</td>\n",
       "    </tr>\n",
       "  </tbody>\n",
       "</table>\n",
       "</div>"
      ],
      "text/plain": [
       "               Variável    Valor\n",
       "1         prof_local(m)  0.10979\n",
       "5               Secchi   0.10103\n",
       "11  relation_DO_profund  0.09620\n",
       "7                   STS  0.09261\n",
       "3                TotalP  0.06744\n",
       "4                   Chl  0.06276\n",
       "2                  Temp  0.06057\n",
       "8                    DO  0.05761\n",
       "6             Turbidity  0.05740\n",
       "0                  cota  0.05008\n",
       "9         OrthoP (mg/L)  0.04977\n",
       "10             Ammonium  0.04730\n",
       "23               Mes_10  0.01238\n",
       "22                Mes_9  0.01152\n",
       "15                Mes_2  0.01077\n",
       "17                Mes_4  0.01020\n",
       "13                 Mes1  0.00990\n",
       "16                Mes_3  0.00792\n",
       "29            Year_2009  0.00661\n",
       "12                Year1  0.00657\n",
       "20                Mes_7  0.00653\n",
       "19                Mes_6  0.00641\n",
       "25               Mes_12  0.00627\n",
       "32            Year_2012  0.00570\n",
       "14                Mes_1  0.00488\n",
       "31            Year_2011  0.00447\n",
       "33            Year_2013  0.00414\n",
       "28            Year_2008  0.00411\n",
       "30            Year_2010  0.00385\n",
       "36            Year_2016  0.00369\n",
       "27            Year_2007  0.00352\n",
       "26            Year_2006  0.00340\n",
       "24               Mes_11  0.00326\n",
       "35            Year_2015  0.00315\n",
       "21                Mes_8  0.00290\n",
       "34            Year_2014  0.00280\n",
       "18                Mes_5  0.00250"
      ]
     },
     "execution_count": 32,
     "metadata": {},
     "output_type": "execute_result"
    }
   ],
   "source": [
    "pd.DataFrame(rfc.feature_importances_, x_teste.columns).reset_index().rename(columns = {0: \"Valor\", \"index\": \"Variável\"}).sort_values(\"Valor\", ascending = False).round(5)"
   ]
  }
 ],
 "metadata": {
  "kernelspec": {
   "display_name": "Python 3",
   "language": "python",
   "name": "python3"
  },
  "language_info": {
   "codemirror_mode": {
    "name": "ipython",
    "version": 3
   },
   "file_extension": ".py",
   "mimetype": "text/x-python",
   "name": "python",
   "nbconvert_exporter": "python",
   "pygments_lexer": "ipython3",
   "version": "3.7.6"
  }
 },
 "nbformat": 4,
 "nbformat_minor": 4
}
