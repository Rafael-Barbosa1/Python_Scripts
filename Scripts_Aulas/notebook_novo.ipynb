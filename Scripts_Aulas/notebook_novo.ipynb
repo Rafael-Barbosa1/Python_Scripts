{
 "cells": [
  {
   "cell_type": "markdown",
   "metadata": {},
   "source": [
    "# Carregando as bibliotecas"
   ]
  },
  {
   "cell_type": "code",
   "execution_count": 1,
   "metadata": {
    "execution": {
     "iopub.execute_input": "2020-06-01T12:51:09.583987Z",
     "iopub.status.busy": "2020-06-01T12:51:09.583987Z",
     "iopub.status.idle": "2020-06-01T12:51:11.338907Z",
     "shell.execute_reply": "2020-06-01T12:51:11.337910Z",
     "shell.execute_reply.started": "2020-06-01T12:51:09.583987Z"
    }
   },
   "outputs": [],
   "source": [
    "import pandas as pd\n",
    "import numpy as np\n",
    "import matplotlib.pyplot as plt\n",
    "import seaborn as sns"
   ]
  },
  {
   "cell_type": "markdown",
   "metadata": {},
   "source": [
    "# Configurações adicionais"
   ]
  },
  {
   "cell_type": "code",
   "execution_count": 2,
   "metadata": {
    "execution": {
     "iopub.execute_input": "2020-06-01T12:51:11.340906Z",
     "iopub.status.busy": "2020-06-01T12:51:11.339907Z",
     "iopub.status.idle": "2020-06-01T12:51:11.360895Z",
     "shell.execute_reply": "2020-06-01T12:51:11.356897Z",
     "shell.execute_reply.started": "2020-06-01T12:51:11.340906Z"
    }
   },
   "outputs": [],
   "source": [
    "plt.style.use(\"seaborn-muted\")\n",
    "%matplotlib inline\n",
    "pd.set_option('display.max_columns', None)"
   ]
  },
  {
   "cell_type": "markdown",
   "metadata": {},
   "source": [
    "# Carregando o banco de dados"
   ]
  },
  {
   "cell_type": "code",
   "execution_count": 3,
   "metadata": {
    "execution": {
     "iopub.execute_input": "2020-06-01T12:51:11.371888Z",
     "iopub.status.busy": "2020-06-01T12:51:11.369889Z",
     "iopub.status.idle": "2020-06-01T12:51:11.671703Z",
     "shell.execute_reply": "2020-06-01T12:51:11.670705Z",
     "shell.execute_reply.started": "2020-06-01T12:51:11.371888Z"
    }
   },
   "outputs": [],
   "source": [
    "banco = pd.read_excel(\"dataset.xlsx\")"
   ]
  },
  {
   "cell_type": "code",
   "execution_count": 4,
   "metadata": {
    "execution": {
     "iopub.execute_input": "2020-06-01T12:51:11.672703Z",
     "iopub.status.busy": "2020-06-01T12:51:11.672703Z",
     "iopub.status.idle": "2020-06-01T12:51:11.717676Z",
     "shell.execute_reply": "2020-06-01T12:51:11.714679Z",
     "shell.execute_reply.started": "2020-06-01T12:51:11.672703Z"
    }
   },
   "outputs": [
    {
     "name": "stdout",
     "output_type": "stream",
     "text": [
      "<class 'pandas.core.frame.DataFrame'>\n",
      "RangeIndex: 570 entries, 0 to 569\n",
      "Data columns (total 17 columns):\n",
      " #   Column         Non-Null Count  Dtype  \n",
      "---  ------         --------------  -----  \n",
      " 0   ID             570 non-null    int64  \n",
      " 1   Place          570 non-null    object \n",
      " 2   Cod_cycle      570 non-null    int64  \n",
      " 3   Zone           570 non-null    int64  \n",
      " 4   cota           570 non-null    float64\n",
      " 5   prof_local(m)  570 non-null    float64\n",
      " 6   Mes            570 non-null    int64  \n",
      " 7   Year           570 non-null    int64  \n",
      " 8   Temp           564 non-null    float64\n",
      " 9   TotalP         570 non-null    float64\n",
      " 10  Chl            570 non-null    float64\n",
      " 11  Secchi         570 non-null    float64\n",
      " 12  Turbidity      570 non-null    float64\n",
      " 13  STS            570 non-null    float64\n",
      " 14  DO             570 non-null    float64\n",
      " 15  OrthoP (mg/L)  550 non-null    float64\n",
      " 16  Ammonium       570 non-null    float64\n",
      "dtypes: float64(11), int64(5), object(1)\n",
      "memory usage: 75.8+ KB\n"
     ]
    }
   ],
   "source": [
    "banco.info()"
   ]
  },
  {
   "cell_type": "code",
   "execution_count": 5,
   "metadata": {
    "execution": {
     "iopub.execute_input": "2020-06-01T12:51:11.723673Z",
     "iopub.status.busy": "2020-06-01T12:51:11.719674Z",
     "iopub.status.idle": "2020-06-01T12:51:11.746657Z",
     "shell.execute_reply": "2020-06-01T12:51:11.743659Z",
     "shell.execute_reply.started": "2020-06-01T12:51:11.723673Z"
    }
   },
   "outputs": [
    {
     "data": {
      "text/plain": [
       "0    202\n",
       "1    195\n",
       "2    173\n",
       "Name: Zone, dtype: int64"
      ]
     },
     "execution_count": 5,
     "metadata": {},
     "output_type": "execute_result"
    }
   ],
   "source": [
    "banco[\"Zone\"].value_counts()"
   ]
  },
  {
   "cell_type": "markdown",
   "metadata": {},
   "source": [
    "## Valores nulos"
   ]
  },
  {
   "cell_type": "code",
   "execution_count": 6,
   "metadata": {
    "execution": {
     "iopub.execute_input": "2020-06-01T12:51:11.755653Z",
     "iopub.status.busy": "2020-06-01T12:51:11.752654Z",
     "iopub.status.idle": "2020-06-01T12:51:11.807620Z",
     "shell.execute_reply": "2020-06-01T12:51:11.798626Z",
     "shell.execute_reply.started": "2020-06-01T12:51:11.755653Z"
    }
   },
   "outputs": [
    {
     "data": {
      "text/plain": [
       "ID                0\n",
       "Place             0\n",
       "Cod_cycle         0\n",
       "Zone              0\n",
       "cota              0\n",
       "prof_local(m)     0\n",
       "Mes               0\n",
       "Year              0\n",
       "Temp              6\n",
       "TotalP            0\n",
       "Chl               0\n",
       "Secchi            0\n",
       "Turbidity         0\n",
       "STS               0\n",
       "DO                0\n",
       "OrthoP (mg/L)    20\n",
       "Ammonium          0\n",
       "dtype: int64"
      ]
     },
     "execution_count": 6,
     "metadata": {},
     "output_type": "execute_result"
    }
   ],
   "source": [
    "banco.isnull().sum()"
   ]
  },
  {
   "cell_type": "code",
   "execution_count": 7,
   "metadata": {
    "execution": {
     "iopub.execute_input": "2020-06-01T12:51:11.824610Z",
     "iopub.status.busy": "2020-06-01T12:51:11.817614Z",
     "iopub.status.idle": "2020-06-01T12:51:11.855595Z",
     "shell.execute_reply": "2020-06-01T12:51:11.849594Z",
     "shell.execute_reply.started": "2020-06-01T12:51:11.823611Z"
    }
   },
   "outputs": [],
   "source": [
    "banco = banco.dropna()"
   ]
  },
  {
   "cell_type": "markdown",
   "metadata": {},
   "source": [
    "# Exploratória"
   ]
  },
  {
   "cell_type": "code",
   "execution_count": 8,
   "metadata": {
    "execution": {
     "iopub.execute_input": "2020-06-01T12:51:11.862588Z",
     "iopub.status.busy": "2020-06-01T12:51:11.860588Z",
     "iopub.status.idle": "2020-06-01T12:51:12.304315Z",
     "shell.execute_reply": "2020-06-01T12:51:12.303315Z",
     "shell.execute_reply.started": "2020-06-01T12:51:11.862588Z"
    }
   },
   "outputs": [
    {
     "data": {
      "text/plain": [
       "<Figure size 720x432 with 0 Axes>"
      ]
     },
     "metadata": {},
     "output_type": "display_data"
    },
    {
     "data": {
      "image/png": "[encoded data removed]",
      "text/plain": [
       "<Figure size 432x288 with 1 Axes>"
      ]
     },
     "metadata": {
      "needs_background": "light"
     },
     "output_type": "display_data"
    }
   ],
   "source": [
    "# banco.groupby(\"Year\")[[\"Year\", \"Zone\"]].head(6)\n",
    "\n",
    "plt.figure(figsize = [10, 6])\n",
    "\n",
    "banco[[\"Mes\", \"Zone\"]].reset_index().groupby([\"Mes\", \"Zone\"], as_index = False).size().unstack().plot.bar()\n",
    "\n",
    "plt.show()"
   ]
  },
  {
   "cell_type": "markdown",
   "metadata": {},
   "source": [
    "## OneHotEncoding para a variável Place"
   ]
  },
  {
   "cell_type": "code",
   "execution_count": 9,
   "metadata": {
    "execution": {
     "iopub.execute_input": "2020-06-01T12:51:12.308312Z",
     "iopub.status.busy": "2020-06-01T12:51:12.308312Z",
     "iopub.status.idle": "2020-06-01T12:51:12.332297Z",
     "shell.execute_reply": "2020-06-01T12:51:12.331299Z",
     "shell.execute_reply.started": "2020-06-01T12:51:12.308312Z"
    }
   },
   "outputs": [],
   "source": [
    "banco = pd.get_dummies(data = banco, columns = [\"Place\", \"Cod_cycle\"])"
   ]
  },
  {
   "cell_type": "markdown",
   "metadata": {},
   "source": [
    "## Selecionando variáveis"
   ]
  },
  {
   "cell_type": "code",
   "execution_count": 10,
   "metadata": {
    "execution": {
     "iopub.execute_input": "2020-06-01T12:51:12.342292Z",
     "iopub.status.busy": "2020-06-01T12:51:12.338294Z",
     "iopub.status.idle": "2020-06-01T12:51:12.362280Z",
     "shell.execute_reply": "2020-06-01T12:51:12.360281Z",
     "shell.execute_reply.started": "2020-06-01T12:51:12.342292Z"
    }
   },
   "outputs": [],
   "source": [
    "# var = [\"Zone\", \"prof_local(m)\", \"Temp\", \"TotalP\", \"Chl\", \"Secchi \", \"Turbidity\", \"STS\", \"DO\", \"OrthoP (mg/L)\", \"Ammonium\"]\n",
    "\n",
    "# banco[var]\n",
    "\n",
    "\n",
    "banco = banco.drop([\"ID\", \"Year\", \"Mes\"], axis = 1)"
   ]
  },
  {
   "cell_type": "code",
   "execution_count": 11,
   "metadata": {
    "execution": {
     "iopub.execute_input": "2020-06-01T12:51:12.366277Z",
     "iopub.status.busy": "2020-06-01T12:51:12.364278Z",
     "iopub.status.idle": "2020-06-01T12:51:12.458221Z",
     "shell.execute_reply": "2020-06-01T12:51:12.457221Z",
     "shell.execute_reply.started": "2020-06-01T12:51:12.366277Z"
    }
   },
   "outputs": [
    {
     "data": {
      "text/html": [
       "<div>\n",
       "<style scoped>\n",
       "    .dataframe tbody tr th:only-of-type {\n",
       "        vertical-align: middle;\n",
       "    }\n",
       "\n",
       "    .dataframe tbody tr th {\n",
       "        vertical-align: top;\n",
       "    }\n",
       "\n",
       "    .dataframe thead th {\n",
       "        text-align: right;\n",
       "    }\n",
       "</style>\n",
       "<table border=\"1\" class=\"dataframe\">\n",
       "  <thead>\n",
       "    <tr style=\"text-align: right;\">\n",
       "      <th></th>\n",
       "      <th>Zone</th>\n",
       "      <th>cota</th>\n",
       "      <th>prof_local(m)</th>\n",
       "      <th>Temp</th>\n",
       "      <th>TotalP</th>\n",
       "      <th>Chl</th>\n",
       "      <th>Secchi</th>\n",
       "      <th>Turbidity</th>\n",
       "      <th>STS</th>\n",
       "      <th>DO</th>\n",
       "      <th>OrthoP (mg/L)</th>\n",
       "      <th>Ammonium</th>\n",
       "      <th>Place_C1</th>\n",
       "      <th>Place_C2</th>\n",
       "      <th>Place_M1</th>\n",
       "      <th>Place_M3</th>\n",
       "      <th>Place_M5</th>\n",
       "      <th>Place_MB</th>\n",
       "      <th>Place_MBB</th>\n",
       "      <th>Place_MI</th>\n",
       "      <th>Place_MJV</th>\n",
       "      <th>Place_ML</th>\n",
       "      <th>Place_MP</th>\n",
       "      <th>Place_MR</th>\n",
       "      <th>Cod_cycle_0</th>\n",
       "      <th>Cod_cycle_1</th>\n",
       "      <th>Cod_cycle_2</th>\n",
       "      <th>Cod_cycle_3</th>\n",
       "    </tr>\n",
       "  </thead>\n",
       "  <tbody>\n",
       "    <tr>\n",
       "      <th>0</th>\n",
       "      <td>0</td>\n",
       "      <td>73.86</td>\n",
       "      <td>30.00</td>\n",
       "      <td>30.4</td>\n",
       "      <td>15.34</td>\n",
       "      <td>4.76</td>\n",
       "      <td>3.0</td>\n",
       "      <td>2.18</td>\n",
       "      <td>1.0</td>\n",
       "      <td>7.30</td>\n",
       "      <td>16.18</td>\n",
       "      <td>35.39</td>\n",
       "      <td>1</td>\n",
       "      <td>0</td>\n",
       "      <td>0</td>\n",
       "      <td>0</td>\n",
       "      <td>0</td>\n",
       "      <td>0</td>\n",
       "      <td>0</td>\n",
       "      <td>0</td>\n",
       "      <td>0</td>\n",
       "      <td>0</td>\n",
       "      <td>0</td>\n",
       "      <td>0</td>\n",
       "      <td>0</td>\n",
       "      <td>0</td>\n",
       "      <td>1</td>\n",
       "      <td>0</td>\n",
       "    </tr>\n",
       "    <tr>\n",
       "      <th>1</th>\n",
       "      <td>0</td>\n",
       "      <td>73.86</td>\n",
       "      <td>30.00</td>\n",
       "      <td>30.2</td>\n",
       "      <td>18.91</td>\n",
       "      <td>4.05</td>\n",
       "      <td>2.1</td>\n",
       "      <td>2.96</td>\n",
       "      <td>0.6</td>\n",
       "      <td>5.86</td>\n",
       "      <td>15.81</td>\n",
       "      <td>23.50</td>\n",
       "      <td>1</td>\n",
       "      <td>0</td>\n",
       "      <td>0</td>\n",
       "      <td>0</td>\n",
       "      <td>0</td>\n",
       "      <td>0</td>\n",
       "      <td>0</td>\n",
       "      <td>0</td>\n",
       "      <td>0</td>\n",
       "      <td>0</td>\n",
       "      <td>0</td>\n",
       "      <td>0</td>\n",
       "      <td>0</td>\n",
       "      <td>0</td>\n",
       "      <td>1</td>\n",
       "      <td>0</td>\n",
       "    </tr>\n",
       "    <tr>\n",
       "      <th>2</th>\n",
       "      <td>0</td>\n",
       "      <td>73.69</td>\n",
       "      <td>30.00</td>\n",
       "      <td>29.5</td>\n",
       "      <td>20.70</td>\n",
       "      <td>5.95</td>\n",
       "      <td>2.5</td>\n",
       "      <td>2.90</td>\n",
       "      <td>2.8</td>\n",
       "      <td>6.56</td>\n",
       "      <td>5.44</td>\n",
       "      <td>75.84</td>\n",
       "      <td>1</td>\n",
       "      <td>0</td>\n",
       "      <td>0</td>\n",
       "      <td>0</td>\n",
       "      <td>0</td>\n",
       "      <td>0</td>\n",
       "      <td>0</td>\n",
       "      <td>0</td>\n",
       "      <td>0</td>\n",
       "      <td>0</td>\n",
       "      <td>0</td>\n",
       "      <td>0</td>\n",
       "      <td>0</td>\n",
       "      <td>0</td>\n",
       "      <td>1</td>\n",
       "      <td>0</td>\n",
       "    </tr>\n",
       "    <tr>\n",
       "      <th>3</th>\n",
       "      <td>0</td>\n",
       "      <td>73.67</td>\n",
       "      <td>30.40</td>\n",
       "      <td>31.6</td>\n",
       "      <td>19.94</td>\n",
       "      <td>5.95</td>\n",
       "      <td>1.2</td>\n",
       "      <td>10.10</td>\n",
       "      <td>0.6</td>\n",
       "      <td>7.82</td>\n",
       "      <td>9.51</td>\n",
       "      <td>23.50</td>\n",
       "      <td>1</td>\n",
       "      <td>0</td>\n",
       "      <td>0</td>\n",
       "      <td>0</td>\n",
       "      <td>0</td>\n",
       "      <td>0</td>\n",
       "      <td>0</td>\n",
       "      <td>0</td>\n",
       "      <td>0</td>\n",
       "      <td>0</td>\n",
       "      <td>0</td>\n",
       "      <td>0</td>\n",
       "      <td>0</td>\n",
       "      <td>0</td>\n",
       "      <td>1</td>\n",
       "      <td>0</td>\n",
       "    </tr>\n",
       "    <tr>\n",
       "      <th>4</th>\n",
       "      <td>0</td>\n",
       "      <td>62.58</td>\n",
       "      <td>19.17</td>\n",
       "      <td>29.8</td>\n",
       "      <td>5.79</td>\n",
       "      <td>3.45</td>\n",
       "      <td>2.6</td>\n",
       "      <td>1.52</td>\n",
       "      <td>2.0</td>\n",
       "      <td>6.05</td>\n",
       "      <td>0.24</td>\n",
       "      <td>12.91</td>\n",
       "      <td>1</td>\n",
       "      <td>0</td>\n",
       "      <td>0</td>\n",
       "      <td>0</td>\n",
       "      <td>0</td>\n",
       "      <td>0</td>\n",
       "      <td>0</td>\n",
       "      <td>0</td>\n",
       "      <td>0</td>\n",
       "      <td>0</td>\n",
       "      <td>0</td>\n",
       "      <td>0</td>\n",
       "      <td>0</td>\n",
       "      <td>1</td>\n",
       "      <td>0</td>\n",
       "      <td>0</td>\n",
       "    </tr>\n",
       "  </tbody>\n",
       "</table>\n",
       "</div>"
      ],
      "text/plain": [
       "   Zone   cota  prof_local(m)  Temp  TotalP   Chl  Secchi   Turbidity  STS  \\\n",
       "0     0  73.86          30.00  30.4   15.34  4.76      3.0       2.18  1.0   \n",
       "1     0  73.86          30.00  30.2   18.91  4.05      2.1       2.96  0.6   \n",
       "2     0  73.69          30.00  29.5   20.70  5.95      2.5       2.90  2.8   \n",
       "3     0  73.67          30.40  31.6   19.94  5.95      1.2      10.10  0.6   \n",
       "4     0  62.58          19.17  29.8    5.79  3.45      2.6       1.52  2.0   \n",
       "\n",
       "     DO  OrthoP (mg/L)  Ammonium  Place_C1  Place_C2  Place_M1  Place_M3  \\\n",
       "0  7.30          16.18     35.39         1         0         0         0   \n",
       "1  5.86          15.81     23.50         1         0         0         0   \n",
       "2  6.56           5.44     75.84         1         0         0         0   \n",
       "3  7.82           9.51     23.50         1         0         0         0   \n",
       "4  6.05           0.24     12.91         1         0         0         0   \n",
       "\n",
       "   Place_M5  Place_MB  Place_MBB  Place_MI  Place_MJV  Place_ML  Place_MP  \\\n",
       "0         0         0          0         0          0         0         0   \n",
       "1         0         0          0         0          0         0         0   \n",
       "2         0         0          0         0          0         0         0   \n",
       "3         0         0          0         0          0         0         0   \n",
       "4         0         0          0         0          0         0         0   \n",
       "\n",
       "   Place_MR  Cod_cycle_0  Cod_cycle_1  Cod_cycle_2  Cod_cycle_3  \n",
       "0         0            0            0            1            0  \n",
       "1         0            0            0            1            0  \n",
       "2         0            0            0            1            0  \n",
       "3         0            0            0            1            0  \n",
       "4         0            0            1            0            0  "
      ]
     },
     "execution_count": 11,
     "metadata": {},
     "output_type": "execute_result"
    }
   ],
   "source": [
    "x = banco.drop(\"Zone\", axis = 1)\n",
    "y = banco[\"Zone\"]\n",
    "\n",
    "banco.head()"
   ]
  },
  {
   "cell_type": "code",
   "execution_count": 12,
   "metadata": {
    "execution": {
     "iopub.execute_input": "2020-06-01T12:51:12.464217Z",
     "iopub.status.busy": "2020-06-01T12:51:12.461219Z",
     "iopub.status.idle": "2020-06-01T12:51:12.479208Z",
     "shell.execute_reply": "2020-06-01T12:51:12.473212Z",
     "shell.execute_reply.started": "2020-06-01T12:51:12.464217Z"
    }
   },
   "outputs": [],
   "source": [
    "# from sklearn.compose import ColumnTransformer\n",
    "# from sklearn.preprocessing import StandardScaler\n",
    "\n",
    "# var = [\"cota\", \"prof_local(m)\", \"Temp\", \"TotalP\", \"Chl\", \"Secchi \", \"Turbidity\", \"STS\", \"DO\", \"OrthoP (mg/L)\", \"Ammonium\"]\n",
    "\n",
    "# features = banco[var]\n",
    "\n",
    "# ct = ColumnTransformer([\n",
    "#         ('somename', StandardScaler(), var)\n",
    "#     ], remainder='passthrough')\n",
    "\n",
    "# banco[var] = ct.fit_transform(features)\n",
    "\n",
    "# banco = pd.concat([banco[var], banco[\"Zone\"]], axis = 1)\n",
    "\n",
    "# banco.head()"
   ]
  },
  {
   "cell_type": "markdown",
   "metadata": {},
   "source": [
    "## Separando em treino e teste"
   ]
  },
  {
   "cell_type": "code",
   "execution_count": 13,
   "metadata": {
    "execution": {
     "iopub.execute_input": "2020-06-01T12:51:12.486204Z",
     "iopub.status.busy": "2020-06-01T12:51:12.483206Z",
     "iopub.status.idle": "2020-06-01T12:51:12.648103Z",
     "shell.execute_reply": "2020-06-01T12:51:12.647103Z",
     "shell.execute_reply.started": "2020-06-01T12:51:12.486204Z"
    }
   },
   "outputs": [],
   "source": [
    "from sklearn.model_selection import train_test_split\n",
    "\n",
    "x_treino, x_teste, y_treino, y_teste = train_test_split(x, y, train_size = 0.7, random_state = 1234)"
   ]
  },
  {
   "cell_type": "code",
   "execution_count": 14,
   "metadata": {
    "execution": {
     "iopub.execute_input": "2020-06-01T12:51:12.651102Z",
     "iopub.status.busy": "2020-06-01T12:51:12.650102Z",
     "iopub.status.idle": "2020-06-01T12:51:12.675087Z",
     "shell.execute_reply": "2020-06-01T12:51:12.670148Z",
     "shell.execute_reply.started": "2020-06-01T12:51:12.651102Z"
    }
   },
   "outputs": [
    {
     "data": {
      "text/plain": [
       "((382, 27), (382,), (165, 27), (165,))"
      ]
     },
     "execution_count": 14,
     "metadata": {},
     "output_type": "execute_result"
    }
   ],
   "source": [
    "x_treino.shape, y_treino.shape, x_teste.shape, y_teste.shape"
   ]
  },
  {
   "cell_type": "markdown",
   "metadata": {},
   "source": [
    "## Modelos"
   ]
  },
  {
   "cell_type": "code",
   "execution_count": 15,
   "metadata": {
    "execution": {
     "iopub.execute_input": "2020-06-01T12:51:12.682083Z",
     "iopub.status.busy": "2020-06-01T12:51:12.679084Z",
     "iopub.status.idle": "2020-06-01T12:51:12.885957Z",
     "shell.execute_reply": "2020-06-01T12:51:12.884957Z",
     "shell.execute_reply.started": "2020-06-01T12:51:12.681084Z"
    }
   },
   "outputs": [],
   "source": [
    "from sklearn.ensemble import RandomForestClassifier\n",
    "from sklearn.linear_model import LogisticRegression\n",
    "from sklearn.svm import SVC, LinearSVC\n",
    "from sklearn.ensemble import RandomForestClassifier\n",
    "from sklearn.neighbors import KNeighborsClassifier\n",
    "from sklearn.naive_bayes import GaussianNB\n",
    "from sklearn.linear_model import Perceptron\n",
    "from sklearn.linear_model import SGDClassifier\n",
    "from sklearn.tree import DecisionTreeClassifier\n",
    "\n",
    "\n",
    "#--- Random Forest\n",
    "\n",
    "# rfc = RandomForestClassifier(n_estimators = 100, \n",
    "#                              random_state = 1234, \n",
    "#                              n_jobs = -1)\n",
    "\n",
    "# 'test_accuracy': array([1.        , 1.        , 1.        , 0.94117647, 1.        ,\n",
    "#         1.        , 0.9375    , 1.        , 1.        , 0.9375    ])}\n",
    "\n",
    "\n",
    "#--- Regressão logística \n",
    "\n",
    "# rfc = LogisticRegression(random_state = 1234, n_jobs = -1)\n",
    "\n",
    "# 'test_accuracy': array([0.88235294, 0.94117647, 0.82352941, 0.88235294, 0.94117647,\n",
    "#         0.8125    , 0.8125    , 0.8125    , 0.8125    , 0.8125    ])}\n",
    "\n",
    "\n",
    "#--- SVC\n",
    "\n",
    "\n",
    "# rfc = SVC()\n",
    "\n",
    "# 'test_accuracy': array([0.64705882, 0.52941176, 0.64705882, 0.58823529, 0.58823529,\n",
    "#         0.3125    , 0.5625    , 0.5625    , 0.375     , 0.5625    ])}\n",
    "\n",
    "\n",
    "#--- KNN\n",
    "\n",
    "# rfc = KNeighborsClassifier(n_neighbors = 3)\n",
    "\n",
    "# 'test_accuracy': array([0.42857143, 0.64285714, 0.5       , 0.42857143, 0.2962963 ,\n",
    "#         0.40740741, 0.66666667, 0.37037037, 0.55555556, 0.51851852])}\n",
    "\n",
    "# # Gaussian Naive Bayes\n",
    "\n",
    "# rfc = GaussianNB()\n",
    "\n",
    "# 'test_accuracy': array([0.71428571, 0.64285714, 0.75      , 0.64285714, 0.66666667,\n",
    "#         0.48148148, 0.7037037 , 0.81481481, 0.7037037 , 0.7037037 ])}\n",
    "\n",
    "\n",
    "# Perceptron\n",
    "\n",
    "# rfc = Perceptron()\n",
    "\n",
    "# 'test_accuracy': array([0.46428571, 0.32142857, 0.32142857, 0.32142857, 0.33333333,\n",
    "#         0.2962963 , 0.33333333, 0.2962963 , 0.37037037, 0.2962963 ])}\n",
    "\n",
    "\n",
    "# Linear SVC\n",
    "\n",
    "# rfc = LinearSVC(max_iter = 500)\n",
    "\n",
    "# test_accuracy': array([0.42857143, 0.57142857, 0.5       , 0.42857143, 0.51851852,\n",
    "#         0.37037037, 0.44444444, 0.59259259, 0.48148148, 0.48148148])}\n",
    "\n",
    "\n",
    "# Stochastic Gradient Descent\n",
    "\n",
    "# rfc = SGDClassifier()\n",
    "\n",
    "# 'test_accuracy': array([0.39285714, 0.39285714, 0.39285714, 0.35714286, 0.33333333,\n",
    "#         0.40740741, 0.33333333, 0.59259259, 0.44444444, 0.37037037])}\n",
    "\n",
    "\n",
    "# Decision Tree\n",
    "\n",
    "rfc = DecisionTreeClassifier(random_state = 1234)\n",
    "\n",
    "# 'test_accuracy': array([0.75      , 0.64285714, 0.53571429, 0.64285714, 0.59259259,\n",
    "#         0.40740741, 0.59259259, 0.66666667, 0.55555556, 0.74074074])}\n",
    "\n",
    "\n"
   ]
  },
  {
   "cell_type": "markdown",
   "metadata": {},
   "source": [
    "## Cross Validation\n"
   ]
  },
  {
   "cell_type": "code",
   "execution_count": 16,
   "metadata": {
    "execution": {
     "iopub.execute_input": "2020-06-01T12:51:12.889956Z",
     "iopub.status.busy": "2020-06-01T12:51:12.887957Z",
     "iopub.status.idle": "2020-06-01T12:51:15.230519Z",
     "shell.execute_reply": "2020-06-01T12:51:15.229519Z",
     "shell.execute_reply.started": "2020-06-01T12:51:12.889956Z"
    }
   },
   "outputs": [
    {
     "name": "stdout",
     "output_type": "stream",
     "text": [
      "Wall time: 2.33 s\n"
     ]
    }
   ],
   "source": [
    "%%time\n",
    "\n",
    "from sklearn.model_selection import cross_validate \n",
    "\n",
    "scoring1 = [\n",
    "     \"accuracy\"]\n",
    "\n",
    "scores = cross_validate(rfc, x_teste, y_teste, cv = 3, scoring = scoring1, n_jobs = -1)\n",
    "\n",
    "# print(\"Os scores são:\", scores)\n",
    "\n",
    "# print(\"Média dos scores:\", scores.mean())"
   ]
  },
  {
   "cell_type": "code",
   "execution_count": 17,
   "metadata": {
    "execution": {
     "iopub.execute_input": "2020-06-01T12:51:15.233517Z",
     "iopub.status.busy": "2020-06-01T12:51:15.232518Z",
     "iopub.status.idle": "2020-06-01T12:51:15.246509Z",
     "shell.execute_reply": "2020-06-01T12:51:15.244509Z",
     "shell.execute_reply.started": "2020-06-01T12:51:15.233517Z"
    }
   },
   "outputs": [
    {
     "data": {
      "text/plain": [
       "{'fit_time': array([0.00399756, 0.00699544, 0.00399709]),\n",
       " 'score_time': array([0.00099993, 0.00199866, 0.00099969]),\n",
       " 'test_accuracy': array([0.94545455, 0.94545455, 0.96363636])}"
      ]
     },
     "execution_count": 17,
     "metadata": {},
     "output_type": "execute_result"
    }
   ],
   "source": [
    "scores"
   ]
  },
  {
   "cell_type": "markdown",
   "metadata": {},
   "source": [
    "## Random Forest aplicado aos dados de teste"
   ]
  },
  {
   "cell_type": "code",
   "execution_count": 18,
   "metadata": {
    "execution": {
     "iopub.execute_input": "2020-06-01T12:51:15.248507Z",
     "iopub.status.busy": "2020-06-01T12:51:15.247507Z",
     "iopub.status.idle": "2020-06-01T12:51:15.295477Z",
     "shell.execute_reply": "2020-06-01T12:51:15.292480Z",
     "shell.execute_reply.started": "2020-06-01T12:51:15.248507Z"
    }
   },
   "outputs": [],
   "source": [
    "rfc.fit(x_treino, y_treino)\n",
    "\n",
    "y_pred = rfc.predict(x_teste)"
   ]
  },
  {
   "cell_type": "markdown",
   "metadata": {},
   "source": [
    "# Métricas a serem avaliadas\n"
   ]
  },
  {
   "cell_type": "code",
   "execution_count": 19,
   "metadata": {
    "execution": {
     "iopub.execute_input": "2020-06-01T12:51:15.300477Z",
     "iopub.status.busy": "2020-06-01T12:51:15.299476Z",
     "iopub.status.idle": "2020-06-01T12:51:15.316465Z",
     "shell.execute_reply": "2020-06-01T12:51:15.314466Z",
     "shell.execute_reply.started": "2020-06-01T12:51:15.300477Z"
    }
   },
   "outputs": [
    {
     "name": "stdout",
     "output_type": "stream",
     "text": [
      "Accuracy: 1.0\n"
     ]
    }
   ],
   "source": [
    "from sklearn.metrics import accuracy_score\n",
    "\n",
    "acc = accuracy_score(y_teste, y_pred)\n",
    "\n",
    "print(\"Accuracy:\", acc)"
   ]
  },
  {
   "cell_type": "code",
   "execution_count": 20,
   "metadata": {
    "execution": {
     "iopub.execute_input": "2020-06-01T12:51:15.322461Z",
     "iopub.status.busy": "2020-06-01T12:51:15.319463Z",
     "iopub.status.idle": "2020-06-01T12:51:15.339451Z",
     "shell.execute_reply": "2020-06-01T12:51:15.337452Z",
     "shell.execute_reply.started": "2020-06-01T12:51:15.321461Z"
    }
   },
   "outputs": [
    {
     "name": "stdout",
     "output_type": "stream",
     "text": [
      "[[59  0  0]\n",
      " [ 0 52  0]\n",
      " [ 0  0 54]]\n"
     ]
    }
   ],
   "source": [
    "from sklearn.metrics import confusion_matrix\n",
    "\n",
    "print(confusion_matrix(y_teste, y_pred))"
   ]
  },
  {
   "cell_type": "code",
   "execution_count": 21,
   "metadata": {
    "execution": {
     "iopub.execute_input": "2020-06-01T12:51:15.345447Z",
     "iopub.status.busy": "2020-06-01T12:51:15.342449Z",
     "iopub.status.idle": "2020-06-01T12:51:15.518340Z",
     "shell.execute_reply": "2020-06-01T12:51:15.517341Z",
     "shell.execute_reply.started": "2020-06-01T12:51:15.345447Z"
    }
   },
   "outputs": [
    {
     "data": {
      "text/html": [
       "<div>\n",
       "<style scoped>\n",
       "    .dataframe tbody tr th:only-of-type {\n",
       "        vertical-align: middle;\n",
       "    }\n",
       "\n",
       "    .dataframe tbody tr th {\n",
       "        vertical-align: top;\n",
       "    }\n",
       "\n",
       "    .dataframe thead th {\n",
       "        text-align: right;\n",
       "    }\n",
       "</style>\n",
       "<table border=\"1\" class=\"dataframe\">\n",
       "  <thead>\n",
       "    <tr style=\"text-align: right;\">\n",
       "      <th>Predicted</th>\n",
       "      <th>0</th>\n",
       "      <th>1</th>\n",
       "      <th>2</th>\n",
       "      <th>All</th>\n",
       "    </tr>\n",
       "    <tr>\n",
       "      <th>True</th>\n",
       "      <th></th>\n",
       "      <th></th>\n",
       "      <th></th>\n",
       "      <th></th>\n",
       "    </tr>\n",
       "  </thead>\n",
       "  <tbody>\n",
       "    <tr>\n",
       "      <th>0</th>\n",
       "      <td>59</td>\n",
       "      <td>0</td>\n",
       "      <td>0</td>\n",
       "      <td>59</td>\n",
       "    </tr>\n",
       "    <tr>\n",
       "      <th>1</th>\n",
       "      <td>0</td>\n",
       "      <td>52</td>\n",
       "      <td>0</td>\n",
       "      <td>52</td>\n",
       "    </tr>\n",
       "    <tr>\n",
       "      <th>2</th>\n",
       "      <td>0</td>\n",
       "      <td>0</td>\n",
       "      <td>54</td>\n",
       "      <td>54</td>\n",
       "    </tr>\n",
       "    <tr>\n",
       "      <th>All</th>\n",
       "      <td>59</td>\n",
       "      <td>52</td>\n",
       "      <td>54</td>\n",
       "      <td>165</td>\n",
       "    </tr>\n",
       "  </tbody>\n",
       "</table>\n",
       "</div>"
      ],
      "text/plain": [
       "Predicted   0   1   2  All\n",
       "True                      \n",
       "0          59   0   0   59\n",
       "1           0  52   0   52\n",
       "2           0   0  54   54\n",
       "All        59  52  54  165"
      ]
     },
     "execution_count": 21,
     "metadata": {},
     "output_type": "execute_result"
    }
   ],
   "source": [
    "pd.crosstab(y_teste, y_pred, rownames = [\"True\"], colnames = [\"Predicted\"], margins = True)"
   ]
  },
  {
   "cell_type": "code",
   "execution_count": 22,
   "metadata": {
    "execution": {
     "iopub.execute_input": "2020-06-01T12:51:15.519340Z",
     "iopub.status.busy": "2020-06-01T12:51:15.519340Z",
     "iopub.status.idle": "2020-06-01T12:51:15.535330Z",
     "shell.execute_reply": "2020-06-01T12:51:15.534330Z",
     "shell.execute_reply.started": "2020-06-01T12:51:15.519340Z"
    }
   },
   "outputs": [
    {
     "name": "stdout",
     "output_type": "stream",
     "text": [
      "              precision    recall  f1-score   support\n",
      "\n",
      "           0       1.00      1.00      1.00        59\n",
      "           1       1.00      1.00      1.00        52\n",
      "           2       1.00      1.00      1.00        54\n",
      "\n",
      "    accuracy                           1.00       165\n",
      "   macro avg       1.00      1.00      1.00       165\n",
      "weighted avg       1.00      1.00      1.00       165\n",
      "\n"
     ]
    }
   ],
   "source": [
    "from sklearn.metrics import classification_report\n",
    "\n",
    "print(classification_report(y_teste, y_pred))"
   ]
  },
  {
   "cell_type": "code",
   "execution_count": 23,
   "metadata": {
    "execution": {
     "iopub.execute_input": "2020-06-01T12:51:15.536330Z",
     "iopub.status.busy": "2020-06-01T12:51:15.536330Z",
     "iopub.status.idle": "2020-06-01T12:51:15.576306Z",
     "shell.execute_reply": "2020-06-01T12:51:15.574307Z",
     "shell.execute_reply.started": "2020-06-01T12:51:15.536330Z"
    }
   },
   "outputs": [
    {
     "data": {
      "text/html": [
       "<div>\n",
       "<style scoped>\n",
       "    .dataframe tbody tr th:only-of-type {\n",
       "        vertical-align: middle;\n",
       "    }\n",
       "\n",
       "    .dataframe tbody tr th {\n",
       "        vertical-align: top;\n",
       "    }\n",
       "\n",
       "    .dataframe thead th {\n",
       "        text-align: right;\n",
       "    }\n",
       "</style>\n",
       "<table border=\"1\" class=\"dataframe\">\n",
       "  <thead>\n",
       "    <tr style=\"text-align: right;\">\n",
       "      <th></th>\n",
       "      <th>Variável</th>\n",
       "      <th>Valor</th>\n",
       "    </tr>\n",
       "  </thead>\n",
       "  <tbody>\n",
       "    <tr>\n",
       "      <th>12</th>\n",
       "      <td>Place_C2</td>\n",
       "      <td>0.15988</td>\n",
       "    </tr>\n",
       "    <tr>\n",
       "      <th>13</th>\n",
       "      <td>Place_M1</td>\n",
       "      <td>0.14856</td>\n",
       "    </tr>\n",
       "    <tr>\n",
       "      <th>5</th>\n",
       "      <td>Secchi</td>\n",
       "      <td>0.12943</td>\n",
       "    </tr>\n",
       "    <tr>\n",
       "      <th>11</th>\n",
       "      <td>Place_C1</td>\n",
       "      <td>0.12415</td>\n",
       "    </tr>\n",
       "    <tr>\n",
       "      <th>17</th>\n",
       "      <td>Place_MBB</td>\n",
       "      <td>0.10359</td>\n",
       "    </tr>\n",
       "    <tr>\n",
       "      <th>14</th>\n",
       "      <td>Place_M3</td>\n",
       "      <td>0.09535</td>\n",
       "    </tr>\n",
       "    <tr>\n",
       "      <th>21</th>\n",
       "      <td>Place_MP</td>\n",
       "      <td>0.08590</td>\n",
       "    </tr>\n",
       "    <tr>\n",
       "      <th>20</th>\n",
       "      <td>Place_ML</td>\n",
       "      <td>0.07873</td>\n",
       "    </tr>\n",
       "    <tr>\n",
       "      <th>16</th>\n",
       "      <td>Place_MB</td>\n",
       "      <td>0.02245</td>\n",
       "    </tr>\n",
       "    <tr>\n",
       "      <th>19</th>\n",
       "      <td>Place_MJV</td>\n",
       "      <td>0.01538</td>\n",
       "    </tr>\n",
       "    <tr>\n",
       "      <th>1</th>\n",
       "      <td>prof_local(m)</td>\n",
       "      <td>0.01471</td>\n",
       "    </tr>\n",
       "    <tr>\n",
       "      <th>18</th>\n",
       "      <td>Place_MI</td>\n",
       "      <td>0.01409</td>\n",
       "    </tr>\n",
       "    <tr>\n",
       "      <th>0</th>\n",
       "      <td>cota</td>\n",
       "      <td>0.00779</td>\n",
       "    </tr>\n",
       "    <tr>\n",
       "      <th>10</th>\n",
       "      <td>Ammonium</td>\n",
       "      <td>0.00000</td>\n",
       "    </tr>\n",
       "    <tr>\n",
       "      <th>9</th>\n",
       "      <td>OrthoP (mg/L)</td>\n",
       "      <td>0.00000</td>\n",
       "    </tr>\n",
       "    <tr>\n",
       "      <th>15</th>\n",
       "      <td>Place_M5</td>\n",
       "      <td>0.00000</td>\n",
       "    </tr>\n",
       "    <tr>\n",
       "      <th>8</th>\n",
       "      <td>DO</td>\n",
       "      <td>0.00000</td>\n",
       "    </tr>\n",
       "    <tr>\n",
       "      <th>7</th>\n",
       "      <td>STS</td>\n",
       "      <td>0.00000</td>\n",
       "    </tr>\n",
       "    <tr>\n",
       "      <th>6</th>\n",
       "      <td>Turbidity</td>\n",
       "      <td>0.00000</td>\n",
       "    </tr>\n",
       "    <tr>\n",
       "      <th>4</th>\n",
       "      <td>Chl</td>\n",
       "      <td>0.00000</td>\n",
       "    </tr>\n",
       "    <tr>\n",
       "      <th>3</th>\n",
       "      <td>TotalP</td>\n",
       "      <td>0.00000</td>\n",
       "    </tr>\n",
       "    <tr>\n",
       "      <th>2</th>\n",
       "      <td>Temp</td>\n",
       "      <td>0.00000</td>\n",
       "    </tr>\n",
       "    <tr>\n",
       "      <th>22</th>\n",
       "      <td>Place_MR</td>\n",
       "      <td>0.00000</td>\n",
       "    </tr>\n",
       "    <tr>\n",
       "      <th>23</th>\n",
       "      <td>Cod_cycle_0</td>\n",
       "      <td>0.00000</td>\n",
       "    </tr>\n",
       "    <tr>\n",
       "      <th>24</th>\n",
       "      <td>Cod_cycle_1</td>\n",
       "      <td>0.00000</td>\n",
       "    </tr>\n",
       "    <tr>\n",
       "      <th>25</th>\n",
       "      <td>Cod_cycle_2</td>\n",
       "      <td>0.00000</td>\n",
       "    </tr>\n",
       "    <tr>\n",
       "      <th>26</th>\n",
       "      <td>Cod_cycle_3</td>\n",
       "      <td>0.00000</td>\n",
       "    </tr>\n",
       "  </tbody>\n",
       "</table>\n",
       "</div>"
      ],
      "text/plain": [
       "         Variável    Valor\n",
       "12       Place_C2  0.15988\n",
       "13       Place_M1  0.14856\n",
       "5         Secchi   0.12943\n",
       "11       Place_C1  0.12415\n",
       "17      Place_MBB  0.10359\n",
       "14       Place_M3  0.09535\n",
       "21       Place_MP  0.08590\n",
       "20       Place_ML  0.07873\n",
       "16       Place_MB  0.02245\n",
       "19      Place_MJV  0.01538\n",
       "1   prof_local(m)  0.01471\n",
       "18       Place_MI  0.01409\n",
       "0            cota  0.00779\n",
       "10       Ammonium  0.00000\n",
       "9   OrthoP (mg/L)  0.00000\n",
       "15       Place_M5  0.00000\n",
       "8              DO  0.00000\n",
       "7             STS  0.00000\n",
       "6       Turbidity  0.00000\n",
       "4             Chl  0.00000\n",
       "3          TotalP  0.00000\n",
       "2            Temp  0.00000\n",
       "22       Place_MR  0.00000\n",
       "23    Cod_cycle_0  0.00000\n",
       "24    Cod_cycle_1  0.00000\n",
       "25    Cod_cycle_2  0.00000\n",
       "26    Cod_cycle_3  0.00000"
      ]
     },
     "execution_count": 23,
     "metadata": {},
     "output_type": "execute_result"
    }
   ],
   "source": [
    "pd.DataFrame(rfc.feature_importances_, x_teste.columns).reset_index().rename(columns = {0: \"Valor\", \"index\": \"Variável\"}).sort_values(\"Valor\", ascending = False).round(5)"
   ]
  }
 ],
 "metadata": {
  "kernelspec": {
   "display_name": "Python 3",
   "language": "python",
   "name": "python3"
  },
  "language_info": {
   "codemirror_mode": {
    "name": "ipython",
    "version": 3
   },
   "file_extension": ".py",
   "mimetype": "text/x-python",
   "name": "python",
   "nbconvert_exporter": "python",
   "pygments_lexer": "ipython3",
   "version": "3.7.6"
  }
 },
 "nbformat": 4,
 "nbformat_minor": 4
}
