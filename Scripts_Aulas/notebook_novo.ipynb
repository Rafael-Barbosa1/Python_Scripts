{
 "cells": [
  {
   "cell_type": "markdown",
   "metadata": {},
   "source": [
    "# Carregando as bibliotecas"
   ]
  },
  {
   "cell_type": "code",
   "execution_count": 1,
   "metadata": {
    "execution": {
     "iopub.execute_input": "2020-05-30T23:42:52.588359Z",
     "iopub.status.busy": "2020-05-30T23:42:52.588359Z",
     "iopub.status.idle": "2020-05-30T23:42:54.363429Z",
     "shell.execute_reply": "2020-05-30T23:42:54.362431Z",
     "shell.execute_reply.started": "2020-05-30T23:42:52.588359Z"
    }
   },
   "outputs": [],
   "source": [
    "import pandas as pd\n",
    "import numpy as np\n",
    "import matplotlib.pyplot as plt\n",
    "import seaborn as sns"
   ]
  },
  {
   "cell_type": "markdown",
   "metadata": {},
   "source": [
    "# Configurações adicionais"
   ]
  },
  {
   "cell_type": "code",
   "execution_count": 2,
   "metadata": {
    "execution": {
     "iopub.execute_input": "2020-05-30T23:42:54.364429Z",
     "iopub.status.busy": "2020-05-30T23:42:54.364429Z",
     "iopub.status.idle": "2020-05-30T23:42:54.393935Z",
     "shell.execute_reply": "2020-05-30T23:42:54.389423Z",
     "shell.execute_reply.started": "2020-05-30T23:42:54.364429Z"
    }
   },
   "outputs": [],
   "source": [
    "plt.style.use(\"seaborn-muted\")\n",
    "%matplotlib inline\n",
    "pd.set_option('display.max_columns', None)"
   ]
  },
  {
   "cell_type": "markdown",
   "metadata": {},
   "source": [
    "# Carregando o banco de dados"
   ]
  },
  {
   "cell_type": "code",
   "execution_count": 3,
   "metadata": {
    "execution": {
     "iopub.execute_input": "2020-05-30T23:42:54.403933Z",
     "iopub.status.busy": "2020-05-30T23:42:54.399933Z",
     "iopub.status.idle": "2020-05-30T23:42:54.715855Z",
     "shell.execute_reply": "2020-05-30T23:42:54.714856Z",
     "shell.execute_reply.started": "2020-05-30T23:42:54.400934Z"
    }
   },
   "outputs": [],
   "source": [
    "banco = pd.read_excel(\"dataset.xlsx\")"
   ]
  },
  {
   "cell_type": "code",
   "execution_count": 4,
   "metadata": {
    "execution": {
     "iopub.execute_input": "2020-05-30T23:42:54.717855Z",
     "iopub.status.busy": "2020-05-30T23:42:54.716855Z",
     "iopub.status.idle": "2020-05-30T23:42:54.770842Z",
     "shell.execute_reply": "2020-05-30T23:42:54.769842Z",
     "shell.execute_reply.started": "2020-05-30T23:42:54.717855Z"
    }
   },
   "outputs": [
    {
     "name": "stdout",
     "output_type": "stream",
     "text": [
      "<class 'pandas.core.frame.DataFrame'>\n",
      "RangeIndex: 570 entries, 0 to 569\n",
      "Data columns (total 17 columns):\n",
      " #   Column         Non-Null Count  Dtype  \n",
      "---  ------         --------------  -----  \n",
      " 0   ID             570 non-null    int64  \n",
      " 1   Place          570 non-null    object \n",
      " 2   Cod_cycle      570 non-null    int64  \n",
      " 3   Zone           570 non-null    int64  \n",
      " 4   cota           570 non-null    float64\n",
      " 5   prof_local(m)  570 non-null    float64\n",
      " 6   Mes            570 non-null    int64  \n",
      " 7   Year           570 non-null    int64  \n",
      " 8   Temp           564 non-null    float64\n",
      " 9   TotalP         570 non-null    float64\n",
      " 10  Chl            570 non-null    float64\n",
      " 11  Secchi         570 non-null    float64\n",
      " 12  Turbidity      570 non-null    float64\n",
      " 13  STS            570 non-null    float64\n",
      " 14  DO             570 non-null    float64\n",
      " 15  OrthoP (mg/L)  550 non-null    float64\n",
      " 16  Ammonium       570 non-null    float64\n",
      "dtypes: float64(11), int64(5), object(1)\n",
      "memory usage: 75.8+ KB\n"
     ]
    }
   ],
   "source": [
    "banco.info()"
   ]
  },
  {
   "cell_type": "code",
   "execution_count": 5,
   "metadata": {
    "execution": {
     "iopub.execute_input": "2020-05-30T23:42:54.773842Z",
     "iopub.status.busy": "2020-05-30T23:42:54.772842Z",
     "iopub.status.idle": "2020-05-30T23:42:54.800835Z",
     "shell.execute_reply": "2020-05-30T23:42:54.797836Z",
     "shell.execute_reply.started": "2020-05-30T23:42:54.773842Z"
    }
   },
   "outputs": [
    {
     "data": {
      "text/plain": [
       "0    202\n",
       "1    195\n",
       "2    173\n",
       "Name: Zone, dtype: int64"
      ]
     },
     "execution_count": 5,
     "metadata": {},
     "output_type": "execute_result"
    }
   ],
   "source": [
    "banco[\"Zone\"].value_counts()"
   ]
  },
  {
   "cell_type": "markdown",
   "metadata": {},
   "source": [
    "## Valores nulos"
   ]
  },
  {
   "cell_type": "code",
   "execution_count": 6,
   "metadata": {
    "execution": {
     "iopub.execute_input": "2020-05-30T23:42:54.804835Z",
     "iopub.status.busy": "2020-05-30T23:42:54.803835Z",
     "iopub.status.idle": "2020-05-30T23:42:54.828828Z",
     "shell.execute_reply": "2020-05-30T23:42:54.825829Z",
     "shell.execute_reply.started": "2020-05-30T23:42:54.804835Z"
    }
   },
   "outputs": [
    {
     "data": {
      "text/plain": [
       "ID                0\n",
       "Place             0\n",
       "Cod_cycle         0\n",
       "Zone              0\n",
       "cota              0\n",
       "prof_local(m)     0\n",
       "Mes               0\n",
       "Year              0\n",
       "Temp              6\n",
       "TotalP            0\n",
       "Chl               0\n",
       "Secchi            0\n",
       "Turbidity         0\n",
       "STS               0\n",
       "DO                0\n",
       "OrthoP (mg/L)    20\n",
       "Ammonium          0\n",
       "dtype: int64"
      ]
     },
     "execution_count": 6,
     "metadata": {},
     "output_type": "execute_result"
    }
   ],
   "source": [
    "banco.isnull().sum()"
   ]
  },
  {
   "cell_type": "code",
   "execution_count": 7,
   "metadata": {
    "execution": {
     "iopub.execute_input": "2020-05-30T23:42:54.835826Z",
     "iopub.status.busy": "2020-05-30T23:42:54.834827Z",
     "iopub.status.idle": "2020-05-30T23:42:54.864820Z",
     "shell.execute_reply": "2020-05-30T23:42:54.860821Z",
     "shell.execute_reply.started": "2020-05-30T23:42:54.835826Z"
    }
   },
   "outputs": [],
   "source": [
    "banco = banco.dropna()"
   ]
  },
  {
   "cell_type": "markdown",
   "metadata": {},
   "source": [
    "## OneHotEncoding para a variável Place"
   ]
  },
  {
   "cell_type": "code",
   "execution_count": 8,
   "metadata": {
    "execution": {
     "iopub.execute_input": "2020-05-30T23:42:54.875816Z",
     "iopub.status.busy": "2020-05-30T23:42:54.871817Z",
     "iopub.status.idle": "2020-05-30T23:42:54.923804Z",
     "shell.execute_reply": "2020-05-30T23:42:54.918805Z",
     "shell.execute_reply.started": "2020-05-30T23:42:54.875816Z"
    }
   },
   "outputs": [],
   "source": [
    "banco = pd.get_dummies(data = banco, columns = [\"Place\", \"Cod_cycle\", \"Mes\", \"Year\"])"
   ]
  },
  {
   "cell_type": "markdown",
   "metadata": {},
   "source": [
    "## Selecionando variáveis"
   ]
  },
  {
   "cell_type": "code",
   "execution_count": 9,
   "metadata": {
    "execution": {
     "iopub.execute_input": "2020-05-30T23:42:54.940801Z",
     "iopub.status.busy": "2020-05-30T23:42:54.938801Z",
     "iopub.status.idle": "2020-05-30T23:42:54.980791Z",
     "shell.execute_reply": "2020-05-30T23:42:54.966794Z",
     "shell.execute_reply.started": "2020-05-30T23:42:54.939801Z"
    }
   },
   "outputs": [],
   "source": [
    "# var = [\"Zone\", \"prof_local(m)\", \"Temp\", \"TotalP\", \"Chl\", \"Secchi \", \"Turbidity\", \"STS\", \"DO\", \"OrthoP (mg/L)\", \"Ammonium\"]\n",
    "\n",
    "# banco[var]\n",
    "\n",
    "\n",
    "banco = banco.drop(\"ID\", axis = 1)"
   ]
  },
  {
   "cell_type": "code",
   "execution_count": 10,
   "metadata": {
    "execution": {
     "iopub.execute_input": "2020-05-30T23:42:54.989788Z",
     "iopub.status.busy": "2020-05-30T23:42:54.987789Z",
     "iopub.status.idle": "2020-05-30T23:42:55.101760Z",
     "shell.execute_reply": "2020-05-30T23:42:55.100761Z",
     "shell.execute_reply.started": "2020-05-30T23:42:54.989788Z"
    }
   },
   "outputs": [
    {
     "data": {
      "text/html": [
       "<div>\n",
       "<style scoped>\n",
       "    .dataframe tbody tr th:only-of-type {\n",
       "        vertical-align: middle;\n",
       "    }\n",
       "\n",
       "    .dataframe tbody tr th {\n",
       "        vertical-align: top;\n",
       "    }\n",
       "\n",
       "    .dataframe thead th {\n",
       "        text-align: right;\n",
       "    }\n",
       "</style>\n",
       "<table border=\"1\" class=\"dataframe\">\n",
       "  <thead>\n",
       "    <tr style=\"text-align: right;\">\n",
       "      <th></th>\n",
       "      <th>Zone</th>\n",
       "      <th>cota</th>\n",
       "      <th>prof_local(m)</th>\n",
       "      <th>Temp</th>\n",
       "      <th>TotalP</th>\n",
       "      <th>Chl</th>\n",
       "      <th>Secchi</th>\n",
       "      <th>Turbidity</th>\n",
       "      <th>STS</th>\n",
       "      <th>DO</th>\n",
       "      <th>OrthoP (mg/L)</th>\n",
       "      <th>Ammonium</th>\n",
       "      <th>Place_C1</th>\n",
       "      <th>Place_C2</th>\n",
       "      <th>Place_M1</th>\n",
       "      <th>Place_M3</th>\n",
       "      <th>Place_M5</th>\n",
       "      <th>Place_MB</th>\n",
       "      <th>Place_MBB</th>\n",
       "      <th>Place_MI</th>\n",
       "      <th>Place_MJV</th>\n",
       "      <th>Place_ML</th>\n",
       "      <th>Place_MP</th>\n",
       "      <th>Place_MR</th>\n",
       "      <th>Cod_cycle_0</th>\n",
       "      <th>Cod_cycle_1</th>\n",
       "      <th>Cod_cycle_2</th>\n",
       "      <th>Cod_cycle_3</th>\n",
       "      <th>Mes_1</th>\n",
       "      <th>Mes_2</th>\n",
       "      <th>Mes_3</th>\n",
       "      <th>Mes_4</th>\n",
       "      <th>Mes_5</th>\n",
       "      <th>Mes_6</th>\n",
       "      <th>Mes_7</th>\n",
       "      <th>Mes_8</th>\n",
       "      <th>Mes_9</th>\n",
       "      <th>Mes_10</th>\n",
       "      <th>Mes_11</th>\n",
       "      <th>Mes_12</th>\n",
       "      <th>Year_2006</th>\n",
       "      <th>Year_2007</th>\n",
       "      <th>Year_2008</th>\n",
       "      <th>Year_2009</th>\n",
       "      <th>Year_2010</th>\n",
       "      <th>Year_2011</th>\n",
       "      <th>Year_2012</th>\n",
       "      <th>Year_2013</th>\n",
       "      <th>Year_2014</th>\n",
       "      <th>Year_2015</th>\n",
       "      <th>Year_2016</th>\n",
       "    </tr>\n",
       "  </thead>\n",
       "  <tbody>\n",
       "    <tr>\n",
       "      <th>0</th>\n",
       "      <td>0</td>\n",
       "      <td>73.86</td>\n",
       "      <td>30.00</td>\n",
       "      <td>30.4</td>\n",
       "      <td>15.34</td>\n",
       "      <td>4.76</td>\n",
       "      <td>3.0</td>\n",
       "      <td>2.18</td>\n",
       "      <td>1.0</td>\n",
       "      <td>7.30</td>\n",
       "      <td>16.18</td>\n",
       "      <td>35.39</td>\n",
       "      <td>1</td>\n",
       "      <td>0</td>\n",
       "      <td>0</td>\n",
       "      <td>0</td>\n",
       "      <td>0</td>\n",
       "      <td>0</td>\n",
       "      <td>0</td>\n",
       "      <td>0</td>\n",
       "      <td>0</td>\n",
       "      <td>0</td>\n",
       "      <td>0</td>\n",
       "      <td>0</td>\n",
       "      <td>0</td>\n",
       "      <td>0</td>\n",
       "      <td>1</td>\n",
       "      <td>0</td>\n",
       "      <td>0</td>\n",
       "      <td>0</td>\n",
       "      <td>0</td>\n",
       "      <td>1</td>\n",
       "      <td>0</td>\n",
       "      <td>0</td>\n",
       "      <td>0</td>\n",
       "      <td>0</td>\n",
       "      <td>0</td>\n",
       "      <td>0</td>\n",
       "      <td>0</td>\n",
       "      <td>0</td>\n",
       "      <td>0</td>\n",
       "      <td>0</td>\n",
       "      <td>0</td>\n",
       "      <td>0</td>\n",
       "      <td>0</td>\n",
       "      <td>0</td>\n",
       "      <td>1</td>\n",
       "      <td>0</td>\n",
       "      <td>0</td>\n",
       "      <td>0</td>\n",
       "      <td>0</td>\n",
       "    </tr>\n",
       "    <tr>\n",
       "      <th>1</th>\n",
       "      <td>0</td>\n",
       "      <td>73.86</td>\n",
       "      <td>30.00</td>\n",
       "      <td>30.2</td>\n",
       "      <td>18.91</td>\n",
       "      <td>4.05</td>\n",
       "      <td>2.1</td>\n",
       "      <td>2.96</td>\n",
       "      <td>0.6</td>\n",
       "      <td>5.86</td>\n",
       "      <td>15.81</td>\n",
       "      <td>23.50</td>\n",
       "      <td>1</td>\n",
       "      <td>0</td>\n",
       "      <td>0</td>\n",
       "      <td>0</td>\n",
       "      <td>0</td>\n",
       "      <td>0</td>\n",
       "      <td>0</td>\n",
       "      <td>0</td>\n",
       "      <td>0</td>\n",
       "      <td>0</td>\n",
       "      <td>0</td>\n",
       "      <td>0</td>\n",
       "      <td>0</td>\n",
       "      <td>0</td>\n",
       "      <td>1</td>\n",
       "      <td>0</td>\n",
       "      <td>0</td>\n",
       "      <td>0</td>\n",
       "      <td>0</td>\n",
       "      <td>1</td>\n",
       "      <td>0</td>\n",
       "      <td>0</td>\n",
       "      <td>0</td>\n",
       "      <td>0</td>\n",
       "      <td>0</td>\n",
       "      <td>0</td>\n",
       "      <td>0</td>\n",
       "      <td>0</td>\n",
       "      <td>0</td>\n",
       "      <td>0</td>\n",
       "      <td>0</td>\n",
       "      <td>0</td>\n",
       "      <td>0</td>\n",
       "      <td>0</td>\n",
       "      <td>0</td>\n",
       "      <td>1</td>\n",
       "      <td>0</td>\n",
       "      <td>0</td>\n",
       "      <td>0</td>\n",
       "    </tr>\n",
       "    <tr>\n",
       "      <th>2</th>\n",
       "      <td>0</td>\n",
       "      <td>73.69</td>\n",
       "      <td>30.00</td>\n",
       "      <td>29.5</td>\n",
       "      <td>20.70</td>\n",
       "      <td>5.95</td>\n",
       "      <td>2.5</td>\n",
       "      <td>2.90</td>\n",
       "      <td>2.8</td>\n",
       "      <td>6.56</td>\n",
       "      <td>5.44</td>\n",
       "      <td>75.84</td>\n",
       "      <td>1</td>\n",
       "      <td>0</td>\n",
       "      <td>0</td>\n",
       "      <td>0</td>\n",
       "      <td>0</td>\n",
       "      <td>0</td>\n",
       "      <td>0</td>\n",
       "      <td>0</td>\n",
       "      <td>0</td>\n",
       "      <td>0</td>\n",
       "      <td>0</td>\n",
       "      <td>0</td>\n",
       "      <td>0</td>\n",
       "      <td>0</td>\n",
       "      <td>1</td>\n",
       "      <td>0</td>\n",
       "      <td>0</td>\n",
       "      <td>0</td>\n",
       "      <td>0</td>\n",
       "      <td>1</td>\n",
       "      <td>0</td>\n",
       "      <td>0</td>\n",
       "      <td>0</td>\n",
       "      <td>0</td>\n",
       "      <td>0</td>\n",
       "      <td>0</td>\n",
       "      <td>0</td>\n",
       "      <td>0</td>\n",
       "      <td>0</td>\n",
       "      <td>0</td>\n",
       "      <td>0</td>\n",
       "      <td>0</td>\n",
       "      <td>0</td>\n",
       "      <td>0</td>\n",
       "      <td>0</td>\n",
       "      <td>0</td>\n",
       "      <td>1</td>\n",
       "      <td>0</td>\n",
       "      <td>0</td>\n",
       "    </tr>\n",
       "    <tr>\n",
       "      <th>3</th>\n",
       "      <td>0</td>\n",
       "      <td>73.67</td>\n",
       "      <td>30.40</td>\n",
       "      <td>31.6</td>\n",
       "      <td>19.94</td>\n",
       "      <td>5.95</td>\n",
       "      <td>1.2</td>\n",
       "      <td>10.10</td>\n",
       "      <td>0.6</td>\n",
       "      <td>7.82</td>\n",
       "      <td>9.51</td>\n",
       "      <td>23.50</td>\n",
       "      <td>1</td>\n",
       "      <td>0</td>\n",
       "      <td>0</td>\n",
       "      <td>0</td>\n",
       "      <td>0</td>\n",
       "      <td>0</td>\n",
       "      <td>0</td>\n",
       "      <td>0</td>\n",
       "      <td>0</td>\n",
       "      <td>0</td>\n",
       "      <td>0</td>\n",
       "      <td>0</td>\n",
       "      <td>0</td>\n",
       "      <td>0</td>\n",
       "      <td>1</td>\n",
       "      <td>0</td>\n",
       "      <td>0</td>\n",
       "      <td>0</td>\n",
       "      <td>0</td>\n",
       "      <td>1</td>\n",
       "      <td>0</td>\n",
       "      <td>0</td>\n",
       "      <td>0</td>\n",
       "      <td>0</td>\n",
       "      <td>0</td>\n",
       "      <td>0</td>\n",
       "      <td>0</td>\n",
       "      <td>0</td>\n",
       "      <td>0</td>\n",
       "      <td>0</td>\n",
       "      <td>0</td>\n",
       "      <td>0</td>\n",
       "      <td>0</td>\n",
       "      <td>0</td>\n",
       "      <td>0</td>\n",
       "      <td>0</td>\n",
       "      <td>0</td>\n",
       "      <td>1</td>\n",
       "      <td>0</td>\n",
       "    </tr>\n",
       "    <tr>\n",
       "      <th>4</th>\n",
       "      <td>0</td>\n",
       "      <td>62.58</td>\n",
       "      <td>19.17</td>\n",
       "      <td>29.8</td>\n",
       "      <td>5.79</td>\n",
       "      <td>3.45</td>\n",
       "      <td>2.6</td>\n",
       "      <td>1.52</td>\n",
       "      <td>2.0</td>\n",
       "      <td>6.05</td>\n",
       "      <td>0.24</td>\n",
       "      <td>12.91</td>\n",
       "      <td>1</td>\n",
       "      <td>0</td>\n",
       "      <td>0</td>\n",
       "      <td>0</td>\n",
       "      <td>0</td>\n",
       "      <td>0</td>\n",
       "      <td>0</td>\n",
       "      <td>0</td>\n",
       "      <td>0</td>\n",
       "      <td>0</td>\n",
       "      <td>0</td>\n",
       "      <td>0</td>\n",
       "      <td>0</td>\n",
       "      <td>1</td>\n",
       "      <td>0</td>\n",
       "      <td>0</td>\n",
       "      <td>0</td>\n",
       "      <td>0</td>\n",
       "      <td>0</td>\n",
       "      <td>0</td>\n",
       "      <td>0</td>\n",
       "      <td>0</td>\n",
       "      <td>0</td>\n",
       "      <td>0</td>\n",
       "      <td>0</td>\n",
       "      <td>0</td>\n",
       "      <td>0</td>\n",
       "      <td>1</td>\n",
       "      <td>1</td>\n",
       "      <td>0</td>\n",
       "      <td>0</td>\n",
       "      <td>0</td>\n",
       "      <td>0</td>\n",
       "      <td>0</td>\n",
       "      <td>0</td>\n",
       "      <td>0</td>\n",
       "      <td>0</td>\n",
       "      <td>0</td>\n",
       "      <td>0</td>\n",
       "    </tr>\n",
       "  </tbody>\n",
       "</table>\n",
       "</div>"
      ],
      "text/plain": [
       "   Zone   cota  prof_local(m)  Temp  TotalP   Chl  Secchi   Turbidity  STS  \\\n",
       "0     0  73.86          30.00  30.4   15.34  4.76      3.0       2.18  1.0   \n",
       "1     0  73.86          30.00  30.2   18.91  4.05      2.1       2.96  0.6   \n",
       "2     0  73.69          30.00  29.5   20.70  5.95      2.5       2.90  2.8   \n",
       "3     0  73.67          30.40  31.6   19.94  5.95      1.2      10.10  0.6   \n",
       "4     0  62.58          19.17  29.8    5.79  3.45      2.6       1.52  2.0   \n",
       "\n",
       "     DO  OrthoP (mg/L)  Ammonium  Place_C1  Place_C2  Place_M1  Place_M3  \\\n",
       "0  7.30          16.18     35.39         1         0         0         0   \n",
       "1  5.86          15.81     23.50         1         0         0         0   \n",
       "2  6.56           5.44     75.84         1         0         0         0   \n",
       "3  7.82           9.51     23.50         1         0         0         0   \n",
       "4  6.05           0.24     12.91         1         0         0         0   \n",
       "\n",
       "   Place_M5  Place_MB  Place_MBB  Place_MI  Place_MJV  Place_ML  Place_MP  \\\n",
       "0         0         0          0         0          0         0         0   \n",
       "1         0         0          0         0          0         0         0   \n",
       "2         0         0          0         0          0         0         0   \n",
       "3         0         0          0         0          0         0         0   \n",
       "4         0         0          0         0          0         0         0   \n",
       "\n",
       "   Place_MR  Cod_cycle_0  Cod_cycle_1  Cod_cycle_2  Cod_cycle_3  Mes_1  Mes_2  \\\n",
       "0         0            0            0            1            0      0      0   \n",
       "1         0            0            0            1            0      0      0   \n",
       "2         0            0            0            1            0      0      0   \n",
       "3         0            0            0            1            0      0      0   \n",
       "4         0            0            1            0            0      0      0   \n",
       "\n",
       "   Mes_3  Mes_4  Mes_5  Mes_6  Mes_7  Mes_8  Mes_9  Mes_10  Mes_11  Mes_12  \\\n",
       "0      0      1      0      0      0      0      0       0       0       0   \n",
       "1      0      1      0      0      0      0      0       0       0       0   \n",
       "2      0      1      0      0      0      0      0       0       0       0   \n",
       "3      0      1      0      0      0      0      0       0       0       0   \n",
       "4      0      0      0      0      0      0      0       0       0       1   \n",
       "\n",
       "   Year_2006  Year_2007  Year_2008  Year_2009  Year_2010  Year_2011  \\\n",
       "0          0          0          0          0          0          0   \n",
       "1          0          0          0          0          0          0   \n",
       "2          0          0          0          0          0          0   \n",
       "3          0          0          0          0          0          0   \n",
       "4          1          0          0          0          0          0   \n",
       "\n",
       "   Year_2012  Year_2013  Year_2014  Year_2015  Year_2016  \n",
       "0          1          0          0          0          0  \n",
       "1          0          1          0          0          0  \n",
       "2          0          0          1          0          0  \n",
       "3          0          0          0          1          0  \n",
       "4          0          0          0          0          0  "
      ]
     },
     "execution_count": 10,
     "metadata": {},
     "output_type": "execute_result"
    }
   ],
   "source": [
    "x = banco.drop(\"Zone\", axis = 1)\n",
    "y = banco[\"Zone\"]\n",
    "\n",
    "banco.head()"
   ]
  },
  {
   "cell_type": "code",
   "execution_count": 11,
   "metadata": {
    "execution": {
     "iopub.execute_input": "2020-05-30T23:42:55.106761Z",
     "iopub.status.busy": "2020-05-30T23:42:55.104759Z",
     "iopub.status.idle": "2020-05-30T23:42:55.272718Z",
     "shell.execute_reply": "2020-05-30T23:42:55.269720Z",
     "shell.execute_reply.started": "2020-05-30T23:42:55.106761Z"
    }
   },
   "outputs": [
    {
     "data": {
      "text/html": [
       "<div>\n",
       "<style scoped>\n",
       "    .dataframe tbody tr th:only-of-type {\n",
       "        vertical-align: middle;\n",
       "    }\n",
       "\n",
       "    .dataframe tbody tr th {\n",
       "        vertical-align: top;\n",
       "    }\n",
       "\n",
       "    .dataframe thead th {\n",
       "        text-align: right;\n",
       "    }\n",
       "</style>\n",
       "<table border=\"1\" class=\"dataframe\">\n",
       "  <thead>\n",
       "    <tr style=\"text-align: right;\">\n",
       "      <th></th>\n",
       "      <th>cota</th>\n",
       "      <th>prof_local(m)</th>\n",
       "      <th>Temp</th>\n",
       "      <th>TotalP</th>\n",
       "      <th>Chl</th>\n",
       "      <th>Secchi</th>\n",
       "      <th>Turbidity</th>\n",
       "      <th>STS</th>\n",
       "      <th>DO</th>\n",
       "      <th>OrthoP (mg/L)</th>\n",
       "      <th>Ammonium</th>\n",
       "      <th>Zone</th>\n",
       "    </tr>\n",
       "  </thead>\n",
       "  <tbody>\n",
       "    <tr>\n",
       "      <th>0</th>\n",
       "      <td>1.078716</td>\n",
       "      <td>0.069954</td>\n",
       "      <td>0.373204</td>\n",
       "      <td>-0.492684</td>\n",
       "      <td>-0.384398</td>\n",
       "      <td>0.775737</td>\n",
       "      <td>-0.466711</td>\n",
       "      <td>-0.478449</td>\n",
       "      <td>1.407356</td>\n",
       "      <td>0.865784</td>\n",
       "      <td>-0.113064</td>\n",
       "      <td>0</td>\n",
       "    </tr>\n",
       "    <tr>\n",
       "      <th>1</th>\n",
       "      <td>1.078716</td>\n",
       "      <td>0.069954</td>\n",
       "      <td>0.152748</td>\n",
       "      <td>-0.292759</td>\n",
       "      <td>-0.536950</td>\n",
       "      <td>-0.088201</td>\n",
       "      <td>-0.412085</td>\n",
       "      <td>-0.535160</td>\n",
       "      <td>-0.292216</td>\n",
       "      <td>0.819618</td>\n",
       "      <td>-0.369460</td>\n",
       "      <td>0</td>\n",
       "    </tr>\n",
       "    <tr>\n",
       "      <th>2</th>\n",
       "      <td>1.046469</td>\n",
       "      <td>0.069954</td>\n",
       "      <td>-0.618850</td>\n",
       "      <td>-0.192517</td>\n",
       "      <td>-0.128713</td>\n",
       "      <td>0.295771</td>\n",
       "      <td>-0.416287</td>\n",
       "      <td>-0.223246</td>\n",
       "      <td>0.533964</td>\n",
       "      <td>-0.474265</td>\n",
       "      <td>0.759199</td>\n",
       "      <td>0</td>\n",
       "    </tr>\n",
       "    <tr>\n",
       "      <th>3</th>\n",
       "      <td>1.042675</td>\n",
       "      <td>0.093635</td>\n",
       "      <td>1.695943</td>\n",
       "      <td>-0.235078</td>\n",
       "      <td>-0.128713</td>\n",
       "      <td>-0.952140</td>\n",
       "      <td>0.087954</td>\n",
       "      <td>-0.535160</td>\n",
       "      <td>2.021090</td>\n",
       "      <td>0.033556</td>\n",
       "      <td>-0.369460</td>\n",
       "      <td>0</td>\n",
       "    </tr>\n",
       "    <tr>\n",
       "      <th>4</th>\n",
       "      <td>-1.060975</td>\n",
       "      <td>-0.571218</td>\n",
       "      <td>-0.288165</td>\n",
       "      <td>-1.027497</td>\n",
       "      <td>-0.665867</td>\n",
       "      <td>0.391764</td>\n",
       "      <td>-0.512933</td>\n",
       "      <td>-0.336670</td>\n",
       "      <td>-0.067967</td>\n",
       "      <td>-1.123078</td>\n",
       "      <td>-0.597823</td>\n",
       "      <td>0</td>\n",
       "    </tr>\n",
       "  </tbody>\n",
       "</table>\n",
       "</div>"
      ],
      "text/plain": [
       "       cota  prof_local(m)      Temp    TotalP       Chl   Secchi   Turbidity  \\\n",
       "0  1.078716       0.069954  0.373204 -0.492684 -0.384398  0.775737  -0.466711   \n",
       "1  1.078716       0.069954  0.152748 -0.292759 -0.536950 -0.088201  -0.412085   \n",
       "2  1.046469       0.069954 -0.618850 -0.192517 -0.128713  0.295771  -0.416287   \n",
       "3  1.042675       0.093635  1.695943 -0.235078 -0.128713 -0.952140   0.087954   \n",
       "4 -1.060975      -0.571218 -0.288165 -1.027497 -0.665867  0.391764  -0.512933   \n",
       "\n",
       "        STS        DO  OrthoP (mg/L)  Ammonium  Zone  \n",
       "0 -0.478449  1.407356       0.865784 -0.113064     0  \n",
       "1 -0.535160 -0.292216       0.819618 -0.369460     0  \n",
       "2 -0.223246  0.533964      -0.474265  0.759199     0  \n",
       "3 -0.535160  2.021090       0.033556 -0.369460     0  \n",
       "4 -0.336670 -0.067967      -1.123078 -0.597823     0  "
      ]
     },
     "execution_count": 11,
     "metadata": {},
     "output_type": "execute_result"
    }
   ],
   "source": [
    "from sklearn.compose import ColumnTransformer\n",
    "from sklearn.preprocessing import StandardScaler\n",
    "\n",
    "var = [\"cota\", \"prof_local(m)\", \"Temp\", \"TotalP\", \"Chl\", \"Secchi \", \"Turbidity\", \"STS\", \"DO\", \"OrthoP (mg/L)\", \"Ammonium\"]\n",
    "\n",
    "features = banco[var]\n",
    "\n",
    "ct = ColumnTransformer([\n",
    "        ('somename', StandardScaler(), var)\n",
    "    ], remainder='passthrough')\n",
    "\n",
    "banco[var] = ct.fit_transform(features)\n",
    "\n",
    "banco = pd.concat([banco[var], banco[\"Zone\"]], axis = 1)\n",
    "\n",
    "banco.head()"
   ]
  },
  {
   "cell_type": "markdown",
   "metadata": {},
   "source": [
    "## Separando em treino e teste"
   ]
  },
  {
   "cell_type": "code",
   "execution_count": 12,
   "metadata": {
    "execution": {
     "iopub.execute_input": "2020-05-30T23:42:55.279716Z",
     "iopub.status.busy": "2020-05-30T23:42:55.276717Z",
     "iopub.status.idle": "2020-05-30T23:42:55.355697Z",
     "shell.execute_reply": "2020-05-30T23:42:55.354697Z",
     "shell.execute_reply.started": "2020-05-30T23:42:55.279716Z"
    }
   },
   "outputs": [],
   "source": [
    "from sklearn.model_selection import train_test_split\n",
    "\n",
    "x_treino, x_teste, y_treino, y_teste = train_test_split(x, y, train_size = 0.7, random_state = 1234)"
   ]
  },
  {
   "cell_type": "code",
   "execution_count": 13,
   "metadata": {
    "execution": {
     "iopub.execute_input": "2020-05-30T23:42:55.357698Z",
     "iopub.status.busy": "2020-05-30T23:42:55.356697Z",
     "iopub.status.idle": "2020-05-30T23:42:55.374694Z",
     "shell.execute_reply": "2020-05-30T23:42:55.372694Z",
     "shell.execute_reply.started": "2020-05-30T23:42:55.357698Z"
    }
   },
   "outputs": [
    {
     "data": {
      "text/plain": [
       "((382, 50), (382,), (165, 50), (165,))"
      ]
     },
     "execution_count": 13,
     "metadata": {},
     "output_type": "execute_result"
    }
   ],
   "source": [
    "x_treino.shape, y_treino.shape, x_teste.shape, y_teste.shape"
   ]
  },
  {
   "cell_type": "markdown",
   "metadata": {},
   "source": [
    "## Modelos"
   ]
  },
  {
   "cell_type": "code",
   "execution_count": 29,
   "metadata": {
    "execution": {
     "iopub.execute_input": "2020-05-30T23:44:10.367320Z",
     "iopub.status.busy": "2020-05-30T23:44:10.366320Z",
     "iopub.status.idle": "2020-05-30T23:44:10.379318Z",
     "shell.execute_reply": "2020-05-30T23:44:10.378318Z",
     "shell.execute_reply.started": "2020-05-30T23:44:10.367320Z"
    }
   },
   "outputs": [],
   "source": [
    "from sklearn.ensemble import RandomForestClassifier\n",
    "from sklearn.linear_model import LogisticRegression\n",
    "from sklearn.svm import SVC, LinearSVC\n",
    "from sklearn.ensemble import RandomForestClassifier\n",
    "from sklearn.neighbors import KNeighborsClassifier\n",
    "from sklearn.naive_bayes import GaussianNB\n",
    "from sklearn.linear_model import Perceptron\n",
    "from sklearn.linear_model import SGDClassifier\n",
    "from sklearn.tree import DecisionTreeClassifier\n",
    "\n",
    "\n",
    "#--- Random Forest\n",
    "\n",
    "# rfc = RandomForestClassifier(n_estimators = 100, \n",
    "#                              random_state = 1234, \n",
    "#                              n_jobs = -1)\n",
    "\n",
    "# 'test_accuracy': array([1.        , 1.        , 1.        , 0.94117647, 1.        ,\n",
    "#         1.        , 0.9375    , 1.        , 1.        , 0.9375    ])}\n",
    "\n",
    "\n",
    "#--- Regressão logística \n",
    "\n",
    "# rfc = LogisticRegression(random_state = 1234, n_jobs = -1)\n",
    "\n",
    "# 'test_accuracy': array([0.88235294, 0.94117647, 0.82352941, 0.88235294, 0.94117647,\n",
    "#         0.8125    , 0.8125    , 0.8125    , 0.8125    , 0.8125    ])}\n",
    "\n",
    "\n",
    "#--- SVC\n",
    "\n",
    "\n",
    "# rfc = SVC()\n",
    "\n",
    "# 'test_accuracy': array([0.64705882, 0.52941176, 0.64705882, 0.58823529, 0.58823529,\n",
    "#         0.3125    , 0.5625    , 0.5625    , 0.375     , 0.5625    ])}\n",
    "\n",
    "\n",
    "#--- KNN\n",
    "\n",
    "rfc = KNeighborsClassifier(n_neighbors = 3)\n",
    "\n",
    "# 'test_accuracy': array([0.42857143, 0.64285714, 0.5       , 0.42857143, 0.2962963 ,\n",
    "#         0.40740741, 0.66666667, 0.37037037, 0.55555556, 0.51851852])}\n",
    "\n",
    "# Gaussian Naive Bayes\n",
    "\n",
    "# rfc = GaussianNB()\n",
    "\n",
    "# 'test_accuracy': array([0.71428571, 0.64285714, 0.75      , 0.64285714, 0.66666667,\n",
    "#         0.48148148, 0.7037037 , 0.81481481, 0.7037037 , 0.7037037 ])}\n",
    "\n",
    "\n",
    "# Perceptron\n",
    "\n",
    "# rfc = Perceptron()\n",
    "\n",
    "# 'test_accuracy': array([0.46428571, 0.32142857, 0.32142857, 0.32142857, 0.33333333,\n",
    "#         0.2962963 , 0.33333333, 0.2962963 , 0.37037037, 0.2962963 ])}\n",
    "\n",
    "\n",
    "# Linear SVC\n",
    "\n",
    "# rfc = LinearSVC(max_iter = 500)\n",
    "\n",
    "# test_accuracy': array([0.42857143, 0.57142857, 0.5       , 0.42857143, 0.51851852,\n",
    "#         0.37037037, 0.44444444, 0.59259259, 0.48148148, 0.48148148])}\n",
    "\n",
    "\n",
    "# Stochastic Gradient Descent\n",
    "\n",
    "# rfc = SGDClassifier()\n",
    "\n",
    "# 'test_accuracy': array([0.39285714, 0.39285714, 0.39285714, 0.35714286, 0.33333333,\n",
    "#         0.40740741, 0.33333333, 0.59259259, 0.44444444, 0.37037037])}\n",
    "\n",
    "\n",
    "# Decision Tree\n",
    "\n",
    "# rfc = DecisionTreeClassifier(random_state = 1234)\n",
    "\n",
    "# 'test_accuracy': array([0.75      , 0.64285714, 0.53571429, 0.64285714, 0.59259259,\n",
    "#         0.40740741, 0.59259259, 0.66666667, 0.55555556, 0.74074074])}\n",
    "\n",
    "\n"
   ]
  },
  {
   "cell_type": "markdown",
   "metadata": {},
   "source": [
    "## Cross Validation\n"
   ]
  },
  {
   "cell_type": "code",
   "execution_count": 30,
   "metadata": {
    "execution": {
     "iopub.execute_input": "2020-05-30T23:44:10.694243Z",
     "iopub.status.busy": "2020-05-30T23:44:10.693240Z",
     "iopub.status.idle": "2020-05-30T23:44:10.837205Z",
     "shell.execute_reply": "2020-05-30T23:44:10.834207Z",
     "shell.execute_reply.started": "2020-05-30T23:44:10.694243Z"
    }
   },
   "outputs": [
    {
     "name": "stdout",
     "output_type": "stream",
     "text": [
      "Wall time: 125 ms\n"
     ]
    }
   ],
   "source": [
    "%%time\n",
    "\n",
    "from sklearn.model_selection import cross_validate \n",
    "\n",
    "scoring1 = [\n",
    "     \"accuracy\"]\n",
    "\n",
    "scores = cross_validate(rfc, x_teste, y_teste, cv = 10, scoring = scoring1, n_jobs = -1)\n",
    "\n",
    "# print(\"Os scores são:\", scores)\n",
    "\n",
    "# print(\"Média dos scores:\", scores.mean())"
   ]
  },
  {
   "cell_type": "code",
   "execution_count": 31,
   "metadata": {
    "execution": {
     "iopub.execute_input": "2020-05-30T23:44:10.850201Z",
     "iopub.status.busy": "2020-05-30T23:44:10.850201Z",
     "iopub.status.idle": "2020-05-30T23:44:10.859199Z",
     "shell.execute_reply": "2020-05-30T23:44:10.858199Z",
     "shell.execute_reply.started": "2020-05-30T23:44:10.850201Z"
    }
   },
   "outputs": [
    {
     "data": {
      "text/plain": [
       "{'fit_time': array([0.00499892, 0.00499845, 0.00699568, 0.00499821, 0.00499749,\n",
       "        0.00500083, 0.00499797, 0.00500131, 0.00500011, 0.00599957]),\n",
       " 'score_time': array([0.00399899, 0.00500154, 0.00500011, 0.00599718, 0.00500178,\n",
       "        0.00499606, 0.00500131, 0.00499678, 0.00499868, 0.00499821]),\n",
       " 'test_accuracy': array([0.58823529, 0.64705882, 0.52941176, 0.52941176, 0.47058824,\n",
       "        0.375     , 0.3125    , 0.4375    , 0.4375    , 0.4375    ])}"
      ]
     },
     "execution_count": 31,
     "metadata": {},
     "output_type": "execute_result"
    }
   ],
   "source": [
    "scores"
   ]
  },
  {
   "cell_type": "markdown",
   "metadata": {},
   "source": [
    "## Random Forest aplicado aos dados de teste"
   ]
  },
  {
   "cell_type": "code",
   "execution_count": 32,
   "metadata": {
    "execution": {
     "iopub.execute_input": "2020-05-30T23:44:11.117136Z",
     "iopub.status.busy": "2020-05-30T23:44:11.116136Z",
     "iopub.status.idle": "2020-05-30T23:44:11.144129Z",
     "shell.execute_reply": "2020-05-30T23:44:11.143129Z",
     "shell.execute_reply.started": "2020-05-30T23:44:11.117136Z"
    }
   },
   "outputs": [],
   "source": [
    "rfc.fit(x_treino, y_treino)\n",
    "\n",
    "y_pred = rfc.predict(x_teste)"
   ]
  },
  {
   "cell_type": "markdown",
   "metadata": {},
   "source": [
    "# Métricas a serem avaliadas\n"
   ]
  },
  {
   "cell_type": "code",
   "execution_count": 33,
   "metadata": {
    "execution": {
     "iopub.execute_input": "2020-05-30T23:44:11.399066Z",
     "iopub.status.busy": "2020-05-30T23:44:11.399066Z",
     "iopub.status.idle": "2020-05-30T23:44:11.406066Z",
     "shell.execute_reply": "2020-05-30T23:44:11.405067Z",
     "shell.execute_reply.started": "2020-05-30T23:44:11.399066Z"
    }
   },
   "outputs": [
    {
     "name": "stdout",
     "output_type": "stream",
     "text": [
      "Accuracy: 0.47878787878787876\n"
     ]
    }
   ],
   "source": [
    "from sklearn.metrics import accuracy_score\n",
    "\n",
    "acc = accuracy_score(y_teste, y_pred)\n",
    "\n",
    "print(\"Accuracy:\", acc)"
   ]
  },
  {
   "cell_type": "code",
   "execution_count": 28,
   "metadata": {
    "execution": {
     "iopub.execute_input": "2020-05-30T23:44:06.022822Z",
     "iopub.status.busy": "2020-05-30T23:44:06.021824Z",
     "iopub.status.idle": "2020-05-30T23:44:06.030820Z",
     "shell.execute_reply": "2020-05-30T23:44:06.029820Z",
     "shell.execute_reply.started": "2020-05-30T23:44:06.022822Z"
    }
   },
   "outputs": [
    {
     "name": "stdout",
     "output_type": "stream",
     "text": [
      "[[42 15  2]\n",
      " [30 18  4]\n",
      " [20 18 16]]\n"
     ]
    }
   ],
   "source": [
    "from sklearn.metrics import confusion_matrix\n",
    "\n",
    "print(confusion_matrix(y_teste, y_pred))"
   ]
  },
  {
   "cell_type": "code",
   "execution_count": 20,
   "metadata": {
    "execution": {
     "iopub.execute_input": "2020-05-30T23:42:58.661448Z",
     "iopub.status.busy": "2020-05-30T23:42:58.659448Z",
     "iopub.status.idle": "2020-05-30T23:42:58.884393Z",
     "shell.execute_reply": "2020-05-30T23:42:58.883392Z",
     "shell.execute_reply.started": "2020-05-30T23:42:58.661448Z"
    }
   },
   "outputs": [
    {
     "data": {
      "text/html": [
       "<div>\n",
       "<style scoped>\n",
       "    .dataframe tbody tr th:only-of-type {\n",
       "        vertical-align: middle;\n",
       "    }\n",
       "\n",
       "    .dataframe tbody tr th {\n",
       "        vertical-align: top;\n",
       "    }\n",
       "\n",
       "    .dataframe thead th {\n",
       "        text-align: right;\n",
       "    }\n",
       "</style>\n",
       "<table border=\"1\" class=\"dataframe\">\n",
       "  <thead>\n",
       "    <tr style=\"text-align: right;\">\n",
       "      <th>Predicted</th>\n",
       "      <th>0</th>\n",
       "      <th>1</th>\n",
       "      <th>2</th>\n",
       "      <th>All</th>\n",
       "    </tr>\n",
       "    <tr>\n",
       "      <th>True</th>\n",
       "      <th></th>\n",
       "      <th></th>\n",
       "      <th></th>\n",
       "      <th></th>\n",
       "    </tr>\n",
       "  </thead>\n",
       "  <tbody>\n",
       "    <tr>\n",
       "      <th>0</th>\n",
       "      <td>36</td>\n",
       "      <td>15</td>\n",
       "      <td>8</td>\n",
       "      <td>59</td>\n",
       "    </tr>\n",
       "    <tr>\n",
       "      <th>1</th>\n",
       "      <td>16</td>\n",
       "      <td>20</td>\n",
       "      <td>16</td>\n",
       "      <td>52</td>\n",
       "    </tr>\n",
       "    <tr>\n",
       "      <th>2</th>\n",
       "      <td>11</td>\n",
       "      <td>13</td>\n",
       "      <td>30</td>\n",
       "      <td>54</td>\n",
       "    </tr>\n",
       "    <tr>\n",
       "      <th>All</th>\n",
       "      <td>63</td>\n",
       "      <td>48</td>\n",
       "      <td>54</td>\n",
       "      <td>165</td>\n",
       "    </tr>\n",
       "  </tbody>\n",
       "</table>\n",
       "</div>"
      ],
      "text/plain": [
       "Predicted   0   1   2  All\n",
       "True                      \n",
       "0          36  15   8   59\n",
       "1          16  20  16   52\n",
       "2          11  13  30   54\n",
       "All        63  48  54  165"
      ]
     },
     "execution_count": 20,
     "metadata": {},
     "output_type": "execute_result"
    }
   ],
   "source": [
    "pd.crosstab(y_teste, y_pred, rownames = [\"True\"], colnames = [\"Predicted\"], margins = True)"
   ]
  },
  {
   "cell_type": "code",
   "execution_count": 21,
   "metadata": {
    "execution": {
     "iopub.execute_input": "2020-05-30T23:42:58.887393Z",
     "iopub.status.busy": "2020-05-30T23:42:58.886393Z",
     "iopub.status.idle": "2020-05-30T23:42:58.914385Z",
     "shell.execute_reply": "2020-05-30T23:42:58.913385Z",
     "shell.execute_reply.started": "2020-05-30T23:42:58.886393Z"
    }
   },
   "outputs": [
    {
     "name": "stdout",
     "output_type": "stream",
     "text": [
      "              precision    recall  f1-score   support\n",
      "\n",
      "           0       0.57      0.61      0.59        59\n",
      "           1       0.42      0.38      0.40        52\n",
      "           2       0.56      0.56      0.56        54\n",
      "\n",
      "    accuracy                           0.52       165\n",
      "   macro avg       0.51      0.52      0.52       165\n",
      "weighted avg       0.52      0.52      0.52       165\n",
      "\n"
     ]
    }
   ],
   "source": [
    "from sklearn.metrics import classification_report\n",
    "\n",
    "print(classification_report(y_teste, y_pred))"
   ]
  },
  {
   "cell_type": "code",
   "execution_count": 22,
   "metadata": {
    "execution": {
     "iopub.execute_input": "2020-05-30T23:42:58.916386Z",
     "iopub.status.busy": "2020-05-30T23:42:58.916386Z",
     "iopub.status.idle": "2020-05-30T23:42:59.394267Z",
     "shell.execute_reply": "2020-05-30T23:42:59.392267Z",
     "shell.execute_reply.started": "2020-05-30T23:42:58.916386Z"
    }
   },
   "outputs": [
    {
     "ename": "AttributeError",
     "evalue": "'KNeighborsClassifier' object has no attribute 'feature_importances_'",
     "output_type": "error",
     "traceback": [
      "\u001b[1;31m---------------------------------------------------------------------------\u001b[0m",
      "\u001b[1;31mAttributeError\u001b[0m                            Traceback (most recent call last)",
      "\u001b[1;32m<ipython-input-22-65765ff806d1>\u001b[0m in \u001b[0;36m<module>\u001b[1;34m\u001b[0m\n\u001b[1;32m----> 1\u001b[1;33m \u001b[0mpd\u001b[0m\u001b[1;33m.\u001b[0m\u001b[0mDataFrame\u001b[0m\u001b[1;33m(\u001b[0m\u001b[0mrfc\u001b[0m\u001b[1;33m.\u001b[0m\u001b[0mfeature_importances_\u001b[0m\u001b[1;33m,\u001b[0m \u001b[0mx_teste\u001b[0m\u001b[1;33m.\u001b[0m\u001b[0mcolumns\u001b[0m\u001b[1;33m)\u001b[0m\u001b[1;33m.\u001b[0m\u001b[0mreset_index\u001b[0m\u001b[1;33m(\u001b[0m\u001b[1;33m)\u001b[0m\u001b[1;33m.\u001b[0m\u001b[0mrename\u001b[0m\u001b[1;33m(\u001b[0m\u001b[0mcolumns\u001b[0m \u001b[1;33m=\u001b[0m \u001b[1;33m{\u001b[0m\u001b[1;36m0\u001b[0m\u001b[1;33m:\u001b[0m \u001b[1;34m\"Valor\"\u001b[0m\u001b[1;33m,\u001b[0m \u001b[1;34m\"index\"\u001b[0m\u001b[1;33m:\u001b[0m \u001b[1;34m\"Variável\"\u001b[0m\u001b[1;33m}\u001b[0m\u001b[1;33m)\u001b[0m\u001b[1;33m.\u001b[0m\u001b[0msort_values\u001b[0m\u001b[1;33m(\u001b[0m\u001b[1;34m\"Valor\"\u001b[0m\u001b[1;33m,\u001b[0m \u001b[0mascending\u001b[0m \u001b[1;33m=\u001b[0m \u001b[1;32mFalse\u001b[0m\u001b[1;33m)\u001b[0m\u001b[1;33m.\u001b[0m\u001b[0mround\u001b[0m\u001b[1;33m(\u001b[0m\u001b[1;36m5\u001b[0m\u001b[1;33m)\u001b[0m\u001b[1;33m\u001b[0m\u001b[1;33m\u001b[0m\u001b[0m\n\u001b[0m",
      "\u001b[1;31mAttributeError\u001b[0m: 'KNeighborsClassifier' object has no attribute 'feature_importances_'"
     ]
    }
   ],
   "source": [
    "pd.DataFrame(rfc.feature_importances_, x_teste.columns).reset_index().rename(columns = {0: \"Valor\", \"index\": \"Variável\"}).sort_values(\"Valor\", ascending = False).round(5)"
   ]
  },
  {
   "cell_type": "code",
   "execution_count": null,
   "metadata": {},
   "outputs": [],
   "source": []
  }
 ],
 "metadata": {
  "kernelspec": {
   "display_name": "Python 3",
   "language": "python",
   "name": "python3"
  },
  "language_info": {
   "codemirror_mode": {
    "name": "ipython",
    "version": 3
   },
   "file_extension": ".py",
   "mimetype": "text/x-python",
   "name": "python",
   "nbconvert_exporter": "python",
   "pygments_lexer": "ipython3",
   "version": "3.7.6"
  }
 },
 "nbformat": 4,
 "nbformat_minor": 4
}
