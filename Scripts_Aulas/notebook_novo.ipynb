{
 "cells": [
  {
   "cell_type": "markdown",
   "metadata": {},
   "source": [
    "# Carregando as bibliotecas"
   ]
  },
  {
   "cell_type": "code",
   "execution_count": 1,
   "metadata": {
    "execution": {
     "iopub.status.idle": "2020-06-01T14:33:32.538932Z",
     "shell.execute_reply": "2020-06-01T14:33:32.538932Z",
     "shell.execute_reply.started": "2020-06-01T14:33:30.680479Z"
    }
   },
   "outputs": [],
   "source": [
    "import pandas as pd\n",
    "import numpy as np\n",
    "import matplotlib.pyplot as plt\n",
    "import seaborn as sns"
   ]
  },
  {
   "cell_type": "markdown",
   "metadata": {},
   "source": [
    "# Configurações adicionais"
   ]
  },
  {
   "cell_type": "code",
   "execution_count": 2,
   "metadata": {
    "execution": {
     "iopub.execute_input": "2020-06-01T14:33:32.541931Z",
     "iopub.status.busy": "2020-06-01T14:33:32.541931Z",
     "iopub.status.idle": "2020-06-01T14:33:32.552928Z",
     "shell.execute_reply": "2020-06-01T14:33:32.550927Z",
     "shell.execute_reply.started": "2020-06-01T14:33:32.541931Z"
    }
   },
   "outputs": [],
   "source": [
    "plt.style.use(\"seaborn-muted\")\n",
    "%matplotlib inline\n",
    "pd.set_option('display.max_columns', None)"
   ]
  },
  {
   "cell_type": "markdown",
   "metadata": {},
   "source": [
    "# Carregando o banco de dados"
   ]
  },
  {
   "cell_type": "code",
   "execution_count": 3,
   "metadata": {
    "execution": {
     "iopub.execute_input": "2020-06-01T14:33:32.565924Z",
     "iopub.status.busy": "2020-06-01T14:33:32.560925Z",
     "iopub.status.idle": "2020-06-01T14:33:32.933814Z",
     "shell.execute_reply": "2020-06-01T14:33:32.932815Z",
     "shell.execute_reply.started": "2020-06-01T14:33:32.565924Z"
    }
   },
   "outputs": [],
   "source": [
    "banco = pd.read_excel(\"dataset.xlsx\")"
   ]
  },
  {
   "cell_type": "code",
   "execution_count": 4,
   "metadata": {
    "execution": {
     "iopub.execute_input": "2020-06-01T14:33:32.936814Z",
     "iopub.status.busy": "2020-06-01T14:33:32.934814Z",
     "iopub.status.idle": "2020-06-01T14:33:32.977803Z",
     "shell.execute_reply": "2020-06-01T14:33:32.973803Z",
     "shell.execute_reply.started": "2020-06-01T14:33:32.935814Z"
    }
   },
   "outputs": [
    {
     "name": "stdout",
     "output_type": "stream",
     "text": [
      "<class 'pandas.core.frame.DataFrame'>\n",
      "RangeIndex: 570 entries, 0 to 569\n",
      "Data columns (total 17 columns):\n",
      " #   Column         Non-Null Count  Dtype  \n",
      "---  ------         --------------  -----  \n",
      " 0   ID             570 non-null    int64  \n",
      " 1   Place          570 non-null    object \n",
      " 2   Cod_cycle      570 non-null    int64  \n",
      " 3   Zone           570 non-null    int64  \n",
      " 4   cota           570 non-null    float64\n",
      " 5   prof_local(m)  570 non-null    float64\n",
      " 6   Mes            570 non-null    int64  \n",
      " 7   Year           570 non-null    int64  \n",
      " 8   Temp           564 non-null    float64\n",
      " 9   TotalP         570 non-null    float64\n",
      " 10  Chl            570 non-null    float64\n",
      " 11  Secchi         570 non-null    float64\n",
      " 12  Turbidity      570 non-null    float64\n",
      " 13  STS            570 non-null    float64\n",
      " 14  DO             570 non-null    float64\n",
      " 15  OrthoP (mg/L)  550 non-null    float64\n",
      " 16  Ammonium       570 non-null    float64\n",
      "dtypes: float64(11), int64(5), object(1)\n",
      "memory usage: 75.8+ KB\n"
     ]
    }
   ],
   "source": [
    "banco.info()"
   ]
  },
  {
   "cell_type": "code",
   "execution_count": 5,
   "metadata": {
    "execution": {
     "iopub.execute_input": "2020-06-01T14:33:32.992798Z",
     "iopub.status.busy": "2020-06-01T14:33:32.986799Z",
     "iopub.status.idle": "2020-06-01T14:33:33.031786Z",
     "shell.execute_reply": "2020-06-01T14:33:33.028787Z",
     "shell.execute_reply.started": "2020-06-01T14:33:32.992798Z"
    }
   },
   "outputs": [
    {
     "data": {
      "text/plain": [
       "0    202\n",
       "1    195\n",
       "2    173\n",
       "Name: Zone, dtype: int64"
      ]
     },
     "execution_count": 5,
     "metadata": {},
     "output_type": "execute_result"
    }
   ],
   "source": [
    "banco[\"Zone\"].value_counts()"
   ]
  },
  {
   "cell_type": "markdown",
   "metadata": {},
   "source": [
    "## Valores nulos"
   ]
  },
  {
   "cell_type": "code",
   "execution_count": 6,
   "metadata": {
    "execution": {
     "iopub.execute_input": "2020-06-01T14:33:33.039784Z",
     "iopub.status.busy": "2020-06-01T14:33:33.035784Z",
     "iopub.status.idle": "2020-06-01T14:33:33.091769Z",
     "shell.execute_reply": "2020-06-01T14:33:33.082771Z",
     "shell.execute_reply.started": "2020-06-01T14:33:33.039784Z"
    }
   },
   "outputs": [
    {
     "data": {
      "text/plain": [
       "ID                0\n",
       "Place             0\n",
       "Cod_cycle         0\n",
       "Zone              0\n",
       "cota              0\n",
       "prof_local(m)     0\n",
       "Mes               0\n",
       "Year              0\n",
       "Temp              6\n",
       "TotalP            0\n",
       "Chl               0\n",
       "Secchi            0\n",
       "Turbidity         0\n",
       "STS               0\n",
       "DO                0\n",
       "OrthoP (mg/L)    20\n",
       "Ammonium          0\n",
       "dtype: int64"
      ]
     },
     "execution_count": 6,
     "metadata": {},
     "output_type": "execute_result"
    }
   ],
   "source": [
    "banco.isnull().sum()"
   ]
  },
  {
   "cell_type": "code",
   "execution_count": 7,
   "metadata": {
    "execution": {
     "iopub.execute_input": "2020-06-01T14:33:33.110763Z",
     "iopub.status.busy": "2020-06-01T14:33:33.099766Z",
     "iopub.status.idle": "2020-06-01T14:33:33.136755Z",
     "shell.execute_reply": "2020-06-01T14:33:33.133756Z",
     "shell.execute_reply.started": "2020-06-01T14:33:33.110763Z"
    }
   },
   "outputs": [],
   "source": [
    "banco = banco.dropna()"
   ]
  },
  {
   "cell_type": "markdown",
   "metadata": {},
   "source": [
    "# Exploratória"
   ]
  },
  {
   "cell_type": "code",
   "execution_count": 8,
   "metadata": {
    "execution": {
     "iopub.execute_input": "2020-06-01T14:33:33.146752Z",
     "iopub.status.busy": "2020-06-01T14:33:33.143752Z",
     "iopub.status.idle": "2020-06-01T14:33:33.726580Z",
     "shell.execute_reply": "2020-06-01T14:33:33.725581Z",
     "shell.execute_reply.started": "2020-06-01T14:33:33.146752Z"
    }
   },
   "outputs": [
    {
     "data": {
      "text/plain": [
       "<Figure size 720x432 with 0 Axes>"
      ]
     },
     "metadata": {},
     "output_type": "display_data"
    },
    {
     "data": {
      "image/png": "[encoded data removed]",
      "text/plain": [
       "<Figure size 432x288 with 1 Axes>"
      ]
     },
     "metadata": {
      "needs_background": "light"
     },
     "output_type": "display_data"
    }
   ],
   "source": [
    "# banco.groupby(\"Year\")[[\"Year\", \"Zone\"]].head(6)\n",
    "\n",
    "plt.figure(figsize = [10, 6])\n",
    "\n",
    "banco[[\"Mes\", \"Zone\"]].reset_index().groupby([\"Mes\", \"Zone\"], as_index = False).size().unstack().plot.bar()\n",
    "\n",
    "plt.show()"
   ]
  },
  {
   "cell_type": "markdown",
   "metadata": {},
   "source": [
    "## OneHotEncoding para a variável Place"
   ]
  },
  {
   "cell_type": "code",
   "execution_count": 9,
   "metadata": {
    "execution": {
     "iopub.execute_input": "2020-06-01T14:33:33.734578Z",
     "iopub.status.busy": "2020-06-01T14:33:33.733579Z",
     "iopub.status.idle": "2020-06-01T14:33:33.752573Z",
     "shell.execute_reply": "2020-06-01T14:33:33.751572Z",
     "shell.execute_reply.started": "2020-06-01T14:33:33.734578Z"
    }
   },
   "outputs": [],
   "source": [
    "banco = pd.get_dummies(data = banco, columns = [\"Mes\", \"Year\"])"
   ]
  },
  {
   "cell_type": "markdown",
   "metadata": {},
   "source": [
    "## Selecionando variáveis"
   ]
  },
  {
   "cell_type": "code",
   "execution_count": 10,
   "metadata": {
    "execution": {
     "iopub.execute_input": "2020-06-01T14:33:33.756572Z",
     "iopub.status.busy": "2020-06-01T14:33:33.755572Z",
     "iopub.status.idle": "2020-06-01T14:33:33.770566Z",
     "shell.execute_reply": "2020-06-01T14:33:33.768569Z",
     "shell.execute_reply.started": "2020-06-01T14:33:33.756572Z"
    }
   },
   "outputs": [],
   "source": [
    "# var = [\"Zone\", \"prof_local(m)\", \"Temp\", \"TotalP\", \"Chl\", \"Secchi \", \"Turbidity\", \"STS\", \"DO\", \"OrthoP (mg/L)\", \"Ammonium\"]\n",
    "\n",
    "# banco[var]\n",
    "\n",
    "\n",
    "banco = banco.drop([\"ID\", \"Place\", \"Cod_cycle\"], axis = 1)"
   ]
  },
  {
   "cell_type": "code",
   "execution_count": 11,
   "metadata": {
    "execution": {
     "iopub.execute_input": "2020-06-01T14:33:33.773567Z",
     "iopub.status.busy": "2020-06-01T14:33:33.772567Z",
     "iopub.status.idle": "2020-06-01T14:33:33.840547Z",
     "shell.execute_reply": "2020-06-01T14:33:33.839547Z",
     "shell.execute_reply.started": "2020-06-01T14:33:33.772567Z"
    }
   },
   "outputs": [
    {
     "data": {
      "text/html": [
       "<div>\n",
       "<style scoped>\n",
       "    .dataframe tbody tr th:only-of-type {\n",
       "        vertical-align: middle;\n",
       "    }\n",
       "\n",
       "    .dataframe tbody tr th {\n",
       "        vertical-align: top;\n",
       "    }\n",
       "\n",
       "    .dataframe thead th {\n",
       "        text-align: right;\n",
       "    }\n",
       "</style>\n",
       "<table border=\"1\" class=\"dataframe\">\n",
       "  <thead>\n",
       "    <tr style=\"text-align: right;\">\n",
       "      <th></th>\n",
       "      <th>Zone</th>\n",
       "      <th>cota</th>\n",
       "      <th>prof_local(m)</th>\n",
       "      <th>Temp</th>\n",
       "      <th>TotalP</th>\n",
       "      <th>Chl</th>\n",
       "      <th>Secchi</th>\n",
       "      <th>Turbidity</th>\n",
       "      <th>STS</th>\n",
       "      <th>DO</th>\n",
       "      <th>OrthoP (mg/L)</th>\n",
       "      <th>Ammonium</th>\n",
       "      <th>Mes_1</th>\n",
       "      <th>Mes_2</th>\n",
       "      <th>Mes_3</th>\n",
       "      <th>Mes_4</th>\n",
       "      <th>Mes_5</th>\n",
       "      <th>Mes_6</th>\n",
       "      <th>Mes_7</th>\n",
       "      <th>Mes_8</th>\n",
       "      <th>Mes_9</th>\n",
       "      <th>Mes_10</th>\n",
       "      <th>Mes_11</th>\n",
       "      <th>Mes_12</th>\n",
       "      <th>Year_2006</th>\n",
       "      <th>Year_2007</th>\n",
       "      <th>Year_2008</th>\n",
       "      <th>Year_2009</th>\n",
       "      <th>Year_2010</th>\n",
       "      <th>Year_2011</th>\n",
       "      <th>Year_2012</th>\n",
       "      <th>Year_2013</th>\n",
       "      <th>Year_2014</th>\n",
       "      <th>Year_2015</th>\n",
       "      <th>Year_2016</th>\n",
       "    </tr>\n",
       "  </thead>\n",
       "  <tbody>\n",
       "    <tr>\n",
       "      <th>0</th>\n",
       "      <td>0</td>\n",
       "      <td>73.86</td>\n",
       "      <td>30.00</td>\n",
       "      <td>30.4</td>\n",
       "      <td>15.34</td>\n",
       "      <td>4.76</td>\n",
       "      <td>3.0</td>\n",
       "      <td>2.18</td>\n",
       "      <td>1.0</td>\n",
       "      <td>7.30</td>\n",
       "      <td>16.18</td>\n",
       "      <td>35.39</td>\n",
       "      <td>0</td>\n",
       "      <td>0</td>\n",
       "      <td>0</td>\n",
       "      <td>1</td>\n",
       "      <td>0</td>\n",
       "      <td>0</td>\n",
       "      <td>0</td>\n",
       "      <td>0</td>\n",
       "      <td>0</td>\n",
       "      <td>0</td>\n",
       "      <td>0</td>\n",
       "      <td>0</td>\n",
       "      <td>0</td>\n",
       "      <td>0</td>\n",
       "      <td>0</td>\n",
       "      <td>0</td>\n",
       "      <td>0</td>\n",
       "      <td>0</td>\n",
       "      <td>1</td>\n",
       "      <td>0</td>\n",
       "      <td>0</td>\n",
       "      <td>0</td>\n",
       "      <td>0</td>\n",
       "    </tr>\n",
       "    <tr>\n",
       "      <th>1</th>\n",
       "      <td>0</td>\n",
       "      <td>73.86</td>\n",
       "      <td>30.00</td>\n",
       "      <td>30.2</td>\n",
       "      <td>18.91</td>\n",
       "      <td>4.05</td>\n",
       "      <td>2.1</td>\n",
       "      <td>2.96</td>\n",
       "      <td>0.6</td>\n",
       "      <td>5.86</td>\n",
       "      <td>15.81</td>\n",
       "      <td>23.50</td>\n",
       "      <td>0</td>\n",
       "      <td>0</td>\n",
       "      <td>0</td>\n",
       "      <td>1</td>\n",
       "      <td>0</td>\n",
       "      <td>0</td>\n",
       "      <td>0</td>\n",
       "      <td>0</td>\n",
       "      <td>0</td>\n",
       "      <td>0</td>\n",
       "      <td>0</td>\n",
       "      <td>0</td>\n",
       "      <td>0</td>\n",
       "      <td>0</td>\n",
       "      <td>0</td>\n",
       "      <td>0</td>\n",
       "      <td>0</td>\n",
       "      <td>0</td>\n",
       "      <td>0</td>\n",
       "      <td>1</td>\n",
       "      <td>0</td>\n",
       "      <td>0</td>\n",
       "      <td>0</td>\n",
       "    </tr>\n",
       "    <tr>\n",
       "      <th>2</th>\n",
       "      <td>0</td>\n",
       "      <td>73.69</td>\n",
       "      <td>30.00</td>\n",
       "      <td>29.5</td>\n",
       "      <td>20.70</td>\n",
       "      <td>5.95</td>\n",
       "      <td>2.5</td>\n",
       "      <td>2.90</td>\n",
       "      <td>2.8</td>\n",
       "      <td>6.56</td>\n",
       "      <td>5.44</td>\n",
       "      <td>75.84</td>\n",
       "      <td>0</td>\n",
       "      <td>0</td>\n",
       "      <td>0</td>\n",
       "      <td>1</td>\n",
       "      <td>0</td>\n",
       "      <td>0</td>\n",
       "      <td>0</td>\n",
       "      <td>0</td>\n",
       "      <td>0</td>\n",
       "      <td>0</td>\n",
       "      <td>0</td>\n",
       "      <td>0</td>\n",
       "      <td>0</td>\n",
       "      <td>0</td>\n",
       "      <td>0</td>\n",
       "      <td>0</td>\n",
       "      <td>0</td>\n",
       "      <td>0</td>\n",
       "      <td>0</td>\n",
       "      <td>0</td>\n",
       "      <td>1</td>\n",
       "      <td>0</td>\n",
       "      <td>0</td>\n",
       "    </tr>\n",
       "    <tr>\n",
       "      <th>3</th>\n",
       "      <td>0</td>\n",
       "      <td>73.67</td>\n",
       "      <td>30.40</td>\n",
       "      <td>31.6</td>\n",
       "      <td>19.94</td>\n",
       "      <td>5.95</td>\n",
       "      <td>1.2</td>\n",
       "      <td>10.10</td>\n",
       "      <td>0.6</td>\n",
       "      <td>7.82</td>\n",
       "      <td>9.51</td>\n",
       "      <td>23.50</td>\n",
       "      <td>0</td>\n",
       "      <td>0</td>\n",
       "      <td>0</td>\n",
       "      <td>1</td>\n",
       "      <td>0</td>\n",
       "      <td>0</td>\n",
       "      <td>0</td>\n",
       "      <td>0</td>\n",
       "      <td>0</td>\n",
       "      <td>0</td>\n",
       "      <td>0</td>\n",
       "      <td>0</td>\n",
       "      <td>0</td>\n",
       "      <td>0</td>\n",
       "      <td>0</td>\n",
       "      <td>0</td>\n",
       "      <td>0</td>\n",
       "      <td>0</td>\n",
       "      <td>0</td>\n",
       "      <td>0</td>\n",
       "      <td>0</td>\n",
       "      <td>1</td>\n",
       "      <td>0</td>\n",
       "    </tr>\n",
       "    <tr>\n",
       "      <th>4</th>\n",
       "      <td>0</td>\n",
       "      <td>62.58</td>\n",
       "      <td>19.17</td>\n",
       "      <td>29.8</td>\n",
       "      <td>5.79</td>\n",
       "      <td>3.45</td>\n",
       "      <td>2.6</td>\n",
       "      <td>1.52</td>\n",
       "      <td>2.0</td>\n",
       "      <td>6.05</td>\n",
       "      <td>0.24</td>\n",
       "      <td>12.91</td>\n",
       "      <td>0</td>\n",
       "      <td>0</td>\n",
       "      <td>0</td>\n",
       "      <td>0</td>\n",
       "      <td>0</td>\n",
       "      <td>0</td>\n",
       "      <td>0</td>\n",
       "      <td>0</td>\n",
       "      <td>0</td>\n",
       "      <td>0</td>\n",
       "      <td>0</td>\n",
       "      <td>1</td>\n",
       "      <td>1</td>\n",
       "      <td>0</td>\n",
       "      <td>0</td>\n",
       "      <td>0</td>\n",
       "      <td>0</td>\n",
       "      <td>0</td>\n",
       "      <td>0</td>\n",
       "      <td>0</td>\n",
       "      <td>0</td>\n",
       "      <td>0</td>\n",
       "      <td>0</td>\n",
       "    </tr>\n",
       "  </tbody>\n",
       "</table>\n",
       "</div>"
      ],
      "text/plain": [
       "   Zone   cota  prof_local(m)  Temp  TotalP   Chl  Secchi   Turbidity  STS  \\\n",
       "0     0  73.86          30.00  30.4   15.34  4.76      3.0       2.18  1.0   \n",
       "1     0  73.86          30.00  30.2   18.91  4.05      2.1       2.96  0.6   \n",
       "2     0  73.69          30.00  29.5   20.70  5.95      2.5       2.90  2.8   \n",
       "3     0  73.67          30.40  31.6   19.94  5.95      1.2      10.10  0.6   \n",
       "4     0  62.58          19.17  29.8    5.79  3.45      2.6       1.52  2.0   \n",
       "\n",
       "     DO  OrthoP (mg/L)  Ammonium  Mes_1  Mes_2  Mes_3  Mes_4  Mes_5  Mes_6  \\\n",
       "0  7.30          16.18     35.39      0      0      0      1      0      0   \n",
       "1  5.86          15.81     23.50      0      0      0      1      0      0   \n",
       "2  6.56           5.44     75.84      0      0      0      1      0      0   \n",
       "3  7.82           9.51     23.50      0      0      0      1      0      0   \n",
       "4  6.05           0.24     12.91      0      0      0      0      0      0   \n",
       "\n",
       "   Mes_7  Mes_8  Mes_9  Mes_10  Mes_11  Mes_12  Year_2006  Year_2007  \\\n",
       "0      0      0      0       0       0       0          0          0   \n",
       "1      0      0      0       0       0       0          0          0   \n",
       "2      0      0      0       0       0       0          0          0   \n",
       "3      0      0      0       0       0       0          0          0   \n",
       "4      0      0      0       0       0       1          1          0   \n",
       "\n",
       "   Year_2008  Year_2009  Year_2010  Year_2011  Year_2012  Year_2013  \\\n",
       "0          0          0          0          0          1          0   \n",
       "1          0          0          0          0          0          1   \n",
       "2          0          0          0          0          0          0   \n",
       "3          0          0          0          0          0          0   \n",
       "4          0          0          0          0          0          0   \n",
       "\n",
       "   Year_2014  Year_2015  Year_2016  \n",
       "0          0          0          0  \n",
       "1          0          0          0  \n",
       "2          1          0          0  \n",
       "3          0          1          0  \n",
       "4          0          0          0  "
      ]
     },
     "execution_count": 11,
     "metadata": {},
     "output_type": "execute_result"
    }
   ],
   "source": [
    "x = banco.drop(\"Zone\", axis = 1)\n",
    "y = banco[\"Zone\"]\n",
    "\n",
    "banco.head()"
   ]
  },
  {
   "cell_type": "code",
   "execution_count": 12,
   "metadata": {
    "execution": {
     "iopub.execute_input": "2020-06-01T14:33:33.842547Z",
     "iopub.status.busy": "2020-06-01T14:33:33.842547Z",
     "iopub.status.idle": "2020-06-01T14:33:33.852543Z",
     "shell.execute_reply": "2020-06-01T14:33:33.849545Z",
     "shell.execute_reply.started": "2020-06-01T14:33:33.842547Z"
    }
   },
   "outputs": [],
   "source": [
    "# from sklearn.compose import ColumnTransformer\n",
    "# from sklearn.preprocessing import StandardScaler\n",
    "\n",
    "# var = [\"cota\", \"prof_local(m)\", \"Temp\", \"TotalP\", \"Chl\", \"Secchi \", \"Turbidity\", \"STS\", \"DO\", \"OrthoP (mg/L)\", \"Ammonium\"]\n",
    "\n",
    "# features = banco[var]\n",
    "\n",
    "# ct = ColumnTransformer([\n",
    "#         ('somename', StandardScaler(), var)\n",
    "#     ], remainder='passthrough')\n",
    "\n",
    "# banco[var] = ct.fit_transform(features)\n",
    "\n",
    "# banco = pd.concat([banco[var], banco[\"Zone\"]], axis = 1)\n",
    "\n",
    "# banco.head()"
   ]
  },
  {
   "cell_type": "markdown",
   "metadata": {},
   "source": [
    "## Separando em treino e teste"
   ]
  },
  {
   "cell_type": "code",
   "execution_count": 13,
   "metadata": {
    "execution": {
     "iopub.execute_input": "2020-06-01T14:33:33.856542Z",
     "iopub.status.busy": "2020-06-01T14:33:33.855543Z",
     "iopub.status.idle": "2020-06-01T14:33:33.979506Z",
     "shell.execute_reply": "2020-06-01T14:33:33.978507Z",
     "shell.execute_reply.started": "2020-06-01T14:33:33.856542Z"
    }
   },
   "outputs": [],
   "source": [
    "from sklearn.model_selection import train_test_split\n",
    "\n",
    "x_treino, x_teste, y_treino, y_teste = train_test_split(x, y, train_size = 0.7, random_state = 1234)"
   ]
  },
  {
   "cell_type": "code",
   "execution_count": 14,
   "metadata": {
    "execution": {
     "iopub.execute_input": "2020-06-01T14:33:33.983505Z",
     "iopub.status.busy": "2020-06-01T14:33:33.983505Z",
     "iopub.status.idle": "2020-06-01T14:33:33.994502Z",
     "shell.execute_reply": "2020-06-01T14:33:33.993502Z",
     "shell.execute_reply.started": "2020-06-01T14:33:33.983505Z"
    }
   },
   "outputs": [
    {
     "data": {
      "text/plain": [
       "((382, 34), (382,), (165, 34), (165,))"
      ]
     },
     "execution_count": 14,
     "metadata": {},
     "output_type": "execute_result"
    }
   ],
   "source": [
    "x_treino.shape, y_treino.shape, x_teste.shape, y_teste.shape"
   ]
  },
  {
   "cell_type": "markdown",
   "metadata": {},
   "source": [
    "## Modelos"
   ]
  },
  {
   "cell_type": "code",
   "execution_count": 15,
   "metadata": {
    "execution": {
     "iopub.execute_input": "2020-06-01T14:33:33.999500Z",
     "iopub.status.busy": "2020-06-01T14:33:33.998501Z",
     "iopub.status.idle": "2020-06-01T14:33:34.120463Z",
     "shell.execute_reply": "2020-06-01T14:33:34.119464Z",
     "shell.execute_reply.started": "2020-06-01T14:33:33.999500Z"
    }
   },
   "outputs": [
    {
     "data": {
      "text/plain": [
       "RandomForestClassifier(bootstrap=True, ccp_alpha=0.0, class_weight=None,\n",
       "                       criterion='gini', max_depth=None, max_features='auto',\n",
       "                       max_leaf_nodes=None, max_samples=None,\n",
       "                       min_impurity_decrease=0.0, min_impurity_split=None,\n",
       "                       min_samples_leaf=1, min_samples_split=2,\n",
       "                       min_weight_fraction_leaf=0.0, n_estimators=100,\n",
       "                       n_jobs=-1, oob_score=False, random_state=1234, verbose=0,\n",
       "                       warm_start=False)"
      ]
     },
     "execution_count": 15,
     "metadata": {},
     "output_type": "execute_result"
    }
   ],
   "source": [
    "from sklearn.ensemble import RandomForestClassifier\n",
    "from sklearn.linear_model import LogisticRegression\n",
    "from sklearn.svm import SVC, LinearSVC\n",
    "from sklearn.ensemble import RandomForestClassifier\n",
    "from sklearn.neighbors import KNeighborsClassifier\n",
    "from sklearn.naive_bayes import GaussianNB\n",
    "from sklearn.linear_model import Perceptron\n",
    "from sklearn.linear_model import SGDClassifier\n",
    "from sklearn.tree import DecisionTreeClassifier\n",
    "\n",
    "\n",
    "#--- Random Forest\n",
    "\n",
    "rfc = RandomForestClassifier(n_estimators = 100, \n",
    "                             random_state = 1234, \n",
    "                             n_jobs = -1)\n",
    "\n",
    "# 'test_accuracy': array([1.        , 1.        , 1.        , 0.94117647, 1.        ,\n",
    "#         1.        , 0.9375    , 1.        , 1.        , 0.9375    ])}\n",
    "\n",
    "\n",
    "#--- Regressão logística \n",
    "\n",
    "# rfc = LogisticRegression(random_state = 1234, n_jobs = -1)\n",
    "\n",
    "# 'test_accuracy': array([0.88235294, 0.94117647, 0.82352941, 0.88235294, 0.94117647,\n",
    "#         0.8125    , 0.8125    , 0.8125    , 0.8125    , 0.8125    ])}\n",
    "\n",
    "\n",
    "#--- SVC\n",
    "\n",
    "\n",
    "# rfc = SVC()\n",
    "\n",
    "# 'test_accuracy': array([0.64705882, 0.52941176, 0.64705882, 0.58823529, 0.58823529,\n",
    "#         0.3125    , 0.5625    , 0.5625    , 0.375     , 0.5625    ])}\n",
    "\n",
    "\n",
    "#--- KNN\n",
    "\n",
    "# rfc = KNeighborsClassifier(n_neighbors = 3)\n",
    "\n",
    "# 'test_accuracy': array([0.42857143, 0.64285714, 0.5       , 0.42857143, 0.2962963 ,\n",
    "#         0.40740741, 0.66666667, 0.37037037, 0.55555556, 0.51851852])}\n",
    "\n",
    "# # Gaussian Naive Bayes\n",
    "\n",
    "# rfc = GaussianNB()\n",
    "\n",
    "# 'test_accuracy': array([0.71428571, 0.64285714, 0.75      , 0.64285714, 0.66666667,\n",
    "#         0.48148148, 0.7037037 , 0.81481481, 0.7037037 , 0.7037037 ])}\n",
    "\n",
    "\n",
    "# Perceptron\n",
    "\n",
    "# rfc = Perceptron()\n",
    "\n",
    "# 'test_accuracy': array([0.46428571, 0.32142857, 0.32142857, 0.32142857, 0.33333333,\n",
    "#         0.2962963 , 0.33333333, 0.2962963 , 0.37037037, 0.2962963 ])}\n",
    "\n",
    "\n",
    "# Linear SVC\n",
    "\n",
    "# rfc = LinearSVC(max_iter = 500)\n",
    "\n",
    "# test_accuracy': array([0.42857143, 0.57142857, 0.5       , 0.42857143, 0.51851852,\n",
    "#         0.37037037, 0.44444444, 0.59259259, 0.48148148, 0.48148148])}\n",
    "\n",
    "\n",
    "# Stochastic Gradient Descent\n",
    "\n",
    "# rfc = SGDClassifier()\n",
    "\n",
    "# 'test_accuracy': array([0.39285714, 0.39285714, 0.39285714, 0.35714286, 0.33333333,\n",
    "#         0.40740741, 0.33333333, 0.59259259, 0.44444444, 0.37037037])}\n",
    "\n",
    "\n",
    "# Decision Tree\n",
    "\n",
    "# rfc = DecisionTreeClassifier(random_state = 1234)\n",
    "\n",
    "# 'test_accuracy': array([0.75      , 0.64285714, 0.53571429, 0.64285714, 0.59259259,\n",
    "#         0.40740741, 0.59259259, 0.66666667, 0.55555556, 0.74074074])}\n",
    "\n",
    "\n",
    "rfc"
   ]
  },
  {
   "cell_type": "markdown",
   "metadata": {},
   "source": [
    "## Cross Validation\n"
   ]
  },
  {
   "cell_type": "code",
   "execution_count": 16,
   "metadata": {
    "execution": {
     "iopub.execute_input": "2020-06-01T14:33:34.122464Z",
     "iopub.status.busy": "2020-06-01T14:33:34.121464Z",
     "iopub.status.idle": "2020-06-01T14:33:37.711405Z",
     "shell.execute_reply": "2020-06-01T14:33:37.709406Z",
     "shell.execute_reply.started": "2020-06-01T14:33:34.121464Z"
    }
   },
   "outputs": [
    {
     "name": "stdout",
     "output_type": "stream",
     "text": [
      "Wall time: 3.58 s\n"
     ]
    }
   ],
   "source": [
    "%%time\n",
    "\n",
    "from sklearn.model_selection import cross_validate \n",
    "\n",
    "scoring1 = [\n",
    "     \"accuracy\"]\n",
    "\n",
    "scores = cross_validate(rfc, x_teste, y_teste, cv = 3, scoring = scoring1, n_jobs = -1)\n",
    "\n",
    "# print(\"Os scores são:\", scores)\n",
    "\n",
    "# print(\"Média dos scores:\", scores.mean())"
   ]
  },
  {
   "cell_type": "code",
   "execution_count": 17,
   "metadata": {
    "execution": {
     "iopub.execute_input": "2020-06-01T14:33:37.715405Z",
     "iopub.status.busy": "2020-06-01T14:33:37.713405Z",
     "iopub.status.idle": "2020-06-01T14:33:37.728399Z",
     "shell.execute_reply": "2020-06-01T14:33:37.726401Z",
     "shell.execute_reply.started": "2020-06-01T14:33:37.715405Z"
    }
   },
   "outputs": [
    {
     "data": {
      "text/plain": [
       "{'fit_time': array([0.43087292, 0.32790208, 0.31890631]),\n",
       " 'score_time': array([0.13096118, 0.10596967, 0.11596632]),\n",
       " 'test_accuracy': array([0.56363636, 0.58181818, 0.58181818])}"
      ]
     },
     "execution_count": 17,
     "metadata": {},
     "output_type": "execute_result"
    }
   ],
   "source": [
    "scores"
   ]
  },
  {
   "cell_type": "markdown",
   "metadata": {},
   "source": [
    "## RandomSearch + CV"
   ]
  },
  {
   "cell_type": "code",
   "execution_count": 18,
   "metadata": {
    "execution": {
     "iopub.execute_input": "2020-06-01T14:33:37.735398Z",
     "iopub.status.busy": "2020-06-01T14:33:37.732399Z",
     "iopub.status.idle": "2020-06-01T14:33:37.756391Z",
     "shell.execute_reply": "2020-06-01T14:33:37.754393Z",
     "shell.execute_reply.started": "2020-06-01T14:33:37.735398Z"
    }
   },
   "outputs": [],
   "source": [
    "#--- Parametros a serem utilizados\n",
    "\n",
    "parametros = {\"max_depth\" : [10, 30, 50, 70, 90, None], \n",
    "\"max_features\" : [10, 30, 50, 70, 90, None], \n",
    "\"max_leaf_nodes\" : [10, 30, 50, 70, 90, None], \n",
    "\"max_samples\" : [10, 30, 50, 70, 90, None], \n",
    "\"min_samples_leaf\" : [10, 30, 50, 70, 90, None], \n",
    "\"min_samples_split\" : [10, 30, 50, 70, 90, None]}\n",
    "\n",
    "#--- Criando a RF\n",
    "\n",
    "rfc = RandomForestClassifier(n_estimators = 100, \n",
    "                             random_state = 1234, \n",
    "                             n_jobs = -1)\n",
    "\n",
    "\n",
    "#--- Criando o objeto\n",
    "\n",
    "from sklearn.model_selection import RandomizedSearchCV\n",
    "\n",
    "\n",
    "clf = RandomizedSearchCV(rfc, parametros, random_state = 1234, n_iter = 100, cv = 3, verbose = 0, n_jobs = -1, scoring = \"accuracy\")"
   ]
  },
  {
   "cell_type": "code",
   "execution_count": 19,
   "metadata": {
    "execution": {
     "iopub.execute_input": "2020-06-01T14:33:37.759390Z",
     "iopub.status.busy": "2020-06-01T14:33:37.758391Z",
     "iopub.status.idle": "2020-06-01T14:34:04.377534Z",
     "shell.execute_reply": "2020-06-01T14:34:04.376533Z",
     "shell.execute_reply.started": "2020-06-01T14:33:37.759390Z"
    }
   },
   "outputs": [
    {
     "name": "stdout",
     "output_type": "stream",
     "text": [
      "Wall time: 26.6 s\n"
     ]
    }
   ],
   "source": [
    "%%time\n",
    "\n",
    "best_model = clf.fit(x_treino, y_treino)"
   ]
  },
  {
   "cell_type": "code",
   "execution_count": 20,
   "metadata": {
    "execution": {
     "iopub.execute_input": "2020-06-01T14:34:04.383532Z",
     "iopub.status.busy": "2020-06-01T14:34:04.381533Z",
     "iopub.status.idle": "2020-06-01T14:34:04.403526Z",
     "shell.execute_reply": "2020-06-01T14:34:04.400527Z",
     "shell.execute_reply.started": "2020-06-01T14:34:04.383532Z"
    }
   },
   "outputs": [
    {
     "data": {
      "text/plain": [
       "{'min_samples_split': 50,\n",
       " 'min_samples_leaf': 10,\n",
       " 'max_samples': None,\n",
       " 'max_leaf_nodes': None,\n",
       " 'max_features': 30,\n",
       " 'max_depth': 10}"
      ]
     },
     "execution_count": 20,
     "metadata": {},
     "output_type": "execute_result"
    }
   ],
   "source": [
    "best_model.best_params_"
   ]
  },
  {
   "cell_type": "code",
   "execution_count": 21,
   "metadata": {
    "execution": {
     "iopub.execute_input": "2020-06-01T14:34:04.408524Z",
     "iopub.status.busy": "2020-06-01T14:34:04.408524Z",
     "iopub.status.idle": "2020-06-01T14:34:04.566476Z",
     "shell.execute_reply": "2020-06-01T14:34:04.565477Z",
     "shell.execute_reply.started": "2020-06-01T14:34:04.408524Z"
    }
   },
   "outputs": [],
   "source": [
    "y_pred = clf.predict(x_teste)"
   ]
  },
  {
   "cell_type": "markdown",
   "metadata": {},
   "source": [
    "## Random Forest aplicado aos dados de teste"
   ]
  },
  {
   "cell_type": "code",
   "execution_count": 22,
   "metadata": {
    "execution": {
     "iopub.execute_input": "2020-06-01T14:34:04.567477Z",
     "iopub.status.busy": "2020-06-01T14:34:04.567477Z",
     "iopub.status.idle": "2020-06-01T14:34:04.999350Z",
     "shell.execute_reply": "2020-06-01T14:34:04.997350Z",
     "shell.execute_reply.started": "2020-06-01T14:34:04.567477Z"
    }
   },
   "outputs": [],
   "source": [
    "rfc.fit(x_treino, y_treino)\n",
    "\n",
    "y_pred = rfc.predict(x_teste)"
   ]
  },
  {
   "cell_type": "markdown",
   "metadata": {},
   "source": [
    "# Métricas a serem avaliadas\n"
   ]
  },
  {
   "cell_type": "code",
   "execution_count": 23,
   "metadata": {
    "execution": {
     "iopub.execute_input": "2020-06-01T14:34:05.002350Z",
     "iopub.status.busy": "2020-06-01T14:34:05.001351Z",
     "iopub.status.idle": "2020-06-01T14:34:05.043337Z",
     "shell.execute_reply": "2020-06-01T14:34:05.040338Z",
     "shell.execute_reply.started": "2020-06-01T14:34:05.002350Z"
    }
   },
   "outputs": [
    {
     "name": "stdout",
     "output_type": "stream",
     "text": [
      "Accuracy: 0.703030303030303\n"
     ]
    }
   ],
   "source": [
    "from sklearn.metrics import accuracy_score\n",
    "\n",
    "acc = accuracy_score(y_teste, y_pred)\n",
    "\n",
    "print(\"Accuracy:\", acc)"
   ]
  },
  {
   "cell_type": "code",
   "execution_count": 24,
   "metadata": {
    "execution": {
     "iopub.execute_input": "2020-06-01T14:34:05.047335Z",
     "iopub.status.busy": "2020-06-01T14:34:05.046337Z",
     "iopub.status.idle": "2020-06-01T14:34:05.061356Z",
     "shell.execute_reply": "2020-06-01T14:34:05.059332Z",
     "shell.execute_reply.started": "2020-06-01T14:34:05.047335Z"
    }
   },
   "outputs": [
    {
     "name": "stdout",
     "output_type": "stream",
     "text": [
      "[[37 19  3]\n",
      " [13 34  5]\n",
      " [ 1  8 45]]\n"
     ]
    }
   ],
   "source": [
    "from sklearn.metrics import confusion_matrix\n",
    "\n",
    "print(confusion_matrix(y_teste, y_pred))"
   ]
  },
  {
   "cell_type": "code",
   "execution_count": 25,
   "metadata": {
    "execution": {
     "iopub.execute_input": "2020-06-01T14:34:05.070330Z",
     "iopub.status.busy": "2020-06-01T14:34:05.066329Z",
     "iopub.status.idle": "2020-06-01T14:34:05.194291Z",
     "shell.execute_reply": "2020-06-01T14:34:05.193292Z",
     "shell.execute_reply.started": "2020-06-01T14:34:05.070330Z"
    }
   },
   "outputs": [
    {
     "data": {
      "text/html": [
       "<div>\n",
       "<style scoped>\n",
       "    .dataframe tbody tr th:only-of-type {\n",
       "        vertical-align: middle;\n",
       "    }\n",
       "\n",
       "    .dataframe tbody tr th {\n",
       "        vertical-align: top;\n",
       "    }\n",
       "\n",
       "    .dataframe thead th {\n",
       "        text-align: right;\n",
       "    }\n",
       "</style>\n",
       "<table border=\"1\" class=\"dataframe\">\n",
       "  <thead>\n",
       "    <tr style=\"text-align: right;\">\n",
       "      <th>Predicted</th>\n",
       "      <th>0</th>\n",
       "      <th>1</th>\n",
       "      <th>2</th>\n",
       "      <th>All</th>\n",
       "    </tr>\n",
       "    <tr>\n",
       "      <th>True</th>\n",
       "      <th></th>\n",
       "      <th></th>\n",
       "      <th></th>\n",
       "      <th></th>\n",
       "    </tr>\n",
       "  </thead>\n",
       "  <tbody>\n",
       "    <tr>\n",
       "      <th>0</th>\n",
       "      <td>37</td>\n",
       "      <td>19</td>\n",
       "      <td>3</td>\n",
       "      <td>59</td>\n",
       "    </tr>\n",
       "    <tr>\n",
       "      <th>1</th>\n",
       "      <td>13</td>\n",
       "      <td>34</td>\n",
       "      <td>5</td>\n",
       "      <td>52</td>\n",
       "    </tr>\n",
       "    <tr>\n",
       "      <th>2</th>\n",
       "      <td>1</td>\n",
       "      <td>8</td>\n",
       "      <td>45</td>\n",
       "      <td>54</td>\n",
       "    </tr>\n",
       "    <tr>\n",
       "      <th>All</th>\n",
       "      <td>51</td>\n",
       "      <td>61</td>\n",
       "      <td>53</td>\n",
       "      <td>165</td>\n",
       "    </tr>\n",
       "  </tbody>\n",
       "</table>\n",
       "</div>"
      ],
      "text/plain": [
       "Predicted   0   1   2  All\n",
       "True                      \n",
       "0          37  19   3   59\n",
       "1          13  34   5   52\n",
       "2           1   8  45   54\n",
       "All        51  61  53  165"
      ]
     },
     "execution_count": 25,
     "metadata": {},
     "output_type": "execute_result"
    }
   ],
   "source": [
    "pd.crosstab(y_teste, y_pred, rownames = [\"True\"], colnames = [\"Predicted\"], margins = True)"
   ]
  },
  {
   "cell_type": "code",
   "execution_count": 26,
   "metadata": {
    "execution": {
     "iopub.execute_input": "2020-06-01T14:34:05.200291Z",
     "iopub.status.busy": "2020-06-01T14:34:05.198292Z",
     "iopub.status.idle": "2020-06-01T14:34:05.225283Z",
     "shell.execute_reply": "2020-06-01T14:34:05.224283Z",
     "shell.execute_reply.started": "2020-06-01T14:34:05.200291Z"
    }
   },
   "outputs": [
    {
     "name": "stdout",
     "output_type": "stream",
     "text": [
      "              precision    recall  f1-score   support\n",
      "\n",
      "           0       0.73      0.63      0.67        59\n",
      "           1       0.56      0.65      0.60        52\n",
      "           2       0.85      0.83      0.84        54\n",
      "\n",
      "    accuracy                           0.70       165\n",
      "   macro avg       0.71      0.70      0.71       165\n",
      "weighted avg       0.71      0.70      0.71       165\n",
      "\n"
     ]
    }
   ],
   "source": [
    "from sklearn.metrics import classification_report\n",
    "\n",
    "print(classification_report(y_teste, y_pred))"
   ]
  },
  {
   "cell_type": "code",
   "execution_count": 27,
   "metadata": {
    "execution": {
     "iopub.execute_input": "2020-06-01T14:34:05.232280Z",
     "iopub.status.busy": "2020-06-01T14:34:05.231279Z",
     "iopub.status.idle": "2020-06-01T14:34:05.387235Z",
     "shell.execute_reply": "2020-06-01T14:34:05.385236Z",
     "shell.execute_reply.started": "2020-06-01T14:34:05.232280Z"
    }
   },
   "outputs": [
    {
     "data": {
      "text/html": [
       "<div>\n",
       "<style scoped>\n",
       "    .dataframe tbody tr th:only-of-type {\n",
       "        vertical-align: middle;\n",
       "    }\n",
       "\n",
       "    .dataframe tbody tr th {\n",
       "        vertical-align: top;\n",
       "    }\n",
       "\n",
       "    .dataframe thead th {\n",
       "        text-align: right;\n",
       "    }\n",
       "</style>\n",
       "<table border=\"1\" class=\"dataframe\">\n",
       "  <thead>\n",
       "    <tr style=\"text-align: right;\">\n",
       "      <th></th>\n",
       "      <th>Variável</th>\n",
       "      <th>Valor</th>\n",
       "    </tr>\n",
       "  </thead>\n",
       "  <tbody>\n",
       "    <tr>\n",
       "      <th>1</th>\n",
       "      <td>prof_local(m)</td>\n",
       "      <td>0.13517</td>\n",
       "    </tr>\n",
       "    <tr>\n",
       "      <th>7</th>\n",
       "      <td>STS</td>\n",
       "      <td>0.10000</td>\n",
       "    </tr>\n",
       "    <tr>\n",
       "      <th>5</th>\n",
       "      <td>Secchi</td>\n",
       "      <td>0.09917</td>\n",
       "    </tr>\n",
       "    <tr>\n",
       "      <th>3</th>\n",
       "      <td>TotalP</td>\n",
       "      <td>0.07758</td>\n",
       "    </tr>\n",
       "    <tr>\n",
       "      <th>6</th>\n",
       "      <td>Turbidity</td>\n",
       "      <td>0.07573</td>\n",
       "    </tr>\n",
       "    <tr>\n",
       "      <th>4</th>\n",
       "      <td>Chl</td>\n",
       "      <td>0.07320</td>\n",
       "    </tr>\n",
       "    <tr>\n",
       "      <th>2</th>\n",
       "      <td>Temp</td>\n",
       "      <td>0.06621</td>\n",
       "    </tr>\n",
       "    <tr>\n",
       "      <th>9</th>\n",
       "      <td>OrthoP (mg/L)</td>\n",
       "      <td>0.06103</td>\n",
       "    </tr>\n",
       "    <tr>\n",
       "      <th>8</th>\n",
       "      <td>DO</td>\n",
       "      <td>0.05770</td>\n",
       "    </tr>\n",
       "    <tr>\n",
       "      <th>0</th>\n",
       "      <td>cota</td>\n",
       "      <td>0.05713</td>\n",
       "    </tr>\n",
       "    <tr>\n",
       "      <th>10</th>\n",
       "      <td>Ammonium</td>\n",
       "      <td>0.04937</td>\n",
       "    </tr>\n",
       "    <tr>\n",
       "      <th>19</th>\n",
       "      <td>Mes_9</td>\n",
       "      <td>0.01492</td>\n",
       "    </tr>\n",
       "    <tr>\n",
       "      <th>20</th>\n",
       "      <td>Mes_10</td>\n",
       "      <td>0.01264</td>\n",
       "    </tr>\n",
       "    <tr>\n",
       "      <th>14</th>\n",
       "      <td>Mes_4</td>\n",
       "      <td>0.01209</td>\n",
       "    </tr>\n",
       "    <tr>\n",
       "      <th>16</th>\n",
       "      <td>Mes_6</td>\n",
       "      <td>0.00979</td>\n",
       "    </tr>\n",
       "    <tr>\n",
       "      <th>12</th>\n",
       "      <td>Mes_2</td>\n",
       "      <td>0.00857</td>\n",
       "    </tr>\n",
       "    <tr>\n",
       "      <th>26</th>\n",
       "      <td>Year_2009</td>\n",
       "      <td>0.00696</td>\n",
       "    </tr>\n",
       "    <tr>\n",
       "      <th>17</th>\n",
       "      <td>Mes_7</td>\n",
       "      <td>0.00695</td>\n",
       "    </tr>\n",
       "    <tr>\n",
       "      <th>22</th>\n",
       "      <td>Mes_12</td>\n",
       "      <td>0.00636</td>\n",
       "    </tr>\n",
       "    <tr>\n",
       "      <th>11</th>\n",
       "      <td>Mes_1</td>\n",
       "      <td>0.00634</td>\n",
       "    </tr>\n",
       "    <tr>\n",
       "      <th>13</th>\n",
       "      <td>Mes_3</td>\n",
       "      <td>0.00556</td>\n",
       "    </tr>\n",
       "    <tr>\n",
       "      <th>24</th>\n",
       "      <td>Year_2007</td>\n",
       "      <td>0.00547</td>\n",
       "    </tr>\n",
       "    <tr>\n",
       "      <th>29</th>\n",
       "      <td>Year_2012</td>\n",
       "      <td>0.00531</td>\n",
       "    </tr>\n",
       "    <tr>\n",
       "      <th>27</th>\n",
       "      <td>Year_2010</td>\n",
       "      <td>0.00529</td>\n",
       "    </tr>\n",
       "    <tr>\n",
       "      <th>28</th>\n",
       "      <td>Year_2011</td>\n",
       "      <td>0.00520</td>\n",
       "    </tr>\n",
       "    <tr>\n",
       "      <th>30</th>\n",
       "      <td>Year_2013</td>\n",
       "      <td>0.00468</td>\n",
       "    </tr>\n",
       "    <tr>\n",
       "      <th>33</th>\n",
       "      <td>Year_2016</td>\n",
       "      <td>0.00453</td>\n",
       "    </tr>\n",
       "    <tr>\n",
       "      <th>25</th>\n",
       "      <td>Year_2008</td>\n",
       "      <td>0.00448</td>\n",
       "    </tr>\n",
       "    <tr>\n",
       "      <th>23</th>\n",
       "      <td>Year_2006</td>\n",
       "      <td>0.00435</td>\n",
       "    </tr>\n",
       "    <tr>\n",
       "      <th>31</th>\n",
       "      <td>Year_2014</td>\n",
       "      <td>0.00435</td>\n",
       "    </tr>\n",
       "    <tr>\n",
       "      <th>21</th>\n",
       "      <td>Mes_11</td>\n",
       "      <td>0.00434</td>\n",
       "    </tr>\n",
       "    <tr>\n",
       "      <th>32</th>\n",
       "      <td>Year_2015</td>\n",
       "      <td>0.00351</td>\n",
       "    </tr>\n",
       "    <tr>\n",
       "      <th>15</th>\n",
       "      <td>Mes_5</td>\n",
       "      <td>0.00351</td>\n",
       "    </tr>\n",
       "    <tr>\n",
       "      <th>18</th>\n",
       "      <td>Mes_8</td>\n",
       "      <td>0.00249</td>\n",
       "    </tr>\n",
       "  </tbody>\n",
       "</table>\n",
       "</div>"
      ],
      "text/plain": [
       "         Variável    Valor\n",
       "1   prof_local(m)  0.13517\n",
       "7             STS  0.10000\n",
       "5         Secchi   0.09917\n",
       "3          TotalP  0.07758\n",
       "6       Turbidity  0.07573\n",
       "4             Chl  0.07320\n",
       "2            Temp  0.06621\n",
       "9   OrthoP (mg/L)  0.06103\n",
       "8              DO  0.05770\n",
       "0            cota  0.05713\n",
       "10       Ammonium  0.04937\n",
       "19          Mes_9  0.01492\n",
       "20         Mes_10  0.01264\n",
       "14          Mes_4  0.01209\n",
       "16          Mes_6  0.00979\n",
       "12          Mes_2  0.00857\n",
       "26      Year_2009  0.00696\n",
       "17          Mes_7  0.00695\n",
       "22         Mes_12  0.00636\n",
       "11          Mes_1  0.00634\n",
       "13          Mes_3  0.00556\n",
       "24      Year_2007  0.00547\n",
       "29      Year_2012  0.00531\n",
       "27      Year_2010  0.00529\n",
       "28      Year_2011  0.00520\n",
       "30      Year_2013  0.00468\n",
       "33      Year_2016  0.00453\n",
       "25      Year_2008  0.00448\n",
       "23      Year_2006  0.00435\n",
       "31      Year_2014  0.00435\n",
       "21         Mes_11  0.00434\n",
       "32      Year_2015  0.00351\n",
       "15          Mes_5  0.00351\n",
       "18          Mes_8  0.00249"
      ]
     },
     "execution_count": 27,
     "metadata": {},
     "output_type": "execute_result"
    }
   ],
   "source": [
    "pd.DataFrame(rfc.feature_importances_, x_teste.columns).reset_index().rename(columns = {0: \"Valor\", \"index\": \"Variável\"}).sort_values(\"Valor\", ascending = False).round(5)"
   ]
  },
  {
   "cell_type": "code",
   "execution_count": 28,
   "metadata": {
    "execution": {
     "iopub.execute_input": "2020-06-01T14:34:05.393235Z",
     "iopub.status.busy": "2020-06-01T14:34:05.391234Z",
     "iopub.status.idle": "2020-06-01T14:34:05.409228Z",
     "shell.execute_reply": "2020-06-01T14:34:05.408228Z",
     "shell.execute_reply.started": "2020-06-01T14:34:05.393235Z"
    }
   },
   "outputs": [
    {
     "data": {
      "text/plain": [
       "Index(['cota', 'prof_local(m)', 'Temp', 'TotalP', 'Chl', 'Secchi ',\n",
       "       'Turbidity', 'STS', 'DO', 'OrthoP (mg/L)', 'Ammonium', 'Mes_1', 'Mes_2',\n",
       "       'Mes_3', 'Mes_4', 'Mes_5', 'Mes_6', 'Mes_7', 'Mes_8', 'Mes_9', 'Mes_10',\n",
       "       'Mes_11', 'Mes_12', 'Year_2006', 'Year_2007', 'Year_2008', 'Year_2009',\n",
       "       'Year_2010', 'Year_2011', 'Year_2012', 'Year_2013', 'Year_2014',\n",
       "       'Year_2015', 'Year_2016'],\n",
       "      dtype='object')"
      ]
     },
     "execution_count": 28,
     "metadata": {},
     "output_type": "execute_result"
    }
   ],
   "source": [
    " x_teste.columns"
   ]
  },
  {
   "cell_type": "code",
   "execution_count": null,
   "metadata": {},
   "outputs": [],
   "source": []
  }
 ],
 "metadata": {
  "kernelspec": {
   "display_name": "Python 3",
   "language": "python",
   "name": "python3"
  },
  "language_info": {
   "codemirror_mode": {
    "name": "ipython",
    "version": 3
   },
   "file_extension": ".py",
   "mimetype": "text/x-python",
   "name": "python",
   "nbconvert_exporter": "python",
   "pygments_lexer": "ipython3",
   "version": "3.7.6"
  }
 },
 "nbformat": 4,
 "nbformat_minor": 4
}
