{
 "cells": [
  {
   "cell_type": "code",
   "execution_count": 1,
   "metadata": {},
   "outputs": [],
   "source": [
    "def gerar_primos():\n",
    "\n",
    "  num_final = int(input('Digite um valor para que a lista entenda que ele é o máximo: '))\n",
    "\n",
    "  lista_primos = [2, 3, 5, 7]\n",
    "\n",
    "  for numero in range(2, num_final + 1):\n",
    "\n",
    "    if (numero % 2 != 0) and (numero % 3 != 0) and (numero % 5 != 0) and (numero % 7 != 0) and (numero != 1):\n",
    "\n",
    "      lista_primos.append(numero)\n",
    "    \n",
    "  print(lista_primos)"
   ]
  }
 ],
 "metadata": {
  "kernelspec": {
   "display_name": "Python 3",
   "language": "python",
   "name": "python3"
  },
  "language_info": {
   "codemirror_mode": {
    "name": "ipython",
    "version": 3
   },
   "file_extension": ".py",
   "mimetype": "text/x-python",
   "name": "python",
   "nbconvert_exporter": "python",
   "pygments_lexer": "ipython3",
   "version": "3.8.2"
  }
 },
 "nbformat": 4,
 "nbformat_minor": 4
}
