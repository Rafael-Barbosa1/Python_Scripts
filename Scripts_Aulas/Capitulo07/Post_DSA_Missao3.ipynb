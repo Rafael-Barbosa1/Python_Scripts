{
 "cells": [
  {
   "cell_type": "markdown",
   "metadata": {},
   "source": [
    "## Missão 3\n",
    "\n",
    "---\n",
    "\n",
    "Devemos implementar um algoritmo, ou função para mover um robô do canto superior esquerdo para o canto inferior direito de uma grade. \n",
    "\n",
    "Como fazemos isso ? Não sei.\n",
    "\n",
    "Como ele tem que mover do canto inferior para um superior ele precisa se mover no eixo y, de baixo para cima, e como também precisa mudar o lado, esquerda para a direita, então precisa se mover no eixo x. \n",
    "\n",
    "Logo, precisaremos de dois loops `for`, uma para variar no eixo x e outro para o eixo y. Iremos considerar que o plano cartesiano vai de -5 a 5 em ambos os eixos.\n",
    "\n",
    "---"
   ]
  },
  {
   "cell_type": "code",
   "execution_count": 4,
   "metadata": {},
   "outputs": [
    {
     "name": "stdout",
     "output_type": "stream",
     "text": [
      "[-5, -5]\n",
      "[-5, -4]\n",
      "[-5, -3]\n",
      "[-5, -2]\n",
      "[-5, -1]\n",
      "[-5, 0]\n",
      "[-5, 1]\n",
      "[-5, 2]\n",
      "[-5, 3]\n",
      "[-5, 4]\n",
      "[-4, -5]\n",
      "[-4, -4]\n",
      "[-4, -3]\n",
      "[-4, -2]\n",
      "[-4, -1]\n",
      "[-4, 0]\n",
      "[-4, 1]\n",
      "[-4, 2]\n",
      "[-4, 3]\n",
      "[-4, 4]\n",
      "[-3, -5]\n",
      "[-3, -4]\n",
      "[-3, -3]\n",
      "[-3, -2]\n",
      "[-3, -1]\n",
      "[-3, 0]\n",
      "[-3, 1]\n",
      "[-3, 2]\n",
      "[-3, 3]\n",
      "[-3, 4]\n",
      "[-2, -5]\n",
      "[-2, -4]\n",
      "[-2, -3]\n",
      "[-2, -2]\n",
      "[-2, -1]\n",
      "[-2, 0]\n",
      "[-2, 1]\n",
      "[-2, 2]\n",
      "[-2, 3]\n",
      "[-2, 4]\n",
      "[-1, -5]\n",
      "[-1, -4]\n",
      "[-1, -3]\n",
      "[-1, -2]\n",
      "[-1, -1]\n",
      "[-1, 0]\n",
      "[-1, 1]\n",
      "[-1, 2]\n",
      "[-1, 3]\n",
      "[-1, 4]\n",
      "[0, -5]\n",
      "[0, -4]\n",
      "[0, -3]\n",
      "[0, -2]\n",
      "[0, -1]\n",
      "[0, 0]\n",
      "[0, 1]\n",
      "[0, 2]\n",
      "[0, 3]\n",
      "[0, 4]\n",
      "[1, -5]\n",
      "[1, -4]\n",
      "[1, -3]\n",
      "[1, -2]\n",
      "[1, -1]\n",
      "[1, 0]\n",
      "[1, 1]\n",
      "[1, 2]\n",
      "[1, 3]\n",
      "[1, 4]\n",
      "[2, -5]\n",
      "[2, -4]\n",
      "[2, -3]\n",
      "[2, -2]\n",
      "[2, -1]\n",
      "[2, 0]\n",
      "[2, 1]\n",
      "[2, 2]\n",
      "[2, 3]\n",
      "[2, 4]\n",
      "[3, -5]\n",
      "[3, -4]\n",
      "[3, -3]\n",
      "[3, -2]\n",
      "[3, -1]\n",
      "[3, 0]\n",
      "[3, 1]\n",
      "[3, 2]\n",
      "[3, 3]\n",
      "[3, 4]\n",
      "[4, -5]\n",
      "[4, -4]\n",
      "[4, -3]\n",
      "[4, -2]\n",
      "[4, -1]\n",
      "[4, 0]\n",
      "[4, 1]\n",
      "[4, 2]\n",
      "[4, 3]\n",
      "[4, 4]\n"
     ]
    }
   ],
   "source": [
    "for i in range(-5, 5):\n",
    "    \n",
    "    for j in range(-5, 5):\n",
    "        \n",
    "        print([i, j])"
   ]
  },
  {
   "cell_type": "markdown",
   "metadata": {},
   "source": [
    "---\n",
    "\n",
    "Podemos perceber que ele fez um par de coordenadas (x, y) para cada um dos valores. Entretanto, devemos pegar somente os pares x e y para ele entrar deste jeito abaixo:\n",
    "\n",
    "---"
   ]
  },
  {
   "cell_type": "markdown",
   "metadata": {},
   "source": [
    "![]()\n",
    "<img src=\"1200px-Coordinate_with_Origin.svg.png\"  width=\"600\" height=\"600\">"
   ]
  },
  {
   "cell_type": "code",
   "execution_count": 2,
   "metadata": {},
   "outputs": [
    {
     "name": "stdout",
     "output_type": "stream",
     "text": [
      "[-5, -5]\n",
      "[-4, -4]\n",
      "[-3, -3]\n",
      "[-2, -2]\n",
      "[-1, -1]\n",
      "[0, 0]\n",
      "[1, 1]\n",
      "[2, 2]\n",
      "[3, 3]\n",
      "[4, 4]\n"
     ]
    }
   ],
   "source": [
    "for i in range(-5, 5):\n",
    "    \n",
    "    for j in range(-5, 5):\n",
    "        \n",
    "        if i == j:\n",
    "        \n",
    "            print([i, j])"
   ]
  },
  {
   "cell_type": "code",
   "execution_count": null,
   "metadata": {},
   "outputs": [],
   "source": []
  }
 ],
 "metadata": {
  "kernelspec": {
   "display_name": "Python 3",
   "language": "python",
   "name": "python3"
  },
  "language_info": {
   "codemirror_mode": {
    "name": "ipython",
    "version": 3
   },
   "file_extension": ".py",
   "mimetype": "text/x-python",
   "name": "python",
   "nbconvert_exporter": "python",
   "pygments_lexer": "ipython3",
   "version": "3.8.2"
  }
 },
 "nbformat": 4,
 "nbformat_minor": 4
}
