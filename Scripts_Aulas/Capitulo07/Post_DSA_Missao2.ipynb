{
 "cells": [
  {
   "cell_type": "markdown",
   "metadata": {
    "colab_type": "text",
    "id": "lHRJVqgrb66G"
   },
   "source": [
    "## Missão 2\n",
    "\n",
    "---\n",
    "\n",
    "Devemos gerar uma lista de números primos. Provavelmente devem ter `n` formas para se fazer isto, mas, vamos deste jeito (um pouco gambiarra). \n",
    "\n",
    "\n",
    "Primeiro, para não ficar fazendo uma lista infinita para que nossos computadores não buguem, podemos pedir na função um número para o usuário digitar um número final. Faremos um teste.\n",
    "\n",
    "\n",
    "| ![space-1.jpg](https://2.bp.blogspot.com/--z9XKR-71kg/UW2lK0lbtGI/AAAAAAAABds/qwjkVB6_9Dk/s1600/PRIMOS.jpg) | \n",
    "|:--:| \n",
    "| *Números primos entre 1 e 100* |\n",
    "\n",
    "---"
   ]
  },
  {
   "cell_type": "code",
   "execution_count": 0,
   "metadata": {
    "colab": {},
    "colab_type": "code",
    "id": "iZ7Z-kzBcRTR"
   },
   "outputs": [],
   "source": [
    "numero = 45"
   ]
  },
  {
   "cell_type": "markdown",
   "metadata": {
    "colab_type": "text",
    "id": "tvaKC0pxc_e3"
   },
   "source": [
    "---\n",
    "\n",
    "Já com o número \"digitado\" pelo usuário, temos que entender como descobrimos se é um número primo ou não. Neste [link](https://brasilescola.uol.com.br/matematica/numeros-primos.htm) podemos verificar o método do __Crivo de Eratóstenes__. Onde temos 4 passos para esta verificação por número:\n",
    "\n",
    "1. Não deve ser divisível por 2\n",
    "2. Não deve ser divisível por 3\n",
    "3. Não deve ser divisível por 5\n",
    "4. Não deve ser divisível por 7\n",
    "\n",
    "Podemos fazer um `ifelse` dentro de um loop `for` para verificar se cada um dos elementos da lista satisfaz essas condições. \n",
    "\n",
    "---"
   ]
  },
  {
   "cell_type": "code",
   "execution_count": 2,
   "metadata": {
    "colab": {
     "base_uri": "https://localhost:8080/",
     "height": 34
    },
    "colab_type": "code",
    "id": "zmrWGa7Gc1XM",
    "outputId": "a4175b70-9b7c-41a7-a8b1-d788dd480f34"
   },
   "outputs": [
    {
     "name": "stdout",
     "output_type": "stream",
     "text": [
      "[1, 11, 13, 17, 19, 23, 29, 31, 37, 41, 43]\n"
     ]
    }
   ],
   "source": [
    "lista_vazia = []\n",
    "\n",
    "for i in range(1, numero):\n",
    "\n",
    "  if (i % 2 != 0) and (i % 3 != 0) and (i % 5 != 0) and (i % 7 != 0):\n",
    "\n",
    "    lista_vazia.append(i)\n",
    "\n",
    "\n",
    "print(lista_vazia)"
   ]
  },
  {
   "cell_type": "markdown",
   "metadata": {
    "colab_type": "text",
    "id": "VOjkGR02f36O"
   },
   "source": [
    "---\n",
    "\n",
    "Comparando com a imagem do início, podemos verificar que ele incluiu o 1 e retirou o 2, 3, 5, e 7. Justamente os 4 primeiros números da lista, logo, aqui entra a \"gambiarra\". \n",
    "\n",
    "Em vez de criarmos uma lista vazia, podemos criar uma lista que já possua estes números `[2, 3, 5, 7]` e, a partir disto, usar o método `.append` para concatenar os outros números. E, também, começar a verificar toda a lista a partir do número 2.\n",
    "\n",
    "---"
   ]
  },
  {
   "cell_type": "code",
   "execution_count": 3,
   "metadata": {
    "colab": {
     "base_uri": "https://localhost:8080/",
     "height": 34
    },
    "colab_type": "code",
    "id": "gGoJTCf_fhHU",
    "outputId": "0576f899-10c9-430d-9358-82986faac1d3"
   },
   "outputs": [
    {
     "name": "stdout",
     "output_type": "stream",
     "text": [
      "[2, 3, 5, 7, 11, 13, 17, 19, 23, 29, 31, 37, 41, 43]\n"
     ]
    }
   ],
   "source": [
    "lista_vazia = [2, 3, 5, 7]\n",
    "\n",
    "for i in range(2, numero):\n",
    "\n",
    "  if (i % 2 != 0) and (i % 3 != 0) and (i % 5 != 0) and (i % 7 != 0):\n",
    "\n",
    "    lista_vazia.append(i)\n",
    "\n",
    "\n",
    "print(lista_vazia)"
   ]
  },
  {
   "cell_type": "markdown",
   "metadata": {
    "colab_type": "text",
    "id": "XZ9nMabEgP_q"
   },
   "source": [
    "---\n",
    "\n",
    "Com o resultado acima, podemos verificar que criamos todo o corpo da função corretamente. Com gambiarras ? Sim, mas encontramos a solução.\n",
    "\n",
    "Agora podemos criar a função `gerar_primos`.\n",
    "\n",
    "---"
   ]
  },
  {
   "cell_type": "code",
   "execution_count": 0,
   "metadata": {
    "colab": {},
    "colab_type": "code",
    "id": "2Lf5A-nwgRxZ"
   },
   "outputs": [],
   "source": [
    "def gerar_primos():\n",
    "\n",
    "  num_final = int(input('Digite um valor para que a lista entenda que ele é o máximo: '))\n",
    "\n",
    "  lista_primos = [2, 3, 5, 7]\n",
    "\n",
    "  for numero in range(2, num_final + 1):\n",
    "\n",
    "    if (numero % 2 != 0) and (numero % 3 != 0) and (numero % 5 != 0) and (numero % 7 != 0) and (numero != 1):\n",
    "\n",
    "      lista_primos.append(numero)\n",
    "    \n",
    "  print(lista_primos)"
   ]
  },
  {
   "cell_type": "markdown",
   "metadata": {
    "colab_type": "text",
    "id": "EUJ4P5UPid5t"
   },
   "source": [
    "---\n",
    "\n",
    "Com a função criada, podemos pedir para ele verificar quais os números que são primos de 1 até o número digitado pelo usuário.\n",
    "\n",
    "---"
   ]
  },
  {
   "cell_type": "code",
   "execution_count": 5,
   "metadata": {
    "colab": {
     "base_uri": "https://localhost:8080/",
     "height": 51
    },
    "colab_type": "code",
    "id": "zXTqL1nhiu_A",
    "outputId": "c366ef40-5f6d-4451-8e78-ecb3383e355d"
   },
   "outputs": [
    {
     "name": "stdout",
     "output_type": "stream",
     "text": [
      "Digite um valor para que a lista entenda que ele é o máximo: 7\n",
      "[2, 3, 5, 7]\n"
     ]
    }
   ],
   "source": [
    "gerar_primos()"
   ]
  },
  {
   "cell_type": "code",
   "execution_count": 6,
   "metadata": {
    "colab": {
     "base_uri": "https://localhost:8080/",
     "height": 51
    },
    "colab_type": "code",
    "id": "iWqTA_V7ixG4",
    "outputId": "f1a06bf8-8ec7-4e15-9460-a7d837005dab"
   },
   "outputs": [
    {
     "name": "stdout",
     "output_type": "stream",
     "text": [
      "Digite um valor para que a lista entenda que ele é o máximo: 89\n",
      "[2, 3, 5, 7, 11, 13, 17, 19, 23, 29, 31, 37, 41, 43, 47, 53, 59, 61, 67, 71, 73, 79, 83, 89]\n"
     ]
    }
   ],
   "source": [
    "gerar_primos()"
   ]
  },
  {
   "cell_type": "markdown",
   "metadata": {
    "colab_type": "text",
    "id": "-SA-vk0yi4X-"
   },
   "source": [
    "--- \n",
    "\n",
    "E como resultado final, temos uma lista com todos os números primos corretamente (quando comparado com a imagem lá do início).\n",
    "\n",
    "---"
   ]
  }
 ],
 "metadata": {
  "colab": {
   "collapsed_sections": [],
   "name": "Post_DSA_Missao2",
   "provenance": []
  },
  "kernelspec": {
   "display_name": "Python 3",
   "language": "python",
   "name": "python3"
  },
  "language_info": {
   "codemirror_mode": {
    "name": "ipython",
    "version": 3
   },
   "file_extension": ".py",
   "mimetype": "text/x-python",
   "name": "python",
   "nbconvert_exporter": "python",
   "pygments_lexer": "ipython3",
   "version": "3.8.2"
  }
 },
 "nbformat": 4,
 "nbformat_minor": 1
}
