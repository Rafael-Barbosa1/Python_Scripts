{
 "cells": [
  {
   "cell_type": "markdown",
   "metadata": {},
   "source": [
    "## Desafio - Data Science Academy\n",
    "\n",
    "---\n",
    "\n",
    "O desafio Data Science Academy tem por objetivo ajudar no desenvolvimento das habilidades analíticas e de programação. É dado um conjunto de 5 missões com níveis introdutórios ao avançado. \n",
    "\n",
    "1.  Implementar um algoritmo para determinar se uma string possui todos os caracteres exclusivos.\n",
    "\n",
    "2. Gerar uma lista de números primos\n",
    "\n",
    "3. Implementar um algoritmo para mover um robô do canto superior esquerdo para o canto inferior direito de uma grade.\n",
    "\n",
    "4. Implementar o Algoritmo de Ordenação \"Selection sort\".\n",
    "\n",
    "5. Analisar o Comportamento de Compra de Consumidores."
   ]
  },
  {
   "cell_type": "markdown",
   "metadata": {},
   "source": [
    "### Missão 1\n",
    "\n",
    "---\n",
    "\n",
    "Resumindo, devemos criar uma função, ou algoritmo, que verifique se alguma letra, ou caractere, se repete. Vamos tentar investigar algumas coisas, primeiro definindo uma palavra qualquer, no caso, meu nome. \n",
    "\n",
    "---"
   ]
  },
  {
   "cell_type": "code",
   "execution_count": 1,
   "metadata": {},
   "outputs": [
    {
     "data": {
      "text/plain": [
       "'Rafael'"
      ]
     },
     "execution_count": 1,
     "metadata": {},
     "output_type": "execute_result"
    }
   ],
   "source": [
    "texto = 'Rafael'\n",
    "\n",
    "texto"
   ]
  },
  {
   "cell_type": "markdown",
   "metadata": {},
   "source": [
    "---\n",
    "\n",
    "Agora podemos separar cada letra em uma string e colocá-la dentro de uma lista. Podemos fazer de vários jeitos, com um for ou outros jeitos vetorizados. Vamos ver de ambos os jeitos.\n",
    "\n",
    "---"
   ]
  },
  {
   "cell_type": "code",
   "execution_count": 2,
   "metadata": {},
   "outputs": [
    {
     "name": "stdout",
     "output_type": "stream",
     "text": [
      "['R', 'a', 'f', 'a', 'e', 'l']\n"
     ]
    }
   ],
   "source": [
    "#--- Via loop\n",
    "\n",
    "lista_vazia = []\n",
    "\n",
    "for i in texto:\n",
    "    \n",
    "    lista_vazia.append(i)\n",
    "    \n",
    "print(lista_vazia)"
   ]
  },
  {
   "cell_type": "code",
   "execution_count": 3,
   "metadata": {},
   "outputs": [
    {
     "data": {
      "text/plain": [
       "['R', 'a', 'f', 'a', 'e', 'l']"
      ]
     },
     "execution_count": 3,
     "metadata": {},
     "output_type": "execute_result"
    }
   ],
   "source": [
    "#--- Via lista\n",
    "\n",
    "list(texto)"
   ]
  },
  {
   "cell_type": "markdown",
   "metadata": {},
   "source": [
    "---\n",
    "\n",
    "Podemos verificar que ele faz corretamento o split. Mas e em casos de uma frase, como será o output ?\n",
    "\n",
    "---"
   ]
  },
  {
   "cell_type": "code",
   "execution_count": 4,
   "metadata": {},
   "outputs": [
    {
     "data": {
      "text/plain": [
       "['A', 'l', 'h', 'o']"
      ]
     },
     "execution_count": 4,
     "metadata": {},
     "output_type": "execute_result"
    }
   ],
   "source": [
    "frase = 'Alho'\n",
    "\n",
    "list(frase)"
   ]
  },
  {
   "cell_type": "markdown",
   "metadata": {},
   "source": [
    "---\n",
    "\n",
    "Podemos observar que temos alguns espaços como caracter, já que sabemos que um espaço preenche um caracter. Logo, teremos que tirar ele para que eles não se repitam durante toda a frase, teremos que juntar todas as letras. Podemos utilizar a função `replace` para retirar o \" \" e substituir por \" \".\n",
    "\n",
    "---"
   ]
  },
  {
   "cell_type": "code",
   "execution_count": 5,
   "metadata": {},
   "outputs": [
    {
     "data": {
      "text/plain": [
       "'Alho'"
      ]
     },
     "execution_count": 5,
     "metadata": {},
     "output_type": "execute_result"
    }
   ],
   "source": [
    "nova_frase = frase.replace(' ', '')\n",
    "\n",
    "nova_frase"
   ]
  },
  {
   "cell_type": "markdown",
   "metadata": {},
   "source": [
    "---\n",
    "\n",
    "Agora que sabemos que o espaço não vai ser um problema vamos colocar a mão na massa. Primeiro vamos colocar em formato de lista todos as letras, utilizando os métodos que vimos acima (pode ser qualquer um).\n",
    "\n",
    "---"
   ]
  },
  {
   "cell_type": "code",
   "execution_count": 6,
   "metadata": {},
   "outputs": [
    {
     "data": {
      "text/plain": [
       "['A', 'l', 'h', 'o']"
      ]
     },
     "execution_count": 6,
     "metadata": {},
     "output_type": "execute_result"
    }
   ],
   "source": [
    "lista_frase = list(nova_frase)\n",
    "\n",
    "lista_frase"
   ]
  },
  {
   "cell_type": "markdown",
   "metadata": {},
   "source": [
    "---\n",
    "\n",
    "Agora temos que construir um for para armazenar quantas vezes cada letra aparece na frase e salvar na variável `nova_lista`.\n",
    "\n",
    "---"
   ]
  },
  {
   "cell_type": "code",
   "execution_count": 7,
   "metadata": {},
   "outputs": [
    {
     "name": "stdout",
     "output_type": "stream",
     "text": [
      "[1, 1, 1, 1]\n"
     ]
    }
   ],
   "source": [
    "nova_lista = []\n",
    "\n",
    "for letra in lista_frase:\n",
    "    \n",
    "    contador = lista_frase.count(letra)\n",
    "    \n",
    "    nova_lista.append(contador)   \n",
    "    \n",
    "print(nova_lista)"
   ]
  },
  {
   "cell_type": "markdown",
   "metadata": {},
   "source": [
    "---\n",
    "\n",
    "Podemos perceber que nosso output foi uma lista com quantas vezes determinada letra aparece. Agora podemos fazer um `ifelse` dentro uma `list comprehension`. O nosso objetivo com esses comandos é verificar se qualquer número dentro da lista é maior que 1, se sim printamos que `Existe um valor repetido`, senão `Não existe valor repetido`.\n",
    "\n",
    "---"
   ]
  },
  {
   "cell_type": "code",
   "execution_count": 8,
   "metadata": {},
   "outputs": [
    {
     "name": "stdout",
     "output_type": "stream",
     "text": [
      "Não existe valor repetido\n"
     ]
    }
   ],
   "source": [
    "if [x for x in nova_lista if x > 1]:\n",
    "    \n",
    "    print('Existe um valor repetido')\n",
    "\n",
    "else: \n",
    "\n",
    "    print('Não existe valor repetido')"
   ]
  },
  {
   "cell_type": "markdown",
   "metadata": {},
   "source": [
    "---\n",
    "\n",
    "Nesse caso vemos que temos um valor repetido, que é a letra __e__. Para não ficar testando tudo manualmente, vamos criar uma função para verificar se há repetidos ou não, já que é o objetivo da primeira missão.\n",
    "\n",
    "---"
   ]
  },
  {
   "cell_type": "code",
   "execution_count": 9,
   "metadata": {},
   "outputs": [],
   "source": [
    "def funcao_verificadora_repetidos(texto):\n",
    "    \n",
    "    novo_texto = texto.replace(' ', '')\n",
    "    \n",
    "    lista_frase = list(novo_texto)\n",
    "    \n",
    "    nova_lista = []\n",
    "    \n",
    "    for letra in novo_texto:\n",
    "        \n",
    "        contador = lista_frase.count(letra)\n",
    "    \n",
    "        nova_lista.append(contador) \n",
    "        \n",
    "    if [x for x in nova_lista if x > 1]:\n",
    "    \n",
    "        print('Existe um valor repetido')\n",
    "    \n",
    "    else: \n",
    "\n",
    "        print('Não existe valor repetido')"
   ]
  },
  {
   "cell_type": "code",
   "execution_count": 10,
   "metadata": {},
   "outputs": [
    {
     "name": "stdout",
     "output_type": "stream",
     "text": [
      "Existe um valor repetido\n"
     ]
    }
   ],
   "source": [
    "funcao_verificadora_repetidos(texto = \"Banana\")"
   ]
  },
  {
   "cell_type": "code",
   "execution_count": 11,
   "metadata": {
    "scrolled": true
   },
   "outputs": [
    {
     "name": "stdout",
     "output_type": "stream",
     "text": [
      "Não existe valor repetido\n"
     ]
    }
   ],
   "source": [
    "funcao_verificadora_repetidos(texto = \"Alho\")"
   ]
  },
  {
   "cell_type": "code",
   "execution_count": 12,
   "metadata": {},
   "outputs": [
    {
     "name": "stdout",
     "output_type": "stream",
     "text": [
      "Existe um valor repetido\n"
     ]
    }
   ],
   "source": [
    "funcao_verificadora_repetidos(texto = \"Tanto faz a quantidade de números\")"
   ]
  },
  {
   "cell_type": "markdown",
   "metadata": {},
   "source": [
    "---\n",
    "\n",
    "\n",
    "### Objetivo concluído\n",
    "\n",
    "Agora podemos observar que a função se aplica a qualquer texto ou frase. Com isso, cumprimos nossa primeira missão. \n",
    "\n",
    "---"
   ]
  }
 ],
 "metadata": {
  "kernelspec": {
   "display_name": "Python 3",
   "language": "python",
   "name": "python3"
  },
  "language_info": {
   "codemirror_mode": {
    "name": "ipython",
    "version": 3
   },
   "file_extension": ".py",
   "mimetype": "text/x-python",
   "name": "python",
   "nbconvert_exporter": "python",
   "pygments_lexer": "ipython3",
   "version": "3.8.2"
  }
 },
 "nbformat": 4,
 "nbformat_minor": 4
}
