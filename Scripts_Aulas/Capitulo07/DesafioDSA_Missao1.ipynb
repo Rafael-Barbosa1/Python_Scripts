{
 "cells": [
  {
   "cell_type": "code",
   "execution_count": 5,
   "metadata": {},
   "outputs": [],
   "source": [
    "def funcao_verificadora_repetidos(texto):\n",
    "    \n",
    "    novo_texto = texto.replace(' ', '')\n",
    "    \n",
    "    lista_frase = list(novo_texto)\n",
    "    \n",
    "    nova_lista = []\n",
    "    \n",
    "    for letra in novo_texto:\n",
    "        \n",
    "        contador = lista_frase.count(letra)\n",
    "    \n",
    "        nova_lista.append(contador) \n",
    "        \n",
    "    if [x for x in nova_lista if x > 1]:\n",
    "    \n",
    "        print('Existe um valor repetido')\n",
    "    \n",
    "    else: \n",
    "\n",
    "        print('Não existe valor repetido')"
   ]
  }
 ],
 "metadata": {
  "kernelspec": {
   "display_name": "Python 3",
   "language": "python",
   "name": "python3"
  },
  "language_info": {
   "codemirror_mode": {
    "name": "ipython",
    "version": 3
   },
   "file_extension": ".py",
   "mimetype": "text/x-python",
   "name": "python",
   "nbconvert_exporter": "python",
   "pygments_lexer": "ipython3",
   "version": "3.8.2"
  }
 },
 "nbformat": 4,
 "nbformat_minor": 4
}
