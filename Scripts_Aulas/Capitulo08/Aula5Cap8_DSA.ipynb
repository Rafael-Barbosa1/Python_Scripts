{
 "cells": [
  {
   "cell_type": "markdown",
   "metadata": {},
   "source": [
    "## Dataframe e Arquivos csv"
   ]
  },
  {
   "cell_type": "code",
   "execution_count": 1,
   "metadata": {},
   "outputs": [],
   "source": [
    "import pandas as pd"
   ]
  },
  {
   "cell_type": "code",
   "execution_count": 5,
   "metadata": {},
   "outputs": [
    {
     "data": {
      "text/html": [
       "<div>\n",
       "<style scoped>\n",
       "    .dataframe tbody tr th:only-of-type {\n",
       "        vertical-align: middle;\n",
       "    }\n",
       "\n",
       "    .dataframe tbody tr th {\n",
       "        vertical-align: top;\n",
       "    }\n",
       "\n",
       "    .dataframe thead th {\n",
       "        text-align: right;\n",
       "    }\n",
       "</style>\n",
       "<table border=\"1\" class=\"dataframe\">\n",
       "  <thead>\n",
       "    <tr style=\"text-align: right;\">\n",
       "      <th></th>\n",
       "      <th>Name</th>\n",
       "      <th>Job Titles</th>\n",
       "      <th>Department</th>\n",
       "      <th>Full or Part-Time</th>\n",
       "      <th>Salary or Hourly</th>\n",
       "      <th>Typical Hours</th>\n",
       "      <th>Annual Salary</th>\n",
       "      <th>Hourly Rate</th>\n",
       "    </tr>\n",
       "  </thead>\n",
       "  <tbody>\n",
       "    <tr>\n",
       "      <th>0</th>\n",
       "      <td>ADRIANO,  RACQUEL ANNE</td>\n",
       "      <td>PARAMEDIC</td>\n",
       "      <td>FIRE</td>\n",
       "      <td>F</td>\n",
       "      <td>Salary</td>\n",
       "      <td>NaN</td>\n",
       "      <td>72510.0</td>\n",
       "      <td>NaN</td>\n",
       "    </tr>\n",
       "    <tr>\n",
       "      <th>1</th>\n",
       "      <td>AFFANEH,  MAHIR A</td>\n",
       "      <td>POLICE OFFICER</td>\n",
       "      <td>POLICE</td>\n",
       "      <td>F</td>\n",
       "      <td>Salary</td>\n",
       "      <td>NaN</td>\n",
       "      <td>93354.0</td>\n",
       "      <td>NaN</td>\n",
       "    </tr>\n",
       "    <tr>\n",
       "      <th>2</th>\n",
       "      <td>AFOENYI,  PHYLLIS</td>\n",
       "      <td>TITLE V PROGRAM TRAINEE I</td>\n",
       "      <td>FAMILY &amp; SUPPORT</td>\n",
       "      <td>P</td>\n",
       "      <td>Hourly</td>\n",
       "      <td>20.0</td>\n",
       "      <td>NaN</td>\n",
       "      <td>13.0</td>\n",
       "    </tr>\n",
       "    <tr>\n",
       "      <th>3</th>\n",
       "      <td>AGAR,  BULENT B</td>\n",
       "      <td>DEPUTY COMMISSIONER</td>\n",
       "      <td>WATER MGMNT</td>\n",
       "      <td>F</td>\n",
       "      <td>Salary</td>\n",
       "      <td>NaN</td>\n",
       "      <td>132972.0</td>\n",
       "      <td>NaN</td>\n",
       "    </tr>\n",
       "    <tr>\n",
       "      <th>4</th>\n",
       "      <td>AGEE,  LAWRENCE</td>\n",
       "      <td>POLICE OFFICER</td>\n",
       "      <td>POLICE</td>\n",
       "      <td>F</td>\n",
       "      <td>Salary</td>\n",
       "      <td>NaN</td>\n",
       "      <td>90024.0</td>\n",
       "      <td>NaN</td>\n",
       "    </tr>\n",
       "  </tbody>\n",
       "</table>\n",
       "</div>"
      ],
      "text/plain": [
       "                     Name                 Job Titles        Department  \\\n",
       "0  ADRIANO,  RACQUEL ANNE                  PARAMEDIC              FIRE   \n",
       "1       AFFANEH,  MAHIR A             POLICE OFFICER            POLICE   \n",
       "2       AFOENYI,  PHYLLIS  TITLE V PROGRAM TRAINEE I  FAMILY & SUPPORT   \n",
       "3         AGAR,  BULENT B        DEPUTY COMMISSIONER       WATER MGMNT   \n",
       "4         AGEE,  LAWRENCE             POLICE OFFICER            POLICE   \n",
       "\n",
       "  Full or Part-Time Salary or Hourly  Typical Hours  Annual Salary  \\\n",
       "0                 F           Salary            NaN        72510.0   \n",
       "1                 F           Salary            NaN        93354.0   \n",
       "2                 P           Hourly           20.0            NaN   \n",
       "3                 F           Salary            NaN       132972.0   \n",
       "4                 F           Salary            NaN        90024.0   \n",
       "\n",
       "   Hourly Rate  \n",
       "0          NaN  \n",
       "1          NaN  \n",
       "2         13.0  \n",
       "3          NaN  \n",
       "4          NaN  "
      ]
     },
     "execution_count": 5,
     "metadata": {},
     "output_type": "execute_result"
    }
   ],
   "source": [
    "df = pd.read_csv(filepath_or_buffer = \"salarios.csv\")\n",
    "\n",
    "df.head()"
   ]
  },
  {
   "cell_type": "code",
   "execution_count": 6,
   "metadata": {},
   "outputs": [
    {
     "data": {
      "text/html": [
       "<div>\n",
       "<style scoped>\n",
       "    .dataframe tbody tr th:only-of-type {\n",
       "        vertical-align: middle;\n",
       "    }\n",
       "\n",
       "    .dataframe tbody tr th {\n",
       "        vertical-align: top;\n",
       "    }\n",
       "\n",
       "    .dataframe thead th {\n",
       "        text-align: right;\n",
       "    }\n",
       "</style>\n",
       "<table border=\"1\" class=\"dataframe\">\n",
       "  <thead>\n",
       "    <tr style=\"text-align: right;\">\n",
       "      <th></th>\n",
       "      <th></th>\n",
       "      <th></th>\n",
       "      <th></th>\n",
       "      <th>a</th>\n",
       "      <th>b</th>\n",
       "      <th>c</th>\n",
       "      <th>d</th>\n",
       "    </tr>\n",
       "  </thead>\n",
       "  <tbody>\n",
       "    <tr>\n",
       "      <th>Name</th>\n",
       "      <th>Job Titles</th>\n",
       "      <th>Department</th>\n",
       "      <th>Full or Part-Time</th>\n",
       "      <td>Salary or Hourly</td>\n",
       "      <td>Typical Hours</td>\n",
       "      <td>Annual Salary</td>\n",
       "      <td>Hourly Rate</td>\n",
       "    </tr>\n",
       "    <tr>\n",
       "      <th>ADRIANO,  RACQUEL ANNE</th>\n",
       "      <th>PARAMEDIC</th>\n",
       "      <th>FIRE</th>\n",
       "      <th>F</th>\n",
       "      <td>Salary</td>\n",
       "      <td>NaN</td>\n",
       "      <td>72510.00</td>\n",
       "      <td>NaN</td>\n",
       "    </tr>\n",
       "    <tr>\n",
       "      <th>AFFANEH,  MAHIR A</th>\n",
       "      <th>POLICE OFFICER</th>\n",
       "      <th>POLICE</th>\n",
       "      <th>F</th>\n",
       "      <td>Salary</td>\n",
       "      <td>NaN</td>\n",
       "      <td>93354.00</td>\n",
       "      <td>NaN</td>\n",
       "    </tr>\n",
       "    <tr>\n",
       "      <th>AFOENYI,  PHYLLIS</th>\n",
       "      <th>TITLE V PROGRAM TRAINEE I</th>\n",
       "      <th>FAMILY &amp; SUPPORT</th>\n",
       "      <th>P</th>\n",
       "      <td>Hourly</td>\n",
       "      <td>20</td>\n",
       "      <td>NaN</td>\n",
       "      <td>13.00</td>\n",
       "    </tr>\n",
       "    <tr>\n",
       "      <th>AGAR,  BULENT B</th>\n",
       "      <th>DEPUTY COMMISSIONER</th>\n",
       "      <th>WATER MGMNT</th>\n",
       "      <th>F</th>\n",
       "      <td>Salary</td>\n",
       "      <td>NaN</td>\n",
       "      <td>132972.00</td>\n",
       "      <td>NaN</td>\n",
       "    </tr>\n",
       "    <tr>\n",
       "      <th>...</th>\n",
       "      <th>...</th>\n",
       "      <th>...</th>\n",
       "      <th>...</th>\n",
       "      <td>...</td>\n",
       "      <td>...</td>\n",
       "      <td>...</td>\n",
       "      <td>...</td>\n",
       "    </tr>\n",
       "    <tr>\n",
       "      <th>ZYLINSKA,  KLAUDIA</th>\n",
       "      <th>POLICE OFFICER</th>\n",
       "      <th>POLICE</th>\n",
       "      <th>F</th>\n",
       "      <td>Salary</td>\n",
       "      <td>NaN</td>\n",
       "      <td>72510.00</td>\n",
       "      <td>NaN</td>\n",
       "    </tr>\n",
       "    <tr>\n",
       "      <th>ZYMANTAS,  LAURA C</th>\n",
       "      <th>POLICE OFFICER</th>\n",
       "      <th>POLICE</th>\n",
       "      <th>F</th>\n",
       "      <td>Salary</td>\n",
       "      <td>NaN</td>\n",
       "      <td>76266.00</td>\n",
       "      <td>NaN</td>\n",
       "    </tr>\n",
       "    <tr>\n",
       "      <th>ZYMANTAS,  MARK E</th>\n",
       "      <th>POLICE OFFICER</th>\n",
       "      <th>POLICE</th>\n",
       "      <th>F</th>\n",
       "      <td>Salary</td>\n",
       "      <td>NaN</td>\n",
       "      <td>90024.00</td>\n",
       "      <td>NaN</td>\n",
       "    </tr>\n",
       "    <tr>\n",
       "      <th>ZYRKOWSKI,  CARLO E</th>\n",
       "      <th>POLICE OFFICER</th>\n",
       "      <th>POLICE</th>\n",
       "      <th>F</th>\n",
       "      <td>Salary</td>\n",
       "      <td>NaN</td>\n",
       "      <td>93354.00</td>\n",
       "      <td>NaN</td>\n",
       "    </tr>\n",
       "    <tr>\n",
       "      <th>ZYSKOWSKI,  DARIUSZ</th>\n",
       "      <th>CHIEF DATA BASE ANALYST</th>\n",
       "      <th>DAIS</th>\n",
       "      <th>F</th>\n",
       "      <td>Salary</td>\n",
       "      <td>NaN</td>\n",
       "      <td>126732.00</td>\n",
       "      <td>NaN</td>\n",
       "    </tr>\n",
       "  </tbody>\n",
       "</table>\n",
       "<p>33703 rows × 4 columns</p>\n",
       "</div>"
      ],
      "text/plain": [
       "                                                                                                    a  \\\n",
       "Name                   Job Titles                Department       Full or Part-Time  Salary or Hourly   \n",
       "ADRIANO,  RACQUEL ANNE PARAMEDIC                 FIRE             F                            Salary   \n",
       "AFFANEH,  MAHIR A      POLICE OFFICER            POLICE           F                            Salary   \n",
       "AFOENYI,  PHYLLIS      TITLE V PROGRAM TRAINEE I FAMILY & SUPPORT P                            Hourly   \n",
       "AGAR,  BULENT B        DEPUTY COMMISSIONER       WATER MGMNT      F                            Salary   \n",
       "...                                                                                               ...   \n",
       "ZYLINSKA,  KLAUDIA     POLICE OFFICER            POLICE           F                            Salary   \n",
       "ZYMANTAS,  LAURA C     POLICE OFFICER            POLICE           F                            Salary   \n",
       "ZYMANTAS,  MARK E      POLICE OFFICER            POLICE           F                            Salary   \n",
       "ZYRKOWSKI,  CARLO E    POLICE OFFICER            POLICE           F                            Salary   \n",
       "ZYSKOWSKI,  DARIUSZ    CHIEF DATA BASE ANALYST   DAIS             F                            Salary   \n",
       "\n",
       "                                                                                                 b  \\\n",
       "Name                   Job Titles                Department       Full or Part-Time  Typical Hours   \n",
       "ADRIANO,  RACQUEL ANNE PARAMEDIC                 FIRE             F                            NaN   \n",
       "AFFANEH,  MAHIR A      POLICE OFFICER            POLICE           F                            NaN   \n",
       "AFOENYI,  PHYLLIS      TITLE V PROGRAM TRAINEE I FAMILY & SUPPORT P                             20   \n",
       "AGAR,  BULENT B        DEPUTY COMMISSIONER       WATER MGMNT      F                            NaN   \n",
       "...                                                                                            ...   \n",
       "ZYLINSKA,  KLAUDIA     POLICE OFFICER            POLICE           F                            NaN   \n",
       "ZYMANTAS,  LAURA C     POLICE OFFICER            POLICE           F                            NaN   \n",
       "ZYMANTAS,  MARK E      POLICE OFFICER            POLICE           F                            NaN   \n",
       "ZYRKOWSKI,  CARLO E    POLICE OFFICER            POLICE           F                            NaN   \n",
       "ZYSKOWSKI,  DARIUSZ    CHIEF DATA BASE ANALYST   DAIS             F                            NaN   \n",
       "\n",
       "                                                                                                 c  \\\n",
       "Name                   Job Titles                Department       Full or Part-Time  Annual Salary   \n",
       "ADRIANO,  RACQUEL ANNE PARAMEDIC                 FIRE             F                       72510.00   \n",
       "AFFANEH,  MAHIR A      POLICE OFFICER            POLICE           F                       93354.00   \n",
       "AFOENYI,  PHYLLIS      TITLE V PROGRAM TRAINEE I FAMILY & SUPPORT P                            NaN   \n",
       "AGAR,  BULENT B        DEPUTY COMMISSIONER       WATER MGMNT      F                      132972.00   \n",
       "...                                                                                            ...   \n",
       "ZYLINSKA,  KLAUDIA     POLICE OFFICER            POLICE           F                       72510.00   \n",
       "ZYMANTAS,  LAURA C     POLICE OFFICER            POLICE           F                       76266.00   \n",
       "ZYMANTAS,  MARK E      POLICE OFFICER            POLICE           F                       90024.00   \n",
       "ZYRKOWSKI,  CARLO E    POLICE OFFICER            POLICE           F                       93354.00   \n",
       "ZYSKOWSKI,  DARIUSZ    CHIEF DATA BASE ANALYST   DAIS             F                      126732.00   \n",
       "\n",
       "                                                                                               d  \n",
       "Name                   Job Titles                Department       Full or Part-Time  Hourly Rate  \n",
       "ADRIANO,  RACQUEL ANNE PARAMEDIC                 FIRE             F                          NaN  \n",
       "AFFANEH,  MAHIR A      POLICE OFFICER            POLICE           F                          NaN  \n",
       "AFOENYI,  PHYLLIS      TITLE V PROGRAM TRAINEE I FAMILY & SUPPORT P                        13.00  \n",
       "AGAR,  BULENT B        DEPUTY COMMISSIONER       WATER MGMNT      F                          NaN  \n",
       "...                                                                                          ...  \n",
       "ZYLINSKA,  KLAUDIA     POLICE OFFICER            POLICE           F                          NaN  \n",
       "ZYMANTAS,  LAURA C     POLICE OFFICER            POLICE           F                          NaN  \n",
       "ZYMANTAS,  MARK E      POLICE OFFICER            POLICE           F                          NaN  \n",
       "ZYRKOWSKI,  CARLO E    POLICE OFFICER            POLICE           F                          NaN  \n",
       "ZYSKOWSKI,  DARIUSZ    CHIEF DATA BASE ANALYST   DAIS             F                          NaN  \n",
       "\n",
       "[33703 rows x 4 columns]"
      ]
     },
     "execution_count": 6,
     "metadata": {},
     "output_type": "execute_result"
    }
   ],
   "source": [
    "pd.read_csv(filepath_or_buffer = \"salarios.csv\", names = [\"a\", \"b\", \"c\", \"d\"])"
   ]
  },
  {
   "cell_type": "code",
   "execution_count": 9,
   "metadata": {},
   "outputs": [
    {
     "data": {
      "text/plain": [
       "DatetimeIndex(['2018-01-01', '2018-01-02', '2018-01-03', '2018-01-04',\n",
       "               '2018-01-05', '2018-01-06', '2018-01-07', '2018-01-08',\n",
       "               '2018-01-09', '2018-01-10'],\n",
       "              dtype='datetime64[ns]', freq='D')"
      ]
     },
     "execution_count": 9,
     "metadata": {},
     "output_type": "execute_result"
    }
   ],
   "source": [
    "datas = pd.date_range('20180101', periods = 10)\n",
    "\n",
    "datas"
   ]
  },
  {
   "cell_type": "code",
   "execution_count": 12,
   "metadata": {},
   "outputs": [
    {
     "data": {
      "text/html": [
       "<div>\n",
       "<style scoped>\n",
       "    .dataframe tbody tr th:only-of-type {\n",
       "        vertical-align: middle;\n",
       "    }\n",
       "\n",
       "    .dataframe tbody tr th {\n",
       "        vertical-align: top;\n",
       "    }\n",
       "\n",
       "    .dataframe thead th {\n",
       "        text-align: right;\n",
       "    }\n",
       "</style>\n",
       "<table border=\"1\" class=\"dataframe\">\n",
       "  <thead>\n",
       "    <tr style=\"text-align: right;\">\n",
       "      <th></th>\n",
       "      <th>A</th>\n",
       "      <th>B</th>\n",
       "      <th>C</th>\n",
       "      <th>D</th>\n",
       "    </tr>\n",
       "  </thead>\n",
       "  <tbody>\n",
       "    <tr>\n",
       "      <th>2018-01-01</th>\n",
       "      <td>-0.071223</td>\n",
       "      <td>0.064651</td>\n",
       "      <td>1.058567</td>\n",
       "      <td>2.336182</td>\n",
       "    </tr>\n",
       "    <tr>\n",
       "      <th>2018-01-02</th>\n",
       "      <td>0.557564</td>\n",
       "      <td>-0.031013</td>\n",
       "      <td>0.057158</td>\n",
       "      <td>-0.286335</td>\n",
       "    </tr>\n",
       "    <tr>\n",
       "      <th>2018-01-03</th>\n",
       "      <td>-1.795984</td>\n",
       "      <td>2.039324</td>\n",
       "      <td>0.261714</td>\n",
       "      <td>1.312748</td>\n",
       "    </tr>\n",
       "    <tr>\n",
       "      <th>2018-01-04</th>\n",
       "      <td>-1.102372</td>\n",
       "      <td>-1.340654</td>\n",
       "      <td>0.285276</td>\n",
       "      <td>0.075900</td>\n",
       "    </tr>\n",
       "    <tr>\n",
       "      <th>2018-01-05</th>\n",
       "      <td>-0.665297</td>\n",
       "      <td>-0.743077</td>\n",
       "      <td>0.818045</td>\n",
       "      <td>1.411063</td>\n",
       "    </tr>\n",
       "    <tr>\n",
       "      <th>2018-01-06</th>\n",
       "      <td>-1.414085</td>\n",
       "      <td>0.605549</td>\n",
       "      <td>0.428464</td>\n",
       "      <td>1.439649</td>\n",
       "    </tr>\n",
       "    <tr>\n",
       "      <th>2018-01-07</th>\n",
       "      <td>0.104637</td>\n",
       "      <td>1.021015</td>\n",
       "      <td>-0.225275</td>\n",
       "      <td>0.093688</td>\n",
       "    </tr>\n",
       "    <tr>\n",
       "      <th>2018-01-08</th>\n",
       "      <td>0.015869</td>\n",
       "      <td>-0.169076</td>\n",
       "      <td>1.030928</td>\n",
       "      <td>-0.116252</td>\n",
       "    </tr>\n",
       "    <tr>\n",
       "      <th>2018-01-09</th>\n",
       "      <td>0.426266</td>\n",
       "      <td>0.247751</td>\n",
       "      <td>-1.080658</td>\n",
       "      <td>-0.574085</td>\n",
       "    </tr>\n",
       "    <tr>\n",
       "      <th>2018-01-10</th>\n",
       "      <td>1.269028</td>\n",
       "      <td>-1.601412</td>\n",
       "      <td>1.304606</td>\n",
       "      <td>-0.605973</td>\n",
       "    </tr>\n",
       "  </tbody>\n",
       "</table>\n",
       "</div>"
      ],
      "text/plain": [
       "                   A         B         C         D\n",
       "2018-01-01 -0.071223  0.064651  1.058567  2.336182\n",
       "2018-01-02  0.557564 -0.031013  0.057158 -0.286335\n",
       "2018-01-03 -1.795984  2.039324  0.261714  1.312748\n",
       "2018-01-04 -1.102372 -1.340654  0.285276  0.075900\n",
       "2018-01-05 -0.665297 -0.743077  0.818045  1.411063\n",
       "2018-01-06 -1.414085  0.605549  0.428464  1.439649\n",
       "2018-01-07  0.104637  1.021015 -0.225275  0.093688\n",
       "2018-01-08  0.015869 -0.169076  1.030928 -0.116252\n",
       "2018-01-09  0.426266  0.247751 -1.080658 -0.574085\n",
       "2018-01-10  1.269028 -1.601412  1.304606 -0.605973"
      ]
     },
     "execution_count": 12,
     "metadata": {},
     "output_type": "execute_result"
    }
   ],
   "source": [
    "df = pd.DataFrame(np.random.randn(10, 4), index = datas, columns = list(\"ABCD\"))\n",
    "\n",
    "df"
   ]
  },
  {
   "cell_type": "code",
   "execution_count": 13,
   "metadata": {},
   "outputs": [
    {
     "data": {
      "text/plain": [
       "A   -0.267560\n",
       "B    0.009306\n",
       "C    0.393882\n",
       "D    0.508658\n",
       "dtype: float64"
      ]
     },
     "execution_count": 13,
     "metadata": {},
     "output_type": "execute_result"
    }
   ],
   "source": [
    "df.mean()"
   ]
  },
  {
   "cell_type": "code",
   "execution_count": 15,
   "metadata": {},
   "outputs": [
    {
     "data": {
      "text/plain": [
       "2018-01-01    0.847044\n",
       "2018-01-02    0.074344\n",
       "2018-01-03    0.454450\n",
       "2018-01-04   -0.520462\n",
       "2018-01-05    0.205184\n",
       "2018-01-06    0.264894\n",
       "2018-01-07    0.248517\n",
       "2018-01-08    0.190367\n",
       "2018-01-09   -0.245181\n",
       "2018-01-10    0.091562\n",
       "Freq: D, dtype: float64"
      ]
     },
     "execution_count": 15,
     "metadata": {},
     "output_type": "execute_result"
    }
   ],
   "source": [
    "df.mean(1)"
   ]
  },
  {
   "cell_type": "code",
   "execution_count": 16,
   "metadata": {},
   "outputs": [
    {
     "data": {
      "text/html": [
       "<div>\n",
       "<style scoped>\n",
       "    .dataframe tbody tr th:only-of-type {\n",
       "        vertical-align: middle;\n",
       "    }\n",
       "\n",
       "    .dataframe tbody tr th {\n",
       "        vertical-align: top;\n",
       "    }\n",
       "\n",
       "    .dataframe thead th {\n",
       "        text-align: right;\n",
       "    }\n",
       "</style>\n",
       "<table border=\"1\" class=\"dataframe\">\n",
       "  <thead>\n",
       "    <tr style=\"text-align: right;\">\n",
       "      <th></th>\n",
       "      <th>A</th>\n",
       "      <th>B</th>\n",
       "      <th>C</th>\n",
       "      <th>D</th>\n",
       "    </tr>\n",
       "  </thead>\n",
       "  <tbody>\n",
       "    <tr>\n",
       "      <th>2018-01-01</th>\n",
       "      <td>-0.071223</td>\n",
       "      <td>0.064651</td>\n",
       "      <td>1.058567</td>\n",
       "      <td>2.336182</td>\n",
       "    </tr>\n",
       "    <tr>\n",
       "      <th>2018-01-02</th>\n",
       "      <td>0.486341</td>\n",
       "      <td>0.033638</td>\n",
       "      <td>1.115724</td>\n",
       "      <td>2.049847</td>\n",
       "    </tr>\n",
       "    <tr>\n",
       "      <th>2018-01-03</th>\n",
       "      <td>-1.309643</td>\n",
       "      <td>2.072962</td>\n",
       "      <td>1.377438</td>\n",
       "      <td>3.362595</td>\n",
       "    </tr>\n",
       "    <tr>\n",
       "      <th>2018-01-04</th>\n",
       "      <td>-2.412014</td>\n",
       "      <td>0.732308</td>\n",
       "      <td>1.662714</td>\n",
       "      <td>3.438495</td>\n",
       "    </tr>\n",
       "    <tr>\n",
       "      <th>2018-01-05</th>\n",
       "      <td>-3.077311</td>\n",
       "      <td>-0.010769</td>\n",
       "      <td>2.480759</td>\n",
       "      <td>4.849558</td>\n",
       "    </tr>\n",
       "    <tr>\n",
       "      <th>2018-01-06</th>\n",
       "      <td>-4.491396</td>\n",
       "      <td>0.594781</td>\n",
       "      <td>2.909224</td>\n",
       "      <td>6.289207</td>\n",
       "    </tr>\n",
       "    <tr>\n",
       "      <th>2018-01-07</th>\n",
       "      <td>-4.386759</td>\n",
       "      <td>1.615796</td>\n",
       "      <td>2.683949</td>\n",
       "      <td>6.382895</td>\n",
       "    </tr>\n",
       "    <tr>\n",
       "      <th>2018-01-08</th>\n",
       "      <td>-4.370890</td>\n",
       "      <td>1.446720</td>\n",
       "      <td>3.714877</td>\n",
       "      <td>6.266643</td>\n",
       "    </tr>\n",
       "    <tr>\n",
       "      <th>2018-01-09</th>\n",
       "      <td>-3.944624</td>\n",
       "      <td>1.694471</td>\n",
       "      <td>2.634219</td>\n",
       "      <td>5.692558</td>\n",
       "    </tr>\n",
       "    <tr>\n",
       "      <th>2018-01-10</th>\n",
       "      <td>-2.675596</td>\n",
       "      <td>0.093059</td>\n",
       "      <td>3.938825</td>\n",
       "      <td>5.086585</td>\n",
       "    </tr>\n",
       "  </tbody>\n",
       "</table>\n",
       "</div>"
      ],
      "text/plain": [
       "                   A         B         C         D\n",
       "2018-01-01 -0.071223  0.064651  1.058567  2.336182\n",
       "2018-01-02  0.486341  0.033638  1.115724  2.049847\n",
       "2018-01-03 -1.309643  2.072962  1.377438  3.362595\n",
       "2018-01-04 -2.412014  0.732308  1.662714  3.438495\n",
       "2018-01-05 -3.077311 -0.010769  2.480759  4.849558\n",
       "2018-01-06 -4.491396  0.594781  2.909224  6.289207\n",
       "2018-01-07 -4.386759  1.615796  2.683949  6.382895\n",
       "2018-01-08 -4.370890  1.446720  3.714877  6.266643\n",
       "2018-01-09 -3.944624  1.694471  2.634219  5.692558\n",
       "2018-01-10 -2.675596  0.093059  3.938825  5.086585"
      ]
     },
     "execution_count": 16,
     "metadata": {},
     "output_type": "execute_result"
    }
   ],
   "source": [
    "df.apply(np.cumsum)"
   ]
  },
  {
   "cell_type": "markdown",
   "metadata": {},
   "source": [
    "### Merge de DFs"
   ]
  },
  {
   "cell_type": "markdown",
   "metadata": {},
   "source": [
    "pd.merge(banco1, banco2, on = \"chave\")"
   ]
  },
  {
   "cell_type": "markdown",
   "metadata": {},
   "source": [
    "### Time Series"
   ]
  },
  {
   "cell_type": "code",
   "execution_count": 5,
   "metadata": {},
   "outputs": [
    {
     "data": {
      "text/plain": [
       "DatetimeIndex(['2018-01-01 00:00:00', '2018-01-01 00:00:01',\n",
       "               '2018-01-01 00:00:02', '2018-01-01 00:00:03',\n",
       "               '2018-01-01 00:00:04', '2018-01-01 00:00:05',\n",
       "               '2018-01-01 00:00:06', '2018-01-01 00:00:07',\n",
       "               '2018-01-01 00:00:08', '2018-01-01 00:00:09',\n",
       "               '2018-01-01 00:00:10', '2018-01-01 00:00:11',\n",
       "               '2018-01-01 00:00:12', '2018-01-01 00:00:13',\n",
       "               '2018-01-01 00:00:14', '2018-01-01 00:00:15',\n",
       "               '2018-01-01 00:00:16', '2018-01-01 00:00:17',\n",
       "               '2018-01-01 00:00:18', '2018-01-01 00:00:19',\n",
       "               '2018-01-01 00:00:20', '2018-01-01 00:00:21',\n",
       "               '2018-01-01 00:00:22', '2018-01-01 00:00:23',\n",
       "               '2018-01-01 00:00:24', '2018-01-01 00:00:25',\n",
       "               '2018-01-01 00:00:26', '2018-01-01 00:00:27',\n",
       "               '2018-01-01 00:00:28', '2018-01-01 00:00:29',\n",
       "               '2018-01-01 00:00:30', '2018-01-01 00:00:31',\n",
       "               '2018-01-01 00:00:32', '2018-01-01 00:00:33',\n",
       "               '2018-01-01 00:00:34', '2018-01-01 00:00:35',\n",
       "               '2018-01-01 00:00:36', '2018-01-01 00:00:37',\n",
       "               '2018-01-01 00:00:38', '2018-01-01 00:00:39',\n",
       "               '2018-01-01 00:00:40', '2018-01-01 00:00:41',\n",
       "               '2018-01-01 00:00:42', '2018-01-01 00:00:43',\n",
       "               '2018-01-01 00:00:44', '2018-01-01 00:00:45',\n",
       "               '2018-01-01 00:00:46', '2018-01-01 00:00:47',\n",
       "               '2018-01-01 00:00:48', '2018-01-01 00:00:49'],\n",
       "              dtype='datetime64[ns]', freq='S')"
      ]
     },
     "execution_count": 5,
     "metadata": {},
     "output_type": "execute_result"
    }
   ],
   "source": [
    "rng = pd.date_range(\"01/01/2018\", periods = 50, freq = \"S\")\n",
    "\n",
    "rng"
   ]
  },
  {
   "cell_type": "code",
   "execution_count": 8,
   "metadata": {},
   "outputs": [
    {
     "data": {
      "text/plain": [
       "2018-01-01 00:00:00    321\n",
       "2018-01-01 00:00:01    223\n",
       "2018-01-01 00:00:02    186\n",
       "2018-01-01 00:00:03    466\n",
       "2018-01-01 00:00:04    129\n",
       "2018-01-01 00:00:05    393\n",
       "2018-01-01 00:00:06    161\n",
       "2018-01-01 00:00:07     80\n",
       "2018-01-01 00:00:08     93\n",
       "2018-01-01 00:00:09    259\n",
       "2018-01-01 00:00:10    321\n",
       "2018-01-01 00:00:11    298\n",
       "2018-01-01 00:00:12    471\n",
       "2018-01-01 00:00:13     56\n",
       "2018-01-01 00:00:14    268\n",
       "2018-01-01 00:00:15    154\n",
       "2018-01-01 00:00:16    120\n",
       "2018-01-01 00:00:17    294\n",
       "2018-01-01 00:00:18     70\n",
       "2018-01-01 00:00:19    351\n",
       "2018-01-01 00:00:20    220\n",
       "2018-01-01 00:00:21     34\n",
       "2018-01-01 00:00:22    265\n",
       "2018-01-01 00:00:23    291\n",
       "2018-01-01 00:00:24    325\n",
       "2018-01-01 00:00:25    135\n",
       "2018-01-01 00:00:26    134\n",
       "2018-01-01 00:00:27    183\n",
       "2018-01-01 00:00:28     24\n",
       "2018-01-01 00:00:29    185\n",
       "2018-01-01 00:00:30    301\n",
       "2018-01-01 00:00:31    358\n",
       "2018-01-01 00:00:32    176\n",
       "2018-01-01 00:00:33    293\n",
       "2018-01-01 00:00:34     88\n",
       "2018-01-01 00:00:35     40\n",
       "2018-01-01 00:00:36    485\n",
       "2018-01-01 00:00:37    288\n",
       "2018-01-01 00:00:38    483\n",
       "2018-01-01 00:00:39     35\n",
       "2018-01-01 00:00:40    426\n",
       "2018-01-01 00:00:41    204\n",
       "2018-01-01 00:00:42    171\n",
       "2018-01-01 00:00:43    239\n",
       "2018-01-01 00:00:44    204\n",
       "2018-01-01 00:00:45    143\n",
       "2018-01-01 00:00:46    173\n",
       "2018-01-01 00:00:47    211\n",
       "2018-01-01 00:00:48    365\n",
       "2018-01-01 00:00:49    385\n",
       "Freq: S, dtype: int32"
      ]
     },
     "execution_count": 8,
     "metadata": {},
     "output_type": "execute_result"
    }
   ],
   "source": [
    "ts = pd.Series(np.random.randint(0, 500, len(rng)), index = rng)\n",
    "\n",
    "ts"
   ]
  },
  {
   "cell_type": "code",
   "execution_count": 9,
   "metadata": {},
   "outputs": [],
   "source": [
    "#--- Plot\n",
    "\n",
    "import matplotlib.pyplot as plt\n",
    "from matplotlib import style\n",
    "\n",
    "%matplotlib inline"
   ]
  },
  {
   "cell_type": "code",
   "execution_count": 15,
   "metadata": {},
   "outputs": [
    {
     "data": {
      "text/plain": [
       "2018-01-01 00:00:00       321\n",
       "2018-01-01 00:00:01       865\n",
       "2018-01-01 00:00:02      1595\n",
       "2018-01-01 00:00:03      2791\n",
       "2018-01-01 00:00:04      4116\n",
       "2018-01-01 00:00:05      5834\n",
       "2018-01-01 00:00:06      7713\n",
       "2018-01-01 00:00:07      9672\n",
       "2018-01-01 00:00:08     11724\n",
       "2018-01-01 00:00:09     14035\n",
       "2018-01-01 00:00:10     16667\n",
       "2018-01-01 00:00:11     19597\n",
       "2018-01-01 00:00:12     22998\n",
       "2018-01-01 00:00:13     26455\n",
       "2018-01-01 00:00:14     30180\n",
       "2018-01-01 00:00:15     34059\n",
       "2018-01-01 00:00:16     38058\n",
       "2018-01-01 00:00:17     42351\n",
       "2018-01-01 00:00:18     46714\n",
       "2018-01-01 00:00:19     51428\n",
       "2018-01-01 00:00:20     56362\n",
       "2018-01-01 00:00:21     61330\n",
       "2018-01-01 00:00:22     66563\n",
       "2018-01-01 00:00:23     72087\n",
       "2018-01-01 00:00:24     77936\n",
       "2018-01-01 00:00:25     83920\n",
       "2018-01-01 00:00:26     90038\n",
       "2018-01-01 00:00:27     96339\n",
       "2018-01-01 00:00:28    102664\n",
       "2018-01-01 00:00:29    109174\n",
       "2018-01-01 00:00:30    115985\n",
       "2018-01-01 00:00:31    123154\n",
       "2018-01-01 00:00:32    130499\n",
       "2018-01-01 00:00:33    138137\n",
       "2018-01-01 00:00:34    145863\n",
       "2018-01-01 00:00:35    153629\n",
       "2018-01-01 00:00:36    161880\n",
       "2018-01-01 00:00:37    170419\n",
       "2018-01-01 00:00:38    179441\n",
       "2018-01-01 00:00:39    188498\n",
       "2018-01-01 00:00:40    197981\n",
       "2018-01-01 00:00:41    207668\n",
       "2018-01-01 00:00:42    217526\n",
       "2018-01-01 00:00:43    227623\n",
       "2018-01-01 00:00:44    237924\n",
       "2018-01-01 00:00:45    248368\n",
       "2018-01-01 00:00:46    258985\n",
       "2018-01-01 00:00:47    269813\n",
       "2018-01-01 00:00:48    281006\n",
       "2018-01-01 00:00:49    292584\n",
       "Freq: S, dtype: int32"
      ]
     },
     "execution_count": 15,
     "metadata": {},
     "output_type": "execute_result"
    }
   ],
   "source": [
    "ts = ts.cumsum()\n",
    "\n",
    "ts"
   ]
  },
  {
   "cell_type": "code",
   "execution_count": 16,
   "metadata": {},
   "outputs": [
    {
     "data": {
      "text/plain": [
       "<matplotlib.axes._subplots.AxesSubplot at 0xe0b07c0>"
      ]
     },
     "execution_count": 16,
     "metadata": {},
     "output_type": "execute_result"
    },
    {
     "data": {
      "image/png": "[encoded data removed]",
      "text/plain": [
       "<Figure size 432x288 with 1 Axes>"
      ]
     },
     "metadata": {
      "needs_background": "light"
     },
     "output_type": "display_data"
    }
   ],
   "source": [
    "ts.plot()"
   ]
  },
  {
   "cell_type": "markdown",
   "metadata": {},
   "source": [
    "### Output"
   ]
  },
  {
   "cell_type": "code",
   "execution_count": 18,
   "metadata": {},
   "outputs": [
    {
     "ename": "NameError",
     "evalue": "name 'df' is not defined",
     "output_type": "error",
     "traceback": [
      "\u001b[1;31m---------------------------------------------------------------------------\u001b[0m",
      "\u001b[1;31mNameError\u001b[0m                                 Traceback (most recent call last)",
      "\u001b[1;32m<ipython-input-18-db95da9cf479>\u001b[0m in \u001b[0;36m<module>\u001b[1;34m\u001b[0m\n\u001b[1;32m----> 1\u001b[1;33m \u001b[0mdf\u001b[0m\u001b[1;33m.\u001b[0m\u001b[0mto_excel\u001b[0m\u001b[1;33m\u001b[0m\u001b[1;33m\u001b[0m\u001b[0m\n\u001b[0m",
      "\u001b[1;31mNameError\u001b[0m: name 'df' is not defined"
     ]
    }
   ],
   "source": [
    "df.to_excel"
   ]
  },
  {
   "cell_type": "code",
   "execution_count": null,
   "metadata": {},
   "outputs": [],
   "source": []
  }
 ],
 "metadata": {
  "kernelspec": {
   "display_name": "Python 3",
   "language": "python",
   "name": "python3"
  },
  "language_info": {
   "codemirror_mode": {
    "name": "ipython",
    "version": 3
   },
   "file_extension": ".py",
   "mimetype": "text/x-python",
   "name": "python",
   "nbconvert_exporter": "python",
   "pygments_lexer": "ipython3",
   "version": "3.8.2"
  },
  "toc": {
   "base_numbering": 1,
   "nav_menu": {},
   "number_sections": true,
   "sideBar": true,
   "skip_h1_title": false,
   "title_cell": "Table of Contents",
   "title_sidebar": "Contents",
   "toc_cell": false,
   "toc_position": {},
   "toc_section_display": true,
   "toc_window_display": false
  },
  "varInspector": {
   "cols": {
    "lenName": 16,
    "lenType": 16,
    "lenVar": 40
   },
   "kernels_config": {
    "python": {
     "delete_cmd_postfix": "",
     "delete_cmd_prefix": "del ",
     "library": "var_list.py",
     "varRefreshCmd": "print(var_dic_list())"
    },
    "r": {
     "delete_cmd_postfix": ") ",
     "delete_cmd_prefix": "rm(",
     "library": "var_list.r",
     "varRefreshCmd": "cat(var_dic_list()) "
    }
   },
   "types_to_exclude": [
    "module",
    "function",
    "builtin_function_or_method",
    "instance",
    "_Feature"
   ],
   "window_display": false
  }
 },
 "nbformat": 4,
 "nbformat_minor": 4
}
