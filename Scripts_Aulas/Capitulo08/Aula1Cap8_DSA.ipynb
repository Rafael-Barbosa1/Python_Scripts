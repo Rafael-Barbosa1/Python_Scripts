{
 "cells": [
  {
   "cell_type": "markdown",
   "metadata": {},
   "source": [
    "## Numpy"
   ]
  },
  {
   "cell_type": "code",
   "execution_count": 1,
   "metadata": {},
   "outputs": [],
   "source": [
    "#--- Importando o numpy\n",
    "\n",
    "import numpy as np"
   ]
  },
  {
   "cell_type": "code",
   "execution_count": 2,
   "metadata": {},
   "outputs": [
    {
     "data": {
      "text/plain": [
       "'1.18.2'"
      ]
     },
     "execution_count": 2,
     "metadata": {},
     "output_type": "execute_result"
    }
   ],
   "source": [
    "np.__version__"
   ]
  },
  {
   "cell_type": "code",
   "execution_count": 3,
   "metadata": {},
   "outputs": [
    {
     "name": "stdout",
     "output_type": "stream",
     "text": [
      "[0 1 2 3 4 5 6 7 8]\n"
     ]
    }
   ],
   "source": [
    "#--- Criando um array unidimensional\n",
    "\n",
    "vetor1 = np.array([0, 1, 2, 3, 4, 5, 6, 7, 8])\n",
    "\n",
    "print(vetor1)"
   ]
  },
  {
   "cell_type": "code",
   "execution_count": 4,
   "metadata": {},
   "outputs": [
    {
     "data": {
      "text/plain": [
       "numpy.ndarray"
      ]
     },
     "execution_count": 4,
     "metadata": {},
     "output_type": "execute_result"
    }
   ],
   "source": [
    "type(vetor1)"
   ]
  },
  {
   "cell_type": "code",
   "execution_count": 5,
   "metadata": {},
   "outputs": [
    {
     "name": "stdout",
     "output_type": "stream",
     "text": [
      "[ 0  1  3  6 10 15 21 28 36]\n"
     ]
    }
   ],
   "source": [
    "print(vetor1.cumsum())"
   ]
  },
  {
   "cell_type": "code",
   "execution_count": 6,
   "metadata": {},
   "outputs": [
    {
     "data": {
      "text/plain": [
       "0"
      ]
     },
     "execution_count": 6,
     "metadata": {},
     "output_type": "execute_result"
    }
   ],
   "source": [
    "vetor1[0]"
   ]
  },
  {
   "cell_type": "code",
   "execution_count": 7,
   "metadata": {},
   "outputs": [
    {
     "data": {
      "text/plain": [
       "array([100,   1,   2,   3,   4,   5,   6,   7,   8])"
      ]
     },
     "execution_count": 7,
     "metadata": {},
     "output_type": "execute_result"
    }
   ],
   "source": [
    "vetor1[0] = 100\n",
    "\n",
    "vetor1"
   ]
  },
  {
   "cell_type": "code",
   "execution_count": 8,
   "metadata": {},
   "outputs": [
    {
     "data": {
      "text/plain": [
       "(9,)"
      ]
     },
     "execution_count": 8,
     "metadata": {},
     "output_type": "execute_result"
    }
   ],
   "source": [
    "vetor1.shape"
   ]
  },
  {
   "cell_type": "markdown",
   "metadata": {},
   "source": [
    "### Funções numpy"
   ]
  },
  {
   "cell_type": "code",
   "execution_count": 9,
   "metadata": {},
   "outputs": [
    {
     "data": {
      "text/plain": [
       "array([0. , 0.5, 1. , 1.5, 2. , 2.5, 3. , 3.5, 4. ])"
      ]
     },
     "execution_count": 9,
     "metadata": {},
     "output_type": "execute_result"
    }
   ],
   "source": [
    "vetor2 = np.arange(0, 4.5, 0.5)\n",
    "\n",
    "vetor2"
   ]
  },
  {
   "cell_type": "code",
   "execution_count": 10,
   "metadata": {},
   "outputs": [
    {
     "data": {
      "text/plain": [
       "(9,)"
      ]
     },
     "execution_count": 10,
     "metadata": {},
     "output_type": "execute_result"
    }
   ],
   "source": [
    "np.shape(vetor2)"
   ]
  },
  {
   "cell_type": "code",
   "execution_count": 11,
   "metadata": {},
   "outputs": [
    {
     "data": {
      "text/plain": [
       "array([0., 0., 0., 0., 0., 0., 0., 0., 0., 0.])"
      ]
     },
     "execution_count": 11,
     "metadata": {},
     "output_type": "execute_result"
    }
   ],
   "source": [
    "np.zeros(10)"
   ]
  },
  {
   "cell_type": "code",
   "execution_count": 12,
   "metadata": {},
   "outputs": [
    {
     "data": {
      "text/plain": [
       "array([[1., 0., 0.],\n",
       "       [0., 1., 0.],\n",
       "       [0., 0., 1.]])"
      ]
     },
     "execution_count": 12,
     "metadata": {},
     "output_type": "execute_result"
    }
   ],
   "source": [
    "np.eye(3)"
   ]
  },
  {
   "cell_type": "code",
   "execution_count": 13,
   "metadata": {},
   "outputs": [
    {
     "data": {
      "text/plain": [
       "array([[1., 0., 0., 0., 0.],\n",
       "       [0., 1., 0., 0., 0.],\n",
       "       [0., 0., 1., 0., 0.],\n",
       "       [0., 0., 0., 1., 0.],\n",
       "       [0., 0., 0., 0., 1.]])"
      ]
     },
     "execution_count": 13,
     "metadata": {},
     "output_type": "execute_result"
    }
   ],
   "source": [
    "np.eye(5)"
   ]
  },
  {
   "cell_type": "code",
   "execution_count": 14,
   "metadata": {},
   "outputs": [
    {
     "data": {
      "text/plain": [
       "array([1.+2.j])"
      ]
     },
     "execution_count": 14,
     "metadata": {},
     "output_type": "execute_result"
    }
   ],
   "source": [
    "np.array([1 + 2j])"
   ]
  },
  {
   "cell_type": "code",
   "execution_count": 15,
   "metadata": {},
   "outputs": [
    {
     "data": {
      "text/plain": [
       "array(['Python', 'R', 'Julia'], dtype='<U6')"
      ]
     },
     "execution_count": 15,
     "metadata": {},
     "output_type": "execute_result"
    }
   ],
   "source": [
    "np.array(['Python', 'R', 'Julia'])"
   ]
  },
  {
   "cell_type": "code",
   "execution_count": 16,
   "metadata": {},
   "outputs": [
    {
     "data": {
      "text/plain": [
       "array([ 0.        ,  0.20408163,  0.40816327,  0.6122449 ,  0.81632653,\n",
       "        1.02040816,  1.2244898 ,  1.42857143,  1.63265306,  1.83673469,\n",
       "        2.04081633,  2.24489796,  2.44897959,  2.65306122,  2.85714286,\n",
       "        3.06122449,  3.26530612,  3.46938776,  3.67346939,  3.87755102,\n",
       "        4.08163265,  4.28571429,  4.48979592,  4.69387755,  4.89795918,\n",
       "        5.10204082,  5.30612245,  5.51020408,  5.71428571,  5.91836735,\n",
       "        6.12244898,  6.32653061,  6.53061224,  6.73469388,  6.93877551,\n",
       "        7.14285714,  7.34693878,  7.55102041,  7.75510204,  7.95918367,\n",
       "        8.16326531,  8.36734694,  8.57142857,  8.7755102 ,  8.97959184,\n",
       "        9.18367347,  9.3877551 ,  9.59183673,  9.79591837, 10.        ])"
      ]
     },
     "execution_count": 16,
     "metadata": {},
     "output_type": "execute_result"
    }
   ],
   "source": [
    "np.linspace(0, 10)"
   ]
  },
  {
   "cell_type": "markdown",
   "metadata": {},
   "source": [
    "### Criando Matrizes"
   ]
  },
  {
   "cell_type": "code",
   "execution_count": 17,
   "metadata": {},
   "outputs": [
    {
     "data": {
      "text/plain": [
       "array([[1, 2, 3],\n",
       "       [4, 5, 6]])"
      ]
     },
     "execution_count": 17,
     "metadata": {},
     "output_type": "execute_result"
    }
   ],
   "source": [
    "matriz = np.array([[1, 2, 3], [4, 5, 6]])\n",
    "\n",
    "matriz"
   ]
  },
  {
   "cell_type": "code",
   "execution_count": 18,
   "metadata": {},
   "outputs": [
    {
     "data": {
      "text/plain": [
       "(2, 3)"
      ]
     },
     "execution_count": 18,
     "metadata": {},
     "output_type": "execute_result"
    }
   ],
   "source": [
    "matriz.shape"
   ]
  },
  {
   "cell_type": "code",
   "execution_count": 19,
   "metadata": {},
   "outputs": [
    {
     "data": {
      "text/plain": [
       "array([[1., 1., 1.],\n",
       "       [1., 1., 1.]])"
      ]
     },
     "execution_count": 19,
     "metadata": {},
     "output_type": "execute_result"
    }
   ],
   "source": [
    "np.ones([2, 3])"
   ]
  },
  {
   "cell_type": "code",
   "execution_count": 20,
   "metadata": {},
   "outputs": [
    {
     "data": {
      "text/plain": [
       "4"
      ]
     },
     "execution_count": 20,
     "metadata": {},
     "output_type": "execute_result"
    }
   ],
   "source": [
    "matriz.itemsize"
   ]
  },
  {
   "cell_type": "code",
   "execution_count": 21,
   "metadata": {},
   "outputs": [
    {
     "data": {
      "text/plain": [
       "array([[  1,   2,   3],\n",
       "       [100,   5,   6]])"
      ]
     },
     "execution_count": 21,
     "metadata": {},
     "output_type": "execute_result"
    }
   ],
   "source": [
    "matriz[1, 0] = 100\n",
    "\n",
    "matriz"
   ]
  },
  {
   "cell_type": "code",
   "execution_count": 22,
   "metadata": {},
   "outputs": [
    {
     "data": {
      "text/plain": [
       "array([1, 2])"
      ]
     },
     "execution_count": 22,
     "metadata": {},
     "output_type": "execute_result"
    }
   ],
   "source": [
    "np.array([1, 2])"
   ]
  },
  {
   "cell_type": "code",
   "execution_count": 23,
   "metadata": {},
   "outputs": [
    {
     "data": {
      "text/plain": [
       "numpy.ndarray"
      ]
     },
     "execution_count": 23,
     "metadata": {},
     "output_type": "execute_result"
    }
   ],
   "source": [
    "type(np.array([1.0, 2.0]))"
   ]
  },
  {
   "cell_type": "markdown",
   "metadata": {},
   "source": [
    "### Método random()"
   ]
  },
  {
   "cell_type": "code",
   "execution_count": 24,
   "metadata": {},
   "outputs": [
    {
     "data": {
      "text/plain": [
       "array([0.59079481, 0.65234663, 0.81828021, 0.46523098, 0.17519354,\n",
       "       0.73106639, 0.88178078, 0.30531511, 0.90377947, 0.21597558])"
      ]
     },
     "execution_count": 24,
     "metadata": {},
     "output_type": "execute_result"
    }
   ],
   "source": [
    "np.random.rand(10)"
   ]
  },
  {
   "cell_type": "code",
   "execution_count": 25,
   "metadata": {},
   "outputs": [],
   "source": [
    "#--- Importando o matplotlib\n",
    "\n",
    "import matplotlib.pyplot as plt\n",
    "\n",
    "%matplotlib inline"
   ]
  },
  {
   "cell_type": "code",
   "execution_count": 26,
   "metadata": {},
   "outputs": [
    {
     "data": {
      "text/plain": [
       "(array([104., 109.,  85.,  95., 117., 100.,  97., 103., 100.,  90.]),\n",
       " array([0.00201652, 0.10174156, 0.2014666 , 0.30119165, 0.40091669,\n",
       "        0.50064173, 0.60036678, 0.70009182, 0.79981687, 0.89954191,\n",
       "        0.99926695]),\n",
       " <a list of 10 Patch objects>)"
      ]
     },
     "execution_count": 26,
     "metadata": {},
     "output_type": "execute_result"
    },
    {
     "data": {
      "image/png": "[encoded data removed]",
      "text/plain": [
       "<Figure size 432x288 with 1 Axes>"
      ]
     },
     "metadata": {
      "needs_background": "light"
     },
     "output_type": "display_data"
    }
   ],
   "source": [
    "plt.hist(np.random.rand(1000))"
   ]
  },
  {
   "cell_type": "code",
   "execution_count": 27,
   "metadata": {},
   "outputs": [
    {
     "data": {
      "image/png": "[encoded data removed]",
      "text/plain": [
       "<Figure size 432x288 with 1 Axes>"
      ]
     },
     "metadata": {
      "needs_background": "light"
     },
     "output_type": "display_data"
    }
   ],
   "source": [
    "plt.show(plt.hist(np.random.rand(1000)))"
   ]
  },
  {
   "cell_type": "code",
   "execution_count": 28,
   "metadata": {},
   "outputs": [
    {
     "data": {
      "image/png": "[encoded data removed]",
      "text/plain": [
       "<Figure size 432x288 with 1 Axes>"
      ]
     },
     "metadata": {
      "needs_background": "light"
     },
     "output_type": "display_data"
    }
   ],
   "source": [
    "plt.show(plt.hist(np.random.randn(1000)))"
   ]
  },
  {
   "cell_type": "markdown",
   "metadata": {},
   "source": [
    "### Estatística"
   ]
  },
  {
   "cell_type": "code",
   "execution_count": 29,
   "metadata": {},
   "outputs": [],
   "source": [
    "dados = np.random.rand(1000)"
   ]
  },
  {
   "cell_type": "code",
   "execution_count": 30,
   "metadata": {},
   "outputs": [
    {
     "data": {
      "text/plain": [
       "0.507516807702269"
      ]
     },
     "execution_count": 30,
     "metadata": {},
     "output_type": "execute_result"
    }
   ],
   "source": [
    "dados.mean()"
   ]
  },
  {
   "cell_type": "code",
   "execution_count": 31,
   "metadata": {},
   "outputs": [
    {
     "data": {
      "text/plain": [
       "0.2912641072052669"
      ]
     },
     "execution_count": 31,
     "metadata": {},
     "output_type": "execute_result"
    }
   ],
   "source": [
    "dados.std()"
   ]
  },
  {
   "cell_type": "code",
   "execution_count": 32,
   "metadata": {},
   "outputs": [
    {
     "data": {
      "text/plain": [
       "0.08483478014608122"
      ]
     },
     "execution_count": 32,
     "metadata": {},
     "output_type": "execute_result"
    }
   ],
   "source": [
    "dados.var()"
   ]
  },
  {
   "cell_type": "code",
   "execution_count": 33,
   "metadata": {},
   "outputs": [
    {
     "data": {
      "text/plain": [
       "507.51680770226903"
      ]
     },
     "execution_count": 33,
     "metadata": {},
     "output_type": "execute_result"
    }
   ],
   "source": [
    "dados.sum()"
   ]
  },
  {
   "cell_type": "code",
   "execution_count": 34,
   "metadata": {},
   "outputs": [
    {
     "data": {
      "text/plain": [
       "0.0"
      ]
     },
     "execution_count": 34,
     "metadata": {},
     "output_type": "execute_result"
    }
   ],
   "source": [
    "dados.prod()"
   ]
  },
  {
   "cell_type": "code",
   "execution_count": 35,
   "metadata": {},
   "outputs": [
    {
     "data": {
      "text/plain": [
       "array([3.75248553e-01, 1.02636853e+00, 1.26332870e+00, 1.44424741e+00,\n",
       "       2.24684691e+00, 2.58259306e+00, 3.15373694e+00, 3.92726228e+00,\n",
       "       4.86200970e+00, 4.89630018e+00, 4.93194673e+00, 5.61459185e+00,\n",
       "       5.82229775e+00, 6.24518414e+00, 6.88596104e+00, 7.73369860e+00,\n",
       "       8.20491471e+00, 8.81543586e+00, 9.51150878e+00, 9.68590576e+00,\n",
       "       1.06029038e+01, 1.11336509e+01, 1.14294988e+01, 1.22581291e+01,\n",
       "       1.28780439e+01, 1.37605902e+01, 1.42669589e+01, 1.50662255e+01,\n",
       "       1.59504675e+01, 1.65083370e+01, 1.71862329e+01, 1.77720829e+01,\n",
       "       1.82359123e+01, 1.91806554e+01, 1.95327789e+01, 1.99189764e+01,\n",
       "       2.00035261e+01, 2.00325188e+01, 2.07638798e+01, 2.17113239e+01,\n",
       "       2.25068074e+01, 2.28916329e+01, 2.37210773e+01, 2.41881867e+01,\n",
       "       2.47683324e+01, 2.56818698e+01, 2.63279587e+01, 2.70960102e+01,\n",
       "       2.76427562e+01, 2.82127463e+01, 2.91282644e+01, 2.93749781e+01,\n",
       "       3.02747104e+01, 3.07993030e+01, 3.15801673e+01, 3.25647598e+01,\n",
       "       3.35590490e+01, 3.36585225e+01, 3.43364038e+01, 3.46868162e+01,\n",
       "       3.48620879e+01, 3.56899637e+01, 3.61623553e+01, 3.70039557e+01,\n",
       "       3.76346416e+01, 3.77105971e+01, 3.83962120e+01, 3.93033834e+01,\n",
       "       4.02971550e+01, 4.08157794e+01, 4.13948986e+01, 4.23611919e+01,\n",
       "       4.30703442e+01, 4.31541236e+01, 4.40555906e+01, 4.43481278e+01,\n",
       "       4.44506728e+01, 4.46000348e+01, 4.50992735e+01, 4.52609554e+01,\n",
       "       4.55987765e+01, 4.57524195e+01, 4.63397793e+01, 4.69291619e+01,\n",
       "       4.69600174e+01, 4.70462169e+01, 4.79320689e+01, 4.88109039e+01,\n",
       "       4.93770736e+01, 4.94471180e+01, 4.95298895e+01, 5.02610560e+01,\n",
       "       5.04572914e+01, 5.11646225e+01, 5.18862114e+01, 5.21719813e+01,\n",
       "       5.26784920e+01, 5.31168863e+01, 5.34265376e+01, 5.38185940e+01,\n",
       "       5.38999222e+01, 5.43835897e+01, 5.52199959e+01, 5.59179651e+01,\n",
       "       5.68454875e+01, 5.72367305e+01, 5.80294669e+01, 5.83187159e+01,\n",
       "       5.83252404e+01, 5.88777531e+01, 5.91686132e+01, 5.92074107e+01,\n",
       "       5.96995334e+01, 6.03185554e+01, 6.05341226e+01, 6.09459595e+01,\n",
       "       6.10957823e+01, 6.13100167e+01, 6.20926353e+01, 6.29372746e+01,\n",
       "       6.35532629e+01, 6.42337067e+01, 6.48427966e+01, 6.52796298e+01,\n",
       "       6.53432313e+01, 6.59735954e+01, 6.63380041e+01, 6.65313754e+01,\n",
       "       6.72933498e+01, 6.76795616e+01, 6.81989239e+01, 6.86555219e+01,\n",
       "       6.87810656e+01, 6.93338587e+01, 6.97124083e+01, 7.05287815e+01,\n",
       "       7.08064038e+01, 7.13224982e+01, 7.22472118e+01, 7.31076411e+01,\n",
       "       7.37294257e+01, 7.41387703e+01, 7.51238285e+01, 7.52918860e+01,\n",
       "       7.56707649e+01, 7.59207507e+01, 7.65863333e+01, 7.70058138e+01,\n",
       "       7.72549632e+01, 7.73585365e+01, 7.76543801e+01, 7.78636630e+01,\n",
       "       7.87426380e+01, 7.89554459e+01, 7.99371350e+01, 8.04239016e+01,\n",
       "       8.05726603e+01, 8.08002155e+01, 8.12328114e+01, 8.15993977e+01,\n",
       "       8.23217302e+01, 8.23896305e+01, 8.30884735e+01, 8.39472612e+01,\n",
       "       8.49396251e+01, 8.57492515e+01, 8.61664936e+01, 8.64075562e+01,\n",
       "       8.72220638e+01, 8.73218286e+01, 8.80022778e+01, 8.83381397e+01,\n",
       "       8.88568264e+01, 8.98245882e+01, 9.00993627e+01, 9.06286712e+01,\n",
       "       9.10728052e+01, 9.12328507e+01, 9.15326652e+01, 9.20736934e+01,\n",
       "       9.21735784e+01, 9.26200687e+01, 9.26854229e+01, 9.30387826e+01,\n",
       "       9.39628728e+01, 9.41941588e+01, 9.43656284e+01, 9.53300538e+01,\n",
       "       9.55935117e+01, 9.60320737e+01, 9.63820562e+01, 9.71589742e+01,\n",
       "       9.74577126e+01, 9.81348420e+01, 9.83216514e+01, 9.87189827e+01,\n",
       "       9.95002778e+01, 1.00043292e+02, 1.00254167e+02, 1.00366930e+02,\n",
       "       1.01138530e+02, 1.01635409e+02, 1.02301670e+02, 1.03030500e+02,\n",
       "       1.03166002e+02, 1.03650836e+02, 1.03856736e+02, 1.04485166e+02,\n",
       "       1.05445668e+02, 1.05475504e+02, 1.06351504e+02, 1.06496188e+02,\n",
       "       1.07393226e+02, 1.07907671e+02, 1.08075814e+02, 1.08234315e+02,\n",
       "       1.08636584e+02, 1.09375563e+02, 1.09954498e+02, 1.10066805e+02,\n",
       "       1.10093783e+02, 1.10970395e+02, 1.11905725e+02, 1.12237339e+02,\n",
       "       1.12592431e+02, 1.13499647e+02, 1.13698355e+02, 1.14253459e+02,\n",
       "       1.14647581e+02, 1.15497724e+02, 1.16408108e+02, 1.17348306e+02,\n",
       "       1.18067057e+02, 1.18556261e+02, 1.19375842e+02, 1.19594839e+02,\n",
       "       1.19699012e+02, 1.20670697e+02, 1.20932383e+02, 1.21449855e+02,\n",
       "       1.21457087e+02, 1.21648571e+02, 1.22079535e+02, 1.22568677e+02,\n",
       "       1.23438565e+02, 1.23710518e+02, 1.23719062e+02, 1.24329512e+02,\n",
       "       1.24768129e+02, 1.25149380e+02, 1.25195881e+02, 1.25933133e+02,\n",
       "       1.26836808e+02, 1.26891124e+02, 1.27818721e+02, 1.28006504e+02,\n",
       "       1.28704033e+02, 1.29104203e+02, 1.29252322e+02, 1.29724720e+02,\n",
       "       1.30007942e+02, 1.30073730e+02, 1.31012697e+02, 1.31884480e+02,\n",
       "       1.32573180e+02, 1.33486516e+02, 1.33520346e+02, 1.34332569e+02,\n",
       "       1.35295284e+02, 1.36102725e+02, 1.36977845e+02, 1.37926156e+02,\n",
       "       1.38194082e+02, 1.38285241e+02, 1.38427090e+02, 1.38505306e+02,\n",
       "       1.39383369e+02, 1.40073602e+02, 1.40239592e+02, 1.40443308e+02,\n",
       "       1.41288987e+02, 1.41296214e+02, 1.41498535e+02, 1.42369434e+02,\n",
       "       1.42742747e+02, 1.43099574e+02, 1.43817359e+02, 1.44366114e+02,\n",
       "       1.45236341e+02, 1.46047078e+02, 1.46254189e+02, 1.46929866e+02,\n",
       "       1.47813765e+02, 1.48118497e+02, 1.48940203e+02, 1.49396359e+02,\n",
       "       1.50392008e+02, 1.50470239e+02, 1.51054390e+02, 1.51240744e+02,\n",
       "       1.51443691e+02, 1.52118385e+02, 1.52790744e+02, 1.53425831e+02,\n",
       "       1.54177776e+02, 1.54870706e+02, 1.55455432e+02, 1.55519662e+02,\n",
       "       1.55796224e+02, 1.56605238e+02, 1.57063717e+02, 1.57778106e+02,\n",
       "       1.58778059e+02, 1.59458597e+02, 1.59840276e+02, 1.60521411e+02,\n",
       "       1.60783801e+02, 1.61733991e+02, 1.62416683e+02, 1.62895757e+02,\n",
       "       1.63686845e+02, 1.63905237e+02, 1.64636171e+02, 1.65435375e+02,\n",
       "       1.65723001e+02, 1.66365100e+02, 1.67006054e+02, 1.67532334e+02,\n",
       "       1.68172375e+02, 1.68230995e+02, 1.69222312e+02, 1.69772808e+02,\n",
       "       1.70405410e+02, 1.70714033e+02, 1.70792381e+02, 1.70977274e+02,\n",
       "       1.71606732e+02, 1.72163928e+02, 1.72167573e+02, 1.72271202e+02,\n",
       "       1.72681669e+02, 1.73183187e+02, 1.73271383e+02, 1.74093355e+02,\n",
       "       1.74611289e+02, 1.75194594e+02, 1.75727366e+02, 1.76627136e+02,\n",
       "       1.76912196e+02, 1.77360926e+02, 1.77951333e+02, 1.78360646e+02,\n",
       "       1.79218120e+02, 1.79749329e+02, 1.79855190e+02, 1.80065647e+02,\n",
       "       1.80291744e+02, 1.81046509e+02, 1.82026645e+02, 1.82727044e+02,\n",
       "       1.83360858e+02, 1.83687298e+02, 1.84677163e+02, 1.85291653e+02,\n",
       "       1.86169866e+02, 1.86511446e+02, 1.86902962e+02, 1.87587600e+02,\n",
       "       1.88206572e+02, 1.88708147e+02, 1.88715195e+02, 1.89089785e+02,\n",
       "       1.90049817e+02, 1.90855337e+02, 1.91524931e+02, 1.92035772e+02,\n",
       "       1.92621269e+02, 1.93612423e+02, 1.94008579e+02, 1.94795769e+02,\n",
       "       1.95501535e+02, 1.95577187e+02, 1.96424436e+02, 1.97212885e+02,\n",
       "       1.97948934e+02, 1.98165724e+02, 1.98894943e+02, 1.99756394e+02,\n",
       "       1.99780538e+02, 2.00160930e+02, 2.00755098e+02, 2.01538703e+02,\n",
       "       2.01889319e+02, 2.02586831e+02, 2.03115792e+02, 2.03780838e+02,\n",
       "       2.04155892e+02, 2.04485570e+02, 2.05154840e+02, 2.05700240e+02,\n",
       "       2.05959049e+02, 2.05977946e+02, 2.06072731e+02, 2.06133928e+02,\n",
       "       2.06246033e+02, 2.06462447e+02, 2.07348456e+02, 2.07472887e+02,\n",
       "       2.08341466e+02, 2.08678762e+02, 2.09465855e+02, 2.10084982e+02,\n",
       "       2.10554830e+02, 2.10886320e+02, 2.11212092e+02, 2.11797257e+02,\n",
       "       2.12786666e+02, 2.13756352e+02, 2.14500862e+02, 2.15310582e+02,\n",
       "       2.16176938e+02, 2.16274672e+02, 2.17006040e+02, 2.17110210e+02,\n",
       "       2.17128002e+02, 2.17968495e+02, 2.18359894e+02, 2.18884747e+02,\n",
       "       2.19475010e+02, 2.19926489e+02, 2.20121485e+02, 2.20211033e+02,\n",
       "       2.20477194e+02, 2.21231450e+02, 2.21620923e+02, 2.22591265e+02,\n",
       "       2.22662888e+02, 2.23534375e+02, 2.23905947e+02, 2.24647817e+02,\n",
       "       2.25479685e+02, 2.25717660e+02, 2.25986483e+02, 2.26497395e+02,\n",
       "       2.27125919e+02, 2.27724569e+02, 2.28020370e+02, 2.28931130e+02,\n",
       "       2.29522243e+02, 2.30098937e+02, 2.30955203e+02, 2.31086540e+02,\n",
       "       2.31463294e+02, 2.31549177e+02, 2.31842429e+02, 2.32524269e+02,\n",
       "       2.32912948e+02, 2.33187106e+02, 2.33966648e+02, 2.34023426e+02,\n",
       "       2.34886096e+02, 2.35176022e+02, 2.35842955e+02, 2.36506711e+02,\n",
       "       2.37106035e+02, 2.37559288e+02, 2.37942692e+02, 2.38488527e+02,\n",
       "       2.38814310e+02, 2.39737300e+02, 2.39878857e+02, 2.40321922e+02,\n",
       "       2.40624894e+02, 2.41436021e+02, 2.42143416e+02, 2.42389831e+02,\n",
       "       2.42409003e+02, 2.42992910e+02, 2.43234947e+02, 2.44056815e+02,\n",
       "       2.44761133e+02, 2.44796670e+02, 2.45171845e+02, 2.46044016e+02,\n",
       "       2.46562303e+02, 2.47054333e+02, 2.47948433e+02, 2.48203887e+02,\n",
       "       2.48289837e+02, 2.49008668e+02, 2.49828783e+02, 2.50305448e+02,\n",
       "       2.50930205e+02, 2.51868366e+02, 2.52675336e+02, 2.53340023e+02,\n",
       "       2.53955085e+02, 2.54799960e+02, 2.55504800e+02, 2.55623189e+02,\n",
       "       2.56461124e+02, 2.57367937e+02, 2.57458227e+02, 2.58243871e+02,\n",
       "       2.59003096e+02, 2.59688984e+02, 2.60081936e+02, 2.60456521e+02,\n",
       "       2.60695399e+02, 2.60966373e+02, 2.61372057e+02, 2.62086535e+02,\n",
       "       2.62827415e+02, 2.62996577e+02, 2.63762963e+02, 2.64525104e+02,\n",
       "       2.65041560e+02, 2.66040817e+02, 2.66722268e+02, 2.66774355e+02,\n",
       "       2.66884270e+02, 2.67000744e+02, 2.67583056e+02, 2.68145179e+02,\n",
       "       2.68157502e+02, 2.68669584e+02, 2.69660399e+02, 2.69675504e+02,\n",
       "       2.70076846e+02, 2.70263750e+02, 2.71049651e+02, 2.71074109e+02,\n",
       "       2.71442103e+02, 2.71498829e+02, 2.71752976e+02, 2.72385847e+02,\n",
       "       2.73158734e+02, 2.74078966e+02, 2.74687061e+02, 2.74951562e+02,\n",
       "       2.75089452e+02, 2.75173538e+02, 2.75568261e+02, 2.76255178e+02,\n",
       "       2.76515720e+02, 2.77369987e+02, 2.77841094e+02, 2.78400855e+02,\n",
       "       2.79348680e+02, 2.79898320e+02, 2.80139603e+02, 2.80937972e+02,\n",
       "       2.81844568e+02, 2.82825252e+02, 2.83615208e+02, 2.83944551e+02,\n",
       "       2.84597063e+02, 2.84954058e+02, 2.85131900e+02, 2.85985972e+02,\n",
       "       2.86419368e+02, 2.86782899e+02, 2.87669925e+02, 2.88100022e+02,\n",
       "       2.88794596e+02, 2.88909182e+02, 2.89296566e+02, 2.89366710e+02,\n",
       "       2.89977924e+02, 2.90380805e+02, 2.91002502e+02, 2.91081067e+02,\n",
       "       2.91602290e+02, 2.92510177e+02, 2.93438671e+02, 2.94000088e+02,\n",
       "       2.94030796e+02, 2.94615059e+02, 2.94937364e+02, 2.94996012e+02,\n",
       "       2.95425187e+02, 2.96369933e+02, 2.96403197e+02, 2.97355917e+02,\n",
       "       2.97383349e+02, 2.98014900e+02, 2.98833977e+02, 2.99618872e+02,\n",
       "       3.00442682e+02, 3.00582271e+02, 3.00670280e+02, 3.00687722e+02,\n",
       "       3.00878694e+02, 3.01099639e+02, 3.01508753e+02, 3.01527551e+02,\n",
       "       3.01974519e+02, 3.02697345e+02, 3.03199537e+02, 3.03779959e+02,\n",
       "       3.04069496e+02, 3.04349748e+02, 3.05206207e+02, 3.06094907e+02,\n",
       "       3.06207283e+02, 3.07155141e+02, 3.07654271e+02, 3.07833656e+02,\n",
       "       3.08322564e+02, 3.09295065e+02, 3.09741796e+02, 3.10456777e+02,\n",
       "       3.10885524e+02, 3.11469187e+02, 3.12273372e+02, 3.12718337e+02,\n",
       "       3.13681408e+02, 3.14324088e+02, 3.14879211e+02, 3.15758348e+02,\n",
       "       3.16566617e+02, 3.17298313e+02, 3.18211435e+02, 3.18942989e+02,\n",
       "       3.19319423e+02, 3.19455909e+02, 3.20360127e+02, 3.20381747e+02,\n",
       "       3.21248023e+02, 3.22072057e+02, 3.22889711e+02, 3.23691533e+02,\n",
       "       3.23692192e+02, 3.24052240e+02, 3.24479117e+02, 3.25421822e+02,\n",
       "       3.25751610e+02, 3.26005466e+02, 3.26718929e+02, 3.27152413e+02,\n",
       "       3.28022702e+02, 3.28535269e+02, 3.29169036e+02, 3.29498218e+02,\n",
       "       3.29507528e+02, 3.30123560e+02, 3.30453062e+02, 3.30613312e+02,\n",
       "       3.31271844e+02, 3.31697427e+02, 3.32544121e+02, 3.32641530e+02,\n",
       "       3.33459911e+02, 3.34270827e+02, 3.34595389e+02, 3.35046231e+02,\n",
       "       3.35701143e+02, 3.36253764e+02, 3.36307700e+02, 3.37033207e+02,\n",
       "       3.37924079e+02, 3.38755153e+02, 3.38856061e+02, 3.39786797e+02,\n",
       "       3.40653250e+02, 3.40739317e+02, 3.40844109e+02, 3.41261279e+02,\n",
       "       3.41620494e+02, 3.41947262e+02, 3.42499958e+02, 3.43221929e+02,\n",
       "       3.44091798e+02, 3.44939567e+02, 3.45479598e+02, 3.46309327e+02,\n",
       "       3.47171414e+02, 3.48002135e+02, 3.48904481e+02, 3.49247756e+02,\n",
       "       3.49652371e+02, 3.50368108e+02, 3.50484943e+02, 3.50515202e+02,\n",
       "       3.50951658e+02, 3.51595365e+02, 3.52287635e+02, 3.53136432e+02,\n",
       "       3.53888542e+02, 3.54763954e+02, 3.55736892e+02, 3.56394983e+02,\n",
       "       3.56472687e+02, 3.57344630e+02, 3.57371810e+02, 3.58150515e+02,\n",
       "       3.58508536e+02, 3.59269863e+02, 3.59518704e+02, 3.60395561e+02,\n",
       "       3.61348337e+02, 3.61522999e+02, 3.61670257e+02, 3.61878402e+02,\n",
       "       3.62312264e+02, 3.62873678e+02, 3.63254117e+02, 3.63548491e+02,\n",
       "       3.64062338e+02, 3.64084608e+02, 3.64295163e+02, 3.64970784e+02,\n",
       "       3.65823790e+02, 3.66315392e+02, 3.66445207e+02, 3.66723780e+02,\n",
       "       3.67213008e+02, 3.67831551e+02, 3.67850003e+02, 3.68053198e+02,\n",
       "       3.68360362e+02, 3.68990393e+02, 3.69171479e+02, 3.69396439e+02,\n",
       "       3.70384056e+02, 3.70800631e+02, 3.70905080e+02, 3.71097339e+02,\n",
       "       3.71137650e+02, 3.71668347e+02, 3.72187421e+02, 3.72836743e+02,\n",
       "       3.73254562e+02, 3.74113013e+02, 3.74923206e+02, 3.75636819e+02,\n",
       "       3.75975012e+02, 3.76905028e+02, 3.77796585e+02, 3.78192184e+02,\n",
       "       3.78552027e+02, 3.78961822e+02, 3.79184226e+02, 3.79327087e+02,\n",
       "       3.80286674e+02, 3.81003961e+02, 3.81058849e+02, 3.82025529e+02,\n",
       "       3.82922851e+02, 3.83027068e+02, 3.83039308e+02, 3.83898932e+02,\n",
       "       3.84229708e+02, 3.84570426e+02, 3.85170309e+02, 3.86147210e+02,\n",
       "       3.86523374e+02, 3.87240615e+02, 3.88137252e+02, 3.88352277e+02,\n",
       "       3.88542566e+02, 3.88556575e+02, 3.88895052e+02, 3.89125681e+02,\n",
       "       3.89912858e+02, 3.90180591e+02, 3.91071835e+02, 3.91182746e+02,\n",
       "       3.91325586e+02, 3.91426339e+02, 3.91527129e+02, 3.91956676e+02,\n",
       "       3.92241784e+02, 3.92673348e+02, 3.93532007e+02, 3.94110553e+02,\n",
       "       3.94312202e+02, 3.94908367e+02, 3.95615887e+02, 3.96282901e+02,\n",
       "       3.97272057e+02, 3.97574377e+02, 3.98064373e+02, 3.98556131e+02,\n",
       "       3.99403814e+02, 4.00331044e+02, 4.00918390e+02, 4.01126225e+02,\n",
       "       4.01235071e+02, 4.01320664e+02, 4.01489213e+02, 4.02165303e+02,\n",
       "       4.02660742e+02, 4.03366085e+02, 4.04038453e+02, 4.04700889e+02,\n",
       "       4.05189231e+02, 4.05255535e+02, 4.05898453e+02, 4.06374662e+02,\n",
       "       4.06909698e+02, 4.07521780e+02, 4.08435338e+02, 4.08509981e+02,\n",
       "       4.09219486e+02, 4.09703309e+02, 4.09717921e+02, 4.09933057e+02,\n",
       "       4.10079148e+02, 4.10731153e+02, 4.11329313e+02, 4.11469059e+02,\n",
       "       4.11548115e+02, 4.11673050e+02, 4.11720451e+02, 4.12463972e+02,\n",
       "       4.12545585e+02, 4.12624042e+02, 4.13278987e+02, 4.14199275e+02,\n",
       "       4.14715856e+02, 4.15652108e+02, 4.16652022e+02, 4.16791227e+02,\n",
       "       4.16953712e+02, 4.17318611e+02, 4.17669114e+02, 4.17897310e+02,\n",
       "       4.18458160e+02, 4.18545259e+02, 4.19370750e+02, 4.20097608e+02,\n",
       "       4.20515027e+02, 4.21480521e+02, 4.21787031e+02, 4.22751985e+02,\n",
       "       4.23666439e+02, 4.24168980e+02, 4.24657958e+02, 4.24908664e+02,\n",
       "       4.25455666e+02, 4.26257863e+02, 4.26744575e+02, 4.27612105e+02,\n",
       "       4.28275197e+02, 4.29067875e+02, 4.29780809e+02, 4.30036499e+02,\n",
       "       4.31028884e+02, 4.31664817e+02, 4.31713321e+02, 4.32473111e+02,\n",
       "       4.32854823e+02, 4.33349701e+02, 4.33613824e+02, 4.34468299e+02,\n",
       "       4.34968071e+02, 4.35445192e+02, 4.36104742e+02, 4.37067832e+02,\n",
       "       4.37778284e+02, 4.38698741e+02, 4.39445047e+02, 4.39691499e+02,\n",
       "       4.39987808e+02, 4.40512656e+02, 4.41180807e+02, 4.42117427e+02,\n",
       "       4.43067919e+02, 4.43957001e+02, 4.44861919e+02, 4.45439821e+02,\n",
       "       4.46120133e+02, 4.46289656e+02, 4.46891994e+02, 4.47442013e+02,\n",
       "       4.48282888e+02, 4.48636742e+02, 4.48757755e+02, 4.49480467e+02,\n",
       "       4.49636647e+02, 4.49760997e+02, 4.50179549e+02, 4.50326681e+02,\n",
       "       4.50756251e+02, 4.51638295e+02, 4.51762577e+02, 4.52000659e+02,\n",
       "       4.52025962e+02, 4.52427380e+02, 4.52567298e+02, 4.53322900e+02,\n",
       "       4.53937440e+02, 4.54499037e+02, 4.54847634e+02, 4.55338268e+02,\n",
       "       4.56080350e+02, 4.56369563e+02, 4.56832007e+02, 4.57471177e+02,\n",
       "       4.58194759e+02, 4.58851630e+02, 4.59266289e+02, 4.59483229e+02,\n",
       "       4.60166678e+02, 4.60995080e+02, 4.61448400e+02, 4.61917237e+02,\n",
       "       4.62182153e+02, 4.62976058e+02, 4.63432530e+02, 4.63445773e+02,\n",
       "       4.63631775e+02, 4.64531421e+02, 4.64739564e+02, 4.65158139e+02,\n",
       "       4.66146502e+02, 4.66369113e+02, 4.66391337e+02, 4.66739189e+02,\n",
       "       4.66814079e+02, 4.67518945e+02, 4.67859391e+02, 4.68821426e+02,\n",
       "       4.68834023e+02, 4.69318977e+02, 4.70208155e+02, 4.71167382e+02,\n",
       "       4.71187188e+02, 4.71351835e+02, 4.72205690e+02, 4.72761660e+02,\n",
       "       4.72891207e+02, 4.73819986e+02, 4.73933395e+02, 4.74496700e+02,\n",
       "       4.75149054e+02, 4.75469165e+02, 4.76360640e+02, 4.76529475e+02,\n",
       "       4.76844373e+02, 4.77789205e+02, 4.78529253e+02, 4.78803385e+02,\n",
       "       4.78949150e+02, 4.79538581e+02, 4.79562250e+02, 4.80221491e+02,\n",
       "       4.81055424e+02, 4.81133397e+02, 4.81854047e+02, 4.82470427e+02,\n",
       "       4.82751662e+02, 4.83257883e+02, 4.83405166e+02, 4.84266505e+02,\n",
       "       4.84391986e+02, 4.85353652e+02, 4.85571590e+02, 4.86423840e+02,\n",
       "       4.86975318e+02, 4.87857553e+02, 4.88426973e+02, 4.89424821e+02,\n",
       "       4.89726368e+02, 4.90699582e+02, 4.90962306e+02, 4.91399153e+02,\n",
       "       4.92295999e+02, 4.92820758e+02, 4.93702745e+02, 4.93800385e+02,\n",
       "       4.94720025e+02, 4.95427839e+02, 4.96398473e+02, 4.96519290e+02,\n",
       "       4.96600618e+02, 4.97118686e+02, 4.97354088e+02, 4.97670854e+02,\n",
       "       4.98592865e+02, 4.98683134e+02, 4.99091013e+02, 4.99510553e+02,\n",
       "       5.00089026e+02, 5.00769289e+02, 5.01428880e+02, 5.01982532e+02,\n",
       "       5.02751881e+02, 5.02784790e+02, 5.03448364e+02, 5.04067064e+02,\n",
       "       5.04668909e+02, 5.04776694e+02, 5.05239466e+02, 5.05947178e+02,\n",
       "       5.06677734e+02, 5.07151163e+02, 5.07315142e+02, 5.07516808e+02])"
      ]
     },
     "execution_count": 35,
     "metadata": {},
     "output_type": "execute_result"
    }
   ],
   "source": [
    "dados.cumsum()"
   ]
  },
  {
   "cell_type": "code",
   "execution_count": 36,
   "metadata": {},
   "outputs": [
    {
     "data": {
      "image/png": "[encoded data removed]",
      "text/plain": [
       "<Figure size 432x288 with 1 Axes>"
      ]
     },
     "metadata": {
      "needs_background": "light"
     },
     "output_type": "display_data"
    }
   ],
   "source": [
    "plt.plot(dados, 'o', markersize = 5, alpha = 0.5)\n",
    "plt.plot(dados.mean(), 'ro', markersize = 10)\n",
    "plt.show()"
   ]
  }
 ],
 "metadata": {
  "kernelspec": {
   "display_name": "Python 3",
   "language": "python",
   "name": "python3"
  },
  "language_info": {
   "codemirror_mode": {
    "name": "ipython",
    "version": 3
   },
   "file_extension": ".py",
   "mimetype": "text/x-python",
   "name": "python",
   "nbconvert_exporter": "python",
   "pygments_lexer": "ipython3",
   "version": "3.8.2"
  },
  "toc": {
   "base_numbering": 1,
   "nav_menu": {},
   "number_sections": true,
   "sideBar": true,
   "skip_h1_title": false,
   "title_cell": "Table of Contents",
   "title_sidebar": "Contents",
   "toc_cell": false,
   "toc_position": {},
   "toc_section_display": true,
   "toc_window_display": false
  },
  "varInspector": {
   "cols": {
    "lenName": 16,
    "lenType": 16,
    "lenVar": 40
   },
   "kernels_config": {
    "python": {
     "delete_cmd_postfix": "",
     "delete_cmd_prefix": "del ",
     "library": "var_list.py",
     "varRefreshCmd": "print(var_dic_list())"
    },
    "r": {
     "delete_cmd_postfix": ") ",
     "delete_cmd_prefix": "rm(",
     "library": "var_list.r",
     "varRefreshCmd": "cat(var_dic_list()) "
    }
   },
   "types_to_exclude": [
    "module",
    "function",
    "builtin_function_or_method",
    "instance",
    "_Feature"
   ],
   "window_display": false
  }
 },
 "nbformat": 4,
 "nbformat_minor": 4
}
