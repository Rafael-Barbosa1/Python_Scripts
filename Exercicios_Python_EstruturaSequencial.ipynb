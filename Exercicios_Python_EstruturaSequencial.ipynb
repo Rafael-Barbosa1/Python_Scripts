{
  "nbformat": 4,
  "nbformat_minor": 0,
  "metadata": {
    "colab": {
      "name": "Exercicios_Python_EstruturaSequencial",
      "provenance": [],
      "collapsed_sections": []
    },
    "kernelspec": {
      "name": "python3",
      "display_name": "Python 3"
    }
  },
  "cells": [
    {
      "cell_type": "markdown",
      "metadata": {
        "id": "NCsnM5D-SWbN",
        "colab_type": "text"
      },
      "source": [
        "# Introdução \n",
        "\n",
        "---\n",
        "\n",
        "Primeiramente, como já utilizo o R (programação) irei direto para os exercícios. Logo, alguns aprendizados irão vindo conforme a demanda dos exercícios.\n",
        "\n",
        "[Aqui](https://wiki.python.org.br/EstruturaSequencial) está o link para os exercícios de estrutura sequencial da galera da PythonBrasil. E [aqui](https://wiki.python.org.br/ListaDeExercicios) os links para os exercícios em geral. \n",
        "\n",
        "---"
      ]
    },
    {
      "cell_type": "markdown",
      "metadata": {
        "id": "qKm40DXNWv3Z",
        "colab_type": "text"
      },
      "source": [
        "Aqui vai uma imagem para se lembrar dos atalhos do teclado (que eu sempre me esqueço)\n",
        "\n",
        "\n",
        "![Imagem](https://i.stack.imgur.com/U3zaQ.png)"
      ]
    },
    {
      "cell_type": "markdown",
      "metadata": {
        "id": "dck7PXZvUGvY",
        "colab_type": "text"
      },
      "source": [
        "### 1- Faça um Programa que mostre a mensagem \"Alo mundo\" na tela.\n",
        "\n",
        "---"
      ]
    },
    {
      "cell_type": "code",
      "metadata": {
        "colab_type": "code",
        "id": "xn30PZ53SS5Y",
        "outputId": "f5fc1da4-989d-44d1-c253-aac41a39450d",
        "colab": {
          "base_uri": "https://localhost:8080/",
          "height": 34
        }
      },
      "source": [
        "print('Alô, mundo!')"
      ],
      "execution_count": 0,
      "outputs": [
        {
          "output_type": "stream",
          "text": [
            "Alô, mundo!\n"
          ],
          "name": "stdout"
        }
      ]
    },
    {
      "cell_type": "markdown",
      "metadata": {
        "id": "EpF3dJtPVVZZ",
        "colab_type": "text"
      },
      "source": [
        "### 2- Faça um Programa que peça um número e então mostre a mensagem O número informado foi [número].\n",
        "\n",
        "---"
      ]
    },
    {
      "cell_type": "markdown",
      "metadata": {
        "id": "mlHABAjjV-0Y",
        "colab_type": "text"
      },
      "source": [
        "Para que podemos pedir o número temos que usar a função ``` input() ``` e armazená-la em uma variável. \n"
      ]
    },
    {
      "cell_type": "code",
      "metadata": {
        "id": "G4jAE009VQT7",
        "colab_type": "code",
        "outputId": "d98d752d-e143-4897-d888-970fec8a1303",
        "colab": {
          "base_uri": "https://localhost:8080/",
          "height": 51
        }
      },
      "source": [
        "num = int(input('Escolha um número: '))\n",
        "\n",
        "print('O número informado foi', num)"
      ],
      "execution_count": 0,
      "outputs": [
        {
          "output_type": "stream",
          "text": [
            "Escolha um número: 50\n",
            "O número informado foi 50\n"
          ],
          "name": "stdout"
        }
      ]
    },
    {
      "cell_type": "markdown",
      "metadata": {
        "id": "NyxyGIvXYrKH",
        "colab_type": "text"
      },
      "source": [
        "### 3- Faça um Programa que peça dois números e imprima a soma.\n",
        "\n",
        "---"
      ]
    },
    {
      "cell_type": "markdown",
      "metadata": {
        "id": "3tkhb6c0cmx4",
        "colab_type": "text"
      },
      "source": [
        "Fazendo o básico que eu achava que estaria certo, seria: "
      ]
    },
    {
      "cell_type": "code",
      "metadata": {
        "id": "6ShteGPBcrpo",
        "colab_type": "code",
        "outputId": "301a8c82-5595-4eef-f486-3b6274c5c5fc",
        "colab": {
          "base_uri": "https://localhost:8080/",
          "height": 68
        }
      },
      "source": [
        "num1 = input('Digite o primeiro número: ')\n",
        "num2 = input('Digite o segundo número: ')\n",
        "soma = num1 + num2\n",
        "\n",
        "print('A soma é:', soma)"
      ],
      "execution_count": 0,
      "outputs": [
        {
          "output_type": "stream",
          "text": [
            "Digite o primeiro número: 12\n",
            "Digite o segundo número: 13\n",
            "A soma é:  1213\n"
          ],
          "name": "stdout"
        }
      ]
    },
    {
      "cell_type": "markdown",
      "metadata": {
        "id": "JAeuYzMJc0xG",
        "colab_type": "text"
      },
      "source": [
        "Mas, aparentemente, ele apenas colou um número no outro. O que me faz investigar o por que ele me retornou um número na questão 2. Vamos ver a classe dele:"
      ]
    },
    {
      "cell_type": "code",
      "metadata": {
        "id": "-Q_HYUhSdFBv",
        "colab_type": "code",
        "outputId": "07601ec9-b263-40e4-fabf-ecbd72943d64",
        "colab": {
          "base_uri": "https://localhost:8080/",
          "height": 34
        }
      },
      "source": [
        "type(num)"
      ],
      "execution_count": 0,
      "outputs": [
        {
          "output_type": "execute_result",
          "data": {
            "text/plain": [
              "int"
            ]
          },
          "metadata": {
            "tags": []
          },
          "execution_count": 16
        }
      ]
    },
    {
      "cell_type": "markdown",
      "metadata": {
        "id": "N3QqM6C5dQdN",
        "colab_type": "text"
      },
      "source": [
        "Ele realmente é um inteiro. Agora vamos ver qual a classe de ambos os números que deram uma de homem-aranha. "
      ]
    },
    {
      "cell_type": "code",
      "metadata": {
        "id": "swiK_CNYdYcv",
        "colab_type": "code",
        "outputId": "6d4f2f9e-d089-4c9b-a9fe-a74b9744e6cb",
        "colab": {
          "base_uri": "https://localhost:8080/",
          "height": 34
        }
      },
      "source": [
        "type(num1)"
      ],
      "execution_count": 0,
      "outputs": [
        {
          "output_type": "execute_result",
          "data": {
            "text/plain": [
              "str"
            ]
          },
          "metadata": {
            "tags": []
          },
          "execution_count": 19
        }
      ]
    },
    {
      "cell_type": "code",
      "metadata": {
        "id": "tKpPqdxFeIhU",
        "colab_type": "code",
        "outputId": "6629b247-3840-40c6-b1fd-de90e74bda00",
        "colab": {
          "base_uri": "https://localhost:8080/",
          "height": 34
        }
      },
      "source": [
        "type(num2)"
      ],
      "execution_count": 0,
      "outputs": [
        {
          "output_type": "execute_result",
          "data": {
            "text/plain": [
              "str"
            ]
          },
          "metadata": {
            "tags": []
          },
          "execution_count": 20
        }
      ]
    },
    {
      "cell_type": "markdown",
      "metadata": {
        "id": "y8LYwMZteKxD",
        "colab_type": "text"
      },
      "source": [
        "Vemos que ambos são uma string. Então, baseado nessa [solução](https://forum.zwame.pt/threads/python-soma-de-variaveis.949270/) temos que transformar o input em formato inteiro.\n",
        "\n"
      ]
    },
    {
      "cell_type": "code",
      "metadata": {
        "id": "cMfKNR1ea1dN",
        "colab_type": "code",
        "outputId": "b7e3bc9c-85c7-4776-e046-6ff4dda4b17e",
        "colab": {
          "base_uri": "https://localhost:8080/",
          "height": 68
        }
      },
      "source": [
        "num1 = int(input('Digite o primeiro número: '))\n",
        "num2 = int(input('Digite o segundo número: '))\n",
        "soma = num1 + num2\n",
        "\n",
        "print('A soma é:', soma)"
      ],
      "execution_count": 0,
      "outputs": [
        {
          "output_type": "stream",
          "text": [
            "Digite o primeiro número: 13\n",
            "Digite o segundo número: 12\n",
            "A soma é:  25\n"
          ],
          "name": "stdout"
        }
      ]
    },
    {
      "cell_type": "markdown",
      "metadata": {
        "id": "u7HZXgSybaP2",
        "colab_type": "text"
      },
      "source": [
        "### 4- Faça um Programa que peça as 4 notas bimestrais e mostre a média.\n",
        "\n",
        "---\n"
      ]
    },
    {
      "cell_type": "code",
      "metadata": {
        "id": "jyjmBpsWfg_y",
        "colab_type": "code",
        "outputId": "fa706422-3c16-48e6-f00d-5b768ab420e6",
        "colab": {
          "base_uri": "https://localhost:8080/",
          "height": 102
        }
      },
      "source": [
        "nota1 = int(input('Digite a primeira nota: '))\n",
        "nota2 = int(input('Digite a segunda nota: '))\n",
        "nota3 = int(input('Digite a terceira nota: '))\n",
        "nota4 = int(input('Digite a quarta nota: '))\n",
        "\n",
        "media_geral = (nota1 + nota2 + nota3 + nota4)/4\n",
        "\n",
        "print('A média do aluno foi:', media_geral)"
      ],
      "execution_count": 0,
      "outputs": [
        {
          "output_type": "stream",
          "text": [
            "Digite a primeira nota: 8\n",
            "Digite a segunda nota: 9\n",
            "Digite a terceira nota: 10\n",
            "Digite a quarta nota: 5\n",
            "A média do aluno foi:  8.0\n"
          ],
          "name": "stdout"
        }
      ]
    },
    {
      "cell_type": "markdown",
      "metadata": {
        "id": "2xyx0L_Pfrdj",
        "colab_type": "text"
      },
      "source": [
        "### 5- Faça um Programa que converta metros para centímetros.\n",
        "\n",
        "---"
      ]
    },
    {
      "cell_type": "code",
      "metadata": {
        "id": "vMNNDf9cgyut",
        "colab_type": "code",
        "outputId": "b2063c3c-f687-4a4d-e5a1-90e8dae9c9fb",
        "colab": {
          "base_uri": "https://localhost:8080/",
          "height": 51
        }
      },
      "source": [
        "num = int(input('Digite um número, em metros: '))\n",
        "\n",
        "print('O número em centímetros é:', num*100)"
      ],
      "execution_count": 0,
      "outputs": [
        {
          "output_type": "stream",
          "text": [
            "Digite um número, em metros: 20\n",
            "O número em centímetros é: 2000\n"
          ],
          "name": "stdout"
        }
      ]
    },
    {
      "cell_type": "markdown",
      "metadata": {
        "id": "O_5HcLuChLJB",
        "colab_type": "text"
      },
      "source": [
        "### 6- Faça um Programa que peça o raio de um círculo, calcule e mostre sua área.\n",
        "\n",
        "---"
      ]
    },
    {
      "cell_type": "markdown",
      "metadata": {
        "id": "L5LHDbV3h64W",
        "colab_type": "text"
      },
      "source": [
        "A fórmula para o cálculo da área do círculo é dada por: ``` A = PI * Raio^2 ```. Logo, temos"
      ]
    },
    {
      "cell_type": "code",
      "metadata": {
        "id": "setd7JUljGlS",
        "colab_type": "code",
        "outputId": "58b4c5cb-8a81-4118-9647-f98154bc1286",
        "colab": {
          "base_uri": "https://localhost:8080/",
          "height": 51
        }
      },
      "source": [
        "raio = float(input('Digite o valor do raio: ')) # float para pegar os números reais\n",
        "\n",
        "area_circulo = 3.14 * (raio ** 2) # o formato da exponenciação em python é dado por (n ^^ 2)\n",
        "\n",
        "print('A área do círculo é:', area_circulo)"
      ],
      "execution_count": 0,
      "outputs": [
        {
          "output_type": "stream",
          "text": [
            "Digite o raio: 2\n",
            "A área do círculo é: 12.56\n"
          ],
          "name": "stdout"
        }
      ]
    },
    {
      "cell_type": "markdown",
      "metadata": {
        "id": "O9ay5g4Sjcjk",
        "colab_type": "text"
      },
      "source": [
        "### 7- Faça um Programa que calcule a área de um quadrado, em seguida mostre o dobro desta área para o usuário.\n",
        "\n",
        "---"
      ]
    },
    {
      "cell_type": "markdown",
      "metadata": {
        "id": "9YOh7T8MkwHu",
        "colab_type": "text"
      },
      "source": [
        "A fórmula da área do quadrado é dada por: ``` A = base * altura ```. Logo, temos"
      ]
    },
    {
      "cell_type": "code",
      "metadata": {
        "id": "OiJSHbjgk9NH",
        "colab_type": "code",
        "outputId": "b516162d-ea66-4468-f5ab-691c37ae0ca9",
        "colab": {
          "base_uri": "https://localhost:8080/",
          "height": 68
        }
      },
      "source": [
        "base = float(input('Digite o valor da base: '))\n",
        "altura = float(input('Digite o valor da altura: '))\n",
        "\n",
        "area_quadrado = base * altura\n",
        "\n",
        "print('A dobro da área do quadrado é:', 2 * area_quadrado)"
      ],
      "execution_count": 0,
      "outputs": [
        {
          "output_type": "stream",
          "text": [
            "Digite o valor da base: 5\n",
            "Digite o valor da altura: 10\n",
            "A dobro da área do quadrado é: 100.0\n"
          ],
          "name": "stdout"
        }
      ]
    },
    {
      "cell_type": "markdown",
      "metadata": {
        "id": "L9ahpzeLlhBS",
        "colab_type": "text"
      },
      "source": [
        "### 8- Faça um Programa que pergunte quanto você ganha por hora e o número de horas trabalhadas no mês. Calcule e mostre o total do seu salário no referido mês.\n",
        "\n",
        "---\n",
        "\n"
      ]
    },
    {
      "cell_type": "code",
      "metadata": {
        "id": "AMj3NY3glvC2",
        "colab_type": "code",
        "outputId": "83823720-89f8-4f0c-e257-0d1f49c55cc6",
        "colab": {
          "base_uri": "https://localhost:8080/",
          "height": 68
        }
      },
      "source": [
        "ganho_por_hora = float(input('Quanto você ganha por hora ? '))\n",
        "horas_por_dia = float(input('Quantas horas você trabalha por dia ? '))\n",
        "\n",
        "salario = ganho_por_hora * horas_por_dia * 22 # 22: geralmente é o número de dias úteis no mês\n",
        "\n",
        "\n",
        "print('O salário no mês é de', salario)"
      ],
      "execution_count": 0,
      "outputs": [
        {
          "output_type": "stream",
          "text": [
            "Quanto você ganha por hora ? 50\n",
            "Quantas horas você trabalha por dia ? 8\n",
            "O salário no mês é de 8800.0\n"
          ],
          "name": "stdout"
        }
      ]
    },
    {
      "cell_type": "markdown",
      "metadata": {
        "id": "R_TVvyIImsWU",
        "colab_type": "text"
      },
      "source": [
        "### 9- Faça um Programa que peça a temperatura em graus Farenheit, transforme e mostre a temperatura em graus Celsius. C = (5 * (F-32) / 9).\n",
        "\n",
        "---"
      ]
    },
    {
      "cell_type": "code",
      "metadata": {
        "id": "J7zKiC9gnSaU",
        "colab_type": "code",
        "outputId": "298f69eb-4c00-4c50-8e5b-5541df939949",
        "colab": {
          "base_uri": "https://localhost:8080/",
          "height": 51
        }
      },
      "source": [
        "temperat_f = float(input('Digite a temperatura em graus Farenheit: '))\n",
        "\n",
        "temperat_c = (5 * (temperat_f - 32)) / 9\n",
        "\n",
        "print('A temperatura em graus é de', temperat_c)"
      ],
      "execution_count": 0,
      "outputs": [
        {
          "output_type": "stream",
          "text": [
            "Digite a temperatura em Farenheit: 83\n",
            "A temperatura em graus é de 28.333333333333332\n"
          ],
          "name": "stdout"
        }
      ]
    },
    {
      "cell_type": "markdown",
      "metadata": {
        "id": "bdOoHW12n5i0",
        "colab_type": "text"
      },
      "source": [
        "### 10- Faça um Programa que peça a temperatura em graus Celsius, transforme e mostre em graus Farenheit.\n",
        "\n",
        "\n",
        "---"
      ]
    },
    {
      "cell_type": "code",
      "metadata": {
        "id": "8WqNZw4Fn8Rz",
        "colab_type": "code",
        "outputId": "e38b11da-bd7d-4327-94ca-4550e144e199",
        "colab": {
          "base_uri": "https://localhost:8080/",
          "height": 51
        }
      },
      "source": [
        "temperat_c = float(input('Digite a temperatura em graus Celsius: '))\n",
        "\n",
        "temperat_f = ((9 * temperat_c)/ 5) + 32\n",
        "\n",
        "print('A temperatura em graus de Farenheit é de', temperat_f)"
      ],
      "execution_count": 0,
      "outputs": [
        {
          "output_type": "stream",
          "text": [
            "Digite a temperatura em graus Celsius: 28\n",
            "A temperatura em graus de Farenheit é de 82.4\n"
          ],
          "name": "stdout"
        }
      ]
    },
    {
      "cell_type": "markdown",
      "metadata": {
        "id": "sB0FAjnAoytI",
        "colab_type": "text"
      },
      "source": [
        "### 11- Faça um Programa que peça 2 números inteiros e um número real. Calcule e mostre:\n",
        "\n",
        "---\n",
        "\n",
        "### a) o produto do dobro do primeiro com metade do segundo ."
      ]
    },
    {
      "cell_type": "code",
      "metadata": {
        "id": "AZ9mGkfB2CaQ",
        "colab_type": "code",
        "outputId": "f94b06a9-913c-4276-c58b-bc6e89df1f91",
        "colab": {
          "base_uri": "https://localhost:8080/",
          "height": 85
        }
      },
      "source": [
        "num1 = int(input('Digite o primeiro número inteiro: '))\n",
        "num2 = int(input('Digite o segundo número inteiro: '))\n",
        "num3 = float(input('Digite um número real: '))\n",
        "\n",
        "\n",
        "print('Letra a:', 2 * num1 * num2/2)\n"
      ],
      "execution_count": 0,
      "outputs": [
        {
          "output_type": "stream",
          "text": [
            "Digite o primeiro número inteiro: 5\n",
            "Digite o segundo número inteiro: 6\n",
            "Digite um número real: 2.5\n",
            "Letra a: 30.0\n"
          ],
          "name": "stdout"
        }
      ]
    },
    {
      "cell_type": "markdown",
      "metadata": {
        "id": "KbzcUDkt3IjY",
        "colab_type": "text"
      },
      "source": [
        "### b) a soma do triplo do primeiro com o terceiro.\n"
      ]
    },
    {
      "cell_type": "code",
      "metadata": {
        "id": "jTJ2w8Er3O1w",
        "colab_type": "code",
        "outputId": "ab69e695-ac3c-41af-da6e-794bc9ef38e8",
        "colab": {
          "base_uri": "https://localhost:8080/",
          "height": 34
        }
      },
      "source": [
        "print('Letra b:', 3*num1 + num3)"
      ],
      "execution_count": 0,
      "outputs": [
        {
          "output_type": "stream",
          "text": [
            "Letra c: 17.5\n"
          ],
          "name": "stdout"
        }
      ]
    },
    {
      "cell_type": "markdown",
      "metadata": {
        "id": "mWmonu1M3h2i",
        "colab_type": "text"
      },
      "source": [
        "### c) o terceiro elevado ao cubo."
      ]
    },
    {
      "cell_type": "code",
      "metadata": {
        "id": "YlRj34vz3m_a",
        "colab_type": "code",
        "outputId": "c2dff11f-34d0-4fb9-fad5-dfb2ab47cbac",
        "colab": {
          "base_uri": "https://localhost:8080/",
          "height": 34
        }
      },
      "source": [
        "print('Letra c:', num3 ** 3)"
      ],
      "execution_count": 0,
      "outputs": [
        {
          "output_type": "stream",
          "text": [
            "Letra c: 15.625\n"
          ],
          "name": "stdout"
        }
      ]
    }
  ]
}